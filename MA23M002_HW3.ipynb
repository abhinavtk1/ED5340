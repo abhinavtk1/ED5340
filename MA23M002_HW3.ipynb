{
  "nbformat": 4,
  "nbformat_minor": 0,
  "metadata": {
    "colab": {
      "provenance": [],
      "collapsed_sections": [
        "ueGx1gyBrYdM"
      ]
    },
    "kernelspec": {
      "name": "python3",
      "display_name": "Python 3"
    },
    "language_info": {
      "name": "python"
    }
  },
  "cells": [
    {
      "cell_type": "markdown",
      "source": [
        "# MA23M002 - HW 3 - Gaussian discriminant analysis"
      ],
      "metadata": {
        "id": "SuVI01QKEVS7"
      }
    },
    {
      "cell_type": "markdown",
      "source": [
        "# Q1"
      ],
      "metadata": {
        "id": "d_eashMGE5LT"
      }
    },
    {
      "cell_type": "markdown",
      "source": [
        "1)  Generate the data points for all classes c ∈ {0, . . . C − 1}, and compute\n",
        "the approximations ˆµc and Σˆ\n",
        "c that are based on the data points. Also,\n",
        "generate a second set of points, with known tlabels, hat will be used to test\n",
        "the classification function"
      ],
      "metadata": {
        "id": "LkUzLpdaETF1"
      }
    },
    {
      "cell_type": "code",
      "source": [
        "import numpy as np\n",
        "\n",
        "def getArtificialData(mean, cov, nx, nt):\n",
        "    x = np.random.multivariate_normal(mean, cov, nx)  # Generate data points\n",
        "\n",
        "    mu = np.mean(x, axis=0) # Mean on data points\n",
        "    sigma = np.cov(x.T) # Covariance of data points\n",
        "\n",
        "    t = np.random.multivariate_normal(mean, cov, nt)      # Generate test points\n",
        "    return x, t, mu, sigma"
      ],
      "metadata": {
        "id": "g5mYACOJET_W"
      },
      "execution_count": null,
      "outputs": []
    },
    {
      "cell_type": "code",
      "source": [
        "nx = [40, 80, 20]  # Number of data points\n",
        "nt = [10, 20, 5]   # Number of test points\n",
        "c = 3 # Total classes\n",
        "D = 2 # Total features\n",
        "mean = [[0, 0], [7, 5], [-5, 5]]     # Mean of the 3 classes\n",
        "cov = [[[2, 1], [1, 50]], [[3, 1], [1, 3]], [[5, 2], [2, 3]]] # Covariance of 3 classes"
      ],
      "metadata": {
        "id": "xPzBcZDShBx-"
      },
      "execution_count": null,
      "outputs": []
    },
    {
      "cell_type": "code",
      "source": [
        "# Store data of each classes\n",
        "data_dict = {}    # Each class with key Ci and value as list [data points, test points, mean, cov]\n",
        "for i in range(c):\n",
        "  x, t, mu, sigma = getArtificialData(mean[i], cov[i], nx[i], nt[i])\n",
        "  #print(len(t))\n",
        "  data_dict[\"C\"+str(i)] = [x, t, mu, sigma]"
      ],
      "metadata": {
        "id": "iI4xGvToLXHI"
      },
      "execution_count": null,
      "outputs": []
    },
    {
      "cell_type": "code",
      "source": [
        "# Merging the test points of each class into one long vector\n",
        "test_points = np.concatenate((data_dict[\"C0\"][1],data_dict[\"C1\"][1],data_dict[\"C2\"][1]))\n",
        "print(test_points.shape)"
      ],
      "metadata": {
        "colab": {
          "base_uri": "https://localhost:8080/"
        },
        "id": "zmZbdMLeOthU",
        "outputId": "78f0c4a7-0c07-404a-e532-b654b9f1c983"
      },
      "execution_count": null,
      "outputs": [
        {
          "output_type": "stream",
          "name": "stdout",
          "text": [
            "(35, 2)\n"
          ]
        }
      ]
    },
    {
      "cell_type": "code",
      "source": [],
      "metadata": {
        "id": "fACfrxPy3SSO"
      },
      "execution_count": null,
      "outputs": []
    },
    {
      "cell_type": "markdown",
      "source": [
        "# Q2"
      ],
      "metadata": {
        "id": "oOnIGiuxFFGc"
      }
    },
    {
      "cell_type": "markdown",
      "source": [
        "2)  Evaluate the multivariate Gaussian distribution on the test points of all\n",
        "classes to obtain the probabilities p(X = t|Y = c), where t runs through\n",
        "all test points and c runs through all classes."
      ],
      "metadata": {
        "id": "rgNXMGJuP9Xr"
      }
    },
    {
      "cell_type": "code",
      "source": [
        "import numpy as np\n",
        "import scipy\n",
        "\n",
        "def evaluateMultiVarGauss(t, mu, Sgm):\n",
        "    \"\"\"\n",
        "    Parameters:\n",
        "        t: t[n,d] is the d-th component of the n-th point\n",
        "        mu: mean\n",
        "        Sgm: covariance matrix\n",
        "    Returns:\n",
        "        p: p[n] is the probability density function at the n-th point.\n",
        "    \"\"\"\n",
        "    multivar_distribution = scipy.stats.multivariate_normal(mu, Sgm)  # Creating a multivariate normal distribution\n",
        "\n",
        "    # Calculate the probability density function for each test points and storing them in list p\n",
        "    p = []\n",
        "    for i in range(t.shape[0]):\n",
        "        pdf_val = multivar_distribution.pdf(t[i])\n",
        "        p.append(pdf_val)\n",
        "    return p"
      ],
      "metadata": {
        "id": "9LdCI2f5OteI"
      },
      "execution_count": null,
      "outputs": []
    },
    {
      "cell_type": "code",
      "source": [
        "# Evaluating the multivariate Gaussian distribution on the test points for Class 0\n",
        "mu = data_dict['C0'][2]\n",
        "sigma = data_dict['C0'][3]\n",
        "# Probabilities of test points w.r.t C0\n",
        "p_list0 = evaluateMultiVarGauss(test_points, mu, sigma)"
      ],
      "metadata": {
        "id": "4WPTw1q3y1T1"
      },
      "execution_count": null,
      "outputs": []
    },
    {
      "cell_type": "code",
      "source": [
        "# Evaluating the multivariate Gaussian distribution on the test points for Class 1\n",
        "mu = data_dict['C1'][2]\n",
        "sigma = data_dict['C1'][3]\n",
        "# Probabilities of test points w.r.t C1\n",
        "p_list1 = evaluateMultiVarGauss(test_points, mu, sigma)"
      ],
      "metadata": {
        "id": "2MXCVqid2fEm"
      },
      "execution_count": null,
      "outputs": []
    },
    {
      "cell_type": "code",
      "source": [
        "# Evaluating the multivariate Gaussian distribution on the test points for Class 2\n",
        "mu = data_dict['C2'][2]\n",
        "sigma = data_dict['C2'][3]\n",
        "# Probabilities of test points w.r.t C2\n",
        "p_list2 = evaluateMultiVarGauss(test_points, mu, sigma)"
      ],
      "metadata": {
        "id": "LZVpe3-n2fLM"
      },
      "execution_count": null,
      "outputs": []
    },
    {
      "cell_type": "code",
      "source": [
        "# Showing the probabilities of testpoints for each class\n",
        "import pandas as pd\n",
        "data = {'Class 0': p_list0, 'Class 1': p_list1, 'Class 2': p_list2}\n",
        "df = pd.DataFrame(data)"
      ],
      "metadata": {
        "id": "7xTH1DWK3X-S"
      },
      "execution_count": null,
      "outputs": []
    },
    {
      "cell_type": "code",
      "source": [
        "df"
      ],
      "metadata": {
        "colab": {
          "base_uri": "https://localhost:8080/",
          "height": 1000
        },
        "id": "xY60QoTY36cK",
        "outputId": "6aeb665e-71ac-4c3d-88a1-b102a72ff167"
      },
      "execution_count": null,
      "outputs": [
        {
          "output_type": "execute_result",
          "data": {
            "text/plain": [
              "         Class 0       Class 1       Class 2\n",
              "0   5.422797e-04  7.919291e-07  4.505025e-04\n",
              "1   5.951074e-04  6.927263e-03  9.499317e-15\n",
              "2   8.432732e-03  3.240793e-06  5.064477e-04\n",
              "3   1.496501e-02  1.709936e-06  1.016669e-14\n",
              "4   1.999488e-02  1.248193e-06  3.744651e-22\n",
              "5   1.534815e-02  5.108150e-06  1.604745e-10\n",
              "6   2.930024e-03  1.179468e-09  3.497997e-02\n",
              "7   1.450922e-02  6.713828e-06  6.843184e-08\n",
              "8   9.199138e-03  8.505535e-07  1.185295e-07\n",
              "9   1.661811e-02  6.763396e-06  8.761069e-26\n",
              "10  2.383635e-11  2.691552e-02  7.237445e-26\n",
              "11  1.310101e-08  2.756716e-02  5.621490e-14\n",
              "12  7.943587e-05  1.126567e-02  8.615880e-12\n",
              "13  2.778853e-12  1.579040e-02  2.457917e-16\n",
              "14  2.819581e-09  5.124012e-02  1.603674e-19\n",
              "15  2.171354e-09  3.784064e-02  1.314099e-23\n",
              "16  8.736537e-08  9.611532e-03  1.111723e-28\n",
              "17  2.470958e-11  2.982463e-02  1.989177e-17\n",
              "18  7.843375e-07  1.236725e-02  4.434386e-11\n",
              "19  1.532970e-14  1.700107e-02  3.758357e-23\n",
              "20  1.786370e-08  5.111680e-02  2.006209e-19\n",
              "21  1.053513e-08  1.689157e-03  1.240627e-09\n",
              "22  5.188069e-14  1.887611e-02  6.571290e-25\n",
              "23  2.786851e-09  4.781836e-02  1.307165e-17\n",
              "24  7.201946e-07  2.365792e-02  8.731330e-13\n",
              "25  3.255096e-12  1.660471e-02  2.135083e-16\n",
              "26  4.363654e-14  1.827871e-02  4.423501e-21\n",
              "27  2.386557e-08  4.135770e-02  4.367471e-22\n",
              "28  1.661945e-12  1.887807e-02  2.006142e-27\n",
              "29  4.074538e-13  2.558179e-02  1.552235e-23\n",
              "30  1.637279e-03  8.374692e-11  4.482235e-02\n",
              "31  3.830841e-08  2.989097e-16  2.941022e-02\n",
              "32  5.710129e-04  8.444969e-10  1.661323e-03\n",
              "33  1.097070e-03  6.103906e-10  2.076296e-02\n",
              "34  9.783498e-04  6.627996e-11  5.627460e-02"
            ],
            "text/html": [
              "\n",
              "  <div id=\"df-e8e5fb95-4906-4cab-9473-82a07ae91e98\" class=\"colab-df-container\">\n",
              "    <div>\n",
              "<style scoped>\n",
              "    .dataframe tbody tr th:only-of-type {\n",
              "        vertical-align: middle;\n",
              "    }\n",
              "\n",
              "    .dataframe tbody tr th {\n",
              "        vertical-align: top;\n",
              "    }\n",
              "\n",
              "    .dataframe thead th {\n",
              "        text-align: right;\n",
              "    }\n",
              "</style>\n",
              "<table border=\"1\" class=\"dataframe\">\n",
              "  <thead>\n",
              "    <tr style=\"text-align: right;\">\n",
              "      <th></th>\n",
              "      <th>Class 0</th>\n",
              "      <th>Class 1</th>\n",
              "      <th>Class 2</th>\n",
              "    </tr>\n",
              "  </thead>\n",
              "  <tbody>\n",
              "    <tr>\n",
              "      <th>0</th>\n",
              "      <td>5.422797e-04</td>\n",
              "      <td>7.919291e-07</td>\n",
              "      <td>4.505025e-04</td>\n",
              "    </tr>\n",
              "    <tr>\n",
              "      <th>1</th>\n",
              "      <td>5.951074e-04</td>\n",
              "      <td>6.927263e-03</td>\n",
              "      <td>9.499317e-15</td>\n",
              "    </tr>\n",
              "    <tr>\n",
              "      <th>2</th>\n",
              "      <td>8.432732e-03</td>\n",
              "      <td>3.240793e-06</td>\n",
              "      <td>5.064477e-04</td>\n",
              "    </tr>\n",
              "    <tr>\n",
              "      <th>3</th>\n",
              "      <td>1.496501e-02</td>\n",
              "      <td>1.709936e-06</td>\n",
              "      <td>1.016669e-14</td>\n",
              "    </tr>\n",
              "    <tr>\n",
              "      <th>4</th>\n",
              "      <td>1.999488e-02</td>\n",
              "      <td>1.248193e-06</td>\n",
              "      <td>3.744651e-22</td>\n",
              "    </tr>\n",
              "    <tr>\n",
              "      <th>5</th>\n",
              "      <td>1.534815e-02</td>\n",
              "      <td>5.108150e-06</td>\n",
              "      <td>1.604745e-10</td>\n",
              "    </tr>\n",
              "    <tr>\n",
              "      <th>6</th>\n",
              "      <td>2.930024e-03</td>\n",
              "      <td>1.179468e-09</td>\n",
              "      <td>3.497997e-02</td>\n",
              "    </tr>\n",
              "    <tr>\n",
              "      <th>7</th>\n",
              "      <td>1.450922e-02</td>\n",
              "      <td>6.713828e-06</td>\n",
              "      <td>6.843184e-08</td>\n",
              "    </tr>\n",
              "    <tr>\n",
              "      <th>8</th>\n",
              "      <td>9.199138e-03</td>\n",
              "      <td>8.505535e-07</td>\n",
              "      <td>1.185295e-07</td>\n",
              "    </tr>\n",
              "    <tr>\n",
              "      <th>9</th>\n",
              "      <td>1.661811e-02</td>\n",
              "      <td>6.763396e-06</td>\n",
              "      <td>8.761069e-26</td>\n",
              "    </tr>\n",
              "    <tr>\n",
              "      <th>10</th>\n",
              "      <td>2.383635e-11</td>\n",
              "      <td>2.691552e-02</td>\n",
              "      <td>7.237445e-26</td>\n",
              "    </tr>\n",
              "    <tr>\n",
              "      <th>11</th>\n",
              "      <td>1.310101e-08</td>\n",
              "      <td>2.756716e-02</td>\n",
              "      <td>5.621490e-14</td>\n",
              "    </tr>\n",
              "    <tr>\n",
              "      <th>12</th>\n",
              "      <td>7.943587e-05</td>\n",
              "      <td>1.126567e-02</td>\n",
              "      <td>8.615880e-12</td>\n",
              "    </tr>\n",
              "    <tr>\n",
              "      <th>13</th>\n",
              "      <td>2.778853e-12</td>\n",
              "      <td>1.579040e-02</td>\n",
              "      <td>2.457917e-16</td>\n",
              "    </tr>\n",
              "    <tr>\n",
              "      <th>14</th>\n",
              "      <td>2.819581e-09</td>\n",
              "      <td>5.124012e-02</td>\n",
              "      <td>1.603674e-19</td>\n",
              "    </tr>\n",
              "    <tr>\n",
              "      <th>15</th>\n",
              "      <td>2.171354e-09</td>\n",
              "      <td>3.784064e-02</td>\n",
              "      <td>1.314099e-23</td>\n",
              "    </tr>\n",
              "    <tr>\n",
              "      <th>16</th>\n",
              "      <td>8.736537e-08</td>\n",
              "      <td>9.611532e-03</td>\n",
              "      <td>1.111723e-28</td>\n",
              "    </tr>\n",
              "    <tr>\n",
              "      <th>17</th>\n",
              "      <td>2.470958e-11</td>\n",
              "      <td>2.982463e-02</td>\n",
              "      <td>1.989177e-17</td>\n",
              "    </tr>\n",
              "    <tr>\n",
              "      <th>18</th>\n",
              "      <td>7.843375e-07</td>\n",
              "      <td>1.236725e-02</td>\n",
              "      <td>4.434386e-11</td>\n",
              "    </tr>\n",
              "    <tr>\n",
              "      <th>19</th>\n",
              "      <td>1.532970e-14</td>\n",
              "      <td>1.700107e-02</td>\n",
              "      <td>3.758357e-23</td>\n",
              "    </tr>\n",
              "    <tr>\n",
              "      <th>20</th>\n",
              "      <td>1.786370e-08</td>\n",
              "      <td>5.111680e-02</td>\n",
              "      <td>2.006209e-19</td>\n",
              "    </tr>\n",
              "    <tr>\n",
              "      <th>21</th>\n",
              "      <td>1.053513e-08</td>\n",
              "      <td>1.689157e-03</td>\n",
              "      <td>1.240627e-09</td>\n",
              "    </tr>\n",
              "    <tr>\n",
              "      <th>22</th>\n",
              "      <td>5.188069e-14</td>\n",
              "      <td>1.887611e-02</td>\n",
              "      <td>6.571290e-25</td>\n",
              "    </tr>\n",
              "    <tr>\n",
              "      <th>23</th>\n",
              "      <td>2.786851e-09</td>\n",
              "      <td>4.781836e-02</td>\n",
              "      <td>1.307165e-17</td>\n",
              "    </tr>\n",
              "    <tr>\n",
              "      <th>24</th>\n",
              "      <td>7.201946e-07</td>\n",
              "      <td>2.365792e-02</td>\n",
              "      <td>8.731330e-13</td>\n",
              "    </tr>\n",
              "    <tr>\n",
              "      <th>25</th>\n",
              "      <td>3.255096e-12</td>\n",
              "      <td>1.660471e-02</td>\n",
              "      <td>2.135083e-16</td>\n",
              "    </tr>\n",
              "    <tr>\n",
              "      <th>26</th>\n",
              "      <td>4.363654e-14</td>\n",
              "      <td>1.827871e-02</td>\n",
              "      <td>4.423501e-21</td>\n",
              "    </tr>\n",
              "    <tr>\n",
              "      <th>27</th>\n",
              "      <td>2.386557e-08</td>\n",
              "      <td>4.135770e-02</td>\n",
              "      <td>4.367471e-22</td>\n",
              "    </tr>\n",
              "    <tr>\n",
              "      <th>28</th>\n",
              "      <td>1.661945e-12</td>\n",
              "      <td>1.887807e-02</td>\n",
              "      <td>2.006142e-27</td>\n",
              "    </tr>\n",
              "    <tr>\n",
              "      <th>29</th>\n",
              "      <td>4.074538e-13</td>\n",
              "      <td>2.558179e-02</td>\n",
              "      <td>1.552235e-23</td>\n",
              "    </tr>\n",
              "    <tr>\n",
              "      <th>30</th>\n",
              "      <td>1.637279e-03</td>\n",
              "      <td>8.374692e-11</td>\n",
              "      <td>4.482235e-02</td>\n",
              "    </tr>\n",
              "    <tr>\n",
              "      <th>31</th>\n",
              "      <td>3.830841e-08</td>\n",
              "      <td>2.989097e-16</td>\n",
              "      <td>2.941022e-02</td>\n",
              "    </tr>\n",
              "    <tr>\n",
              "      <th>32</th>\n",
              "      <td>5.710129e-04</td>\n",
              "      <td>8.444969e-10</td>\n",
              "      <td>1.661323e-03</td>\n",
              "    </tr>\n",
              "    <tr>\n",
              "      <th>33</th>\n",
              "      <td>1.097070e-03</td>\n",
              "      <td>6.103906e-10</td>\n",
              "      <td>2.076296e-02</td>\n",
              "    </tr>\n",
              "    <tr>\n",
              "      <th>34</th>\n",
              "      <td>9.783498e-04</td>\n",
              "      <td>6.627996e-11</td>\n",
              "      <td>5.627460e-02</td>\n",
              "    </tr>\n",
              "  </tbody>\n",
              "</table>\n",
              "</div>\n",
              "    <div class=\"colab-df-buttons\">\n",
              "\n",
              "  <div class=\"colab-df-container\">\n",
              "    <button class=\"colab-df-convert\" onclick=\"convertToInteractive('df-e8e5fb95-4906-4cab-9473-82a07ae91e98')\"\n",
              "            title=\"Convert this dataframe to an interactive table.\"\n",
              "            style=\"display:none;\">\n",
              "\n",
              "  <svg xmlns=\"http://www.w3.org/2000/svg\" height=\"24px\" viewBox=\"0 -960 960 960\">\n",
              "    <path d=\"M120-120v-720h720v720H120Zm60-500h600v-160H180v160Zm220 220h160v-160H400v160Zm0 220h160v-160H400v160ZM180-400h160v-160H180v160Zm440 0h160v-160H620v160ZM180-180h160v-160H180v160Zm440 0h160v-160H620v160Z\"/>\n",
              "  </svg>\n",
              "    </button>\n",
              "\n",
              "  <style>\n",
              "    .colab-df-container {\n",
              "      display:flex;\n",
              "      gap: 12px;\n",
              "    }\n",
              "\n",
              "    .colab-df-convert {\n",
              "      background-color: #E8F0FE;\n",
              "      border: none;\n",
              "      border-radius: 50%;\n",
              "      cursor: pointer;\n",
              "      display: none;\n",
              "      fill: #1967D2;\n",
              "      height: 32px;\n",
              "      padding: 0 0 0 0;\n",
              "      width: 32px;\n",
              "    }\n",
              "\n",
              "    .colab-df-convert:hover {\n",
              "      background-color: #E2EBFA;\n",
              "      box-shadow: 0px 1px 2px rgba(60, 64, 67, 0.3), 0px 1px 3px 1px rgba(60, 64, 67, 0.15);\n",
              "      fill: #174EA6;\n",
              "    }\n",
              "\n",
              "    .colab-df-buttons div {\n",
              "      margin-bottom: 4px;\n",
              "    }\n",
              "\n",
              "    [theme=dark] .colab-df-convert {\n",
              "      background-color: #3B4455;\n",
              "      fill: #D2E3FC;\n",
              "    }\n",
              "\n",
              "    [theme=dark] .colab-df-convert:hover {\n",
              "      background-color: #434B5C;\n",
              "      box-shadow: 0px 1px 3px 1px rgba(0, 0, 0, 0.15);\n",
              "      filter: drop-shadow(0px 1px 2px rgba(0, 0, 0, 0.3));\n",
              "      fill: #FFFFFF;\n",
              "    }\n",
              "  </style>\n",
              "\n",
              "    <script>\n",
              "      const buttonEl =\n",
              "        document.querySelector('#df-e8e5fb95-4906-4cab-9473-82a07ae91e98 button.colab-df-convert');\n",
              "      buttonEl.style.display =\n",
              "        google.colab.kernel.accessAllowed ? 'block' : 'none';\n",
              "\n",
              "      async function convertToInteractive(key) {\n",
              "        const element = document.querySelector('#df-e8e5fb95-4906-4cab-9473-82a07ae91e98');\n",
              "        const dataTable =\n",
              "          await google.colab.kernel.invokeFunction('convertToInteractive',\n",
              "                                                    [key], {});\n",
              "        if (!dataTable) return;\n",
              "\n",
              "        const docLinkHtml = 'Like what you see? Visit the ' +\n",
              "          '<a target=\"_blank\" href=https://colab.research.google.com/notebooks/data_table.ipynb>data table notebook</a>'\n",
              "          + ' to learn more about interactive tables.';\n",
              "        element.innerHTML = '';\n",
              "        dataTable['output_type'] = 'display_data';\n",
              "        await google.colab.output.renderOutput(dataTable, element);\n",
              "        const docLink = document.createElement('div');\n",
              "        docLink.innerHTML = docLinkHtml;\n",
              "        element.appendChild(docLink);\n",
              "      }\n",
              "    </script>\n",
              "  </div>\n",
              "\n",
              "\n",
              "<div id=\"df-1d07ef81-108f-4050-8750-28b7f9e9e10b\">\n",
              "  <button class=\"colab-df-quickchart\" onclick=\"quickchart('df-1d07ef81-108f-4050-8750-28b7f9e9e10b')\"\n",
              "            title=\"Suggest charts\"\n",
              "            style=\"display:none;\">\n",
              "\n",
              "<svg xmlns=\"http://www.w3.org/2000/svg\" height=\"24px\"viewBox=\"0 0 24 24\"\n",
              "     width=\"24px\">\n",
              "    <g>\n",
              "        <path d=\"M19 3H5c-1.1 0-2 .9-2 2v14c0 1.1.9 2 2 2h14c1.1 0 2-.9 2-2V5c0-1.1-.9-2-2-2zM9 17H7v-7h2v7zm4 0h-2V7h2v10zm4 0h-2v-4h2v4z\"/>\n",
              "    </g>\n",
              "</svg>\n",
              "  </button>\n",
              "\n",
              "<style>\n",
              "  .colab-df-quickchart {\n",
              "      --bg-color: #E8F0FE;\n",
              "      --fill-color: #1967D2;\n",
              "      --hover-bg-color: #E2EBFA;\n",
              "      --hover-fill-color: #174EA6;\n",
              "      --disabled-fill-color: #AAA;\n",
              "      --disabled-bg-color: #DDD;\n",
              "  }\n",
              "\n",
              "  [theme=dark] .colab-df-quickchart {\n",
              "      --bg-color: #3B4455;\n",
              "      --fill-color: #D2E3FC;\n",
              "      --hover-bg-color: #434B5C;\n",
              "      --hover-fill-color: #FFFFFF;\n",
              "      --disabled-bg-color: #3B4455;\n",
              "      --disabled-fill-color: #666;\n",
              "  }\n",
              "\n",
              "  .colab-df-quickchart {\n",
              "    background-color: var(--bg-color);\n",
              "    border: none;\n",
              "    border-radius: 50%;\n",
              "    cursor: pointer;\n",
              "    display: none;\n",
              "    fill: var(--fill-color);\n",
              "    height: 32px;\n",
              "    padding: 0;\n",
              "    width: 32px;\n",
              "  }\n",
              "\n",
              "  .colab-df-quickchart:hover {\n",
              "    background-color: var(--hover-bg-color);\n",
              "    box-shadow: 0 1px 2px rgba(60, 64, 67, 0.3), 0 1px 3px 1px rgba(60, 64, 67, 0.15);\n",
              "    fill: var(--button-hover-fill-color);\n",
              "  }\n",
              "\n",
              "  .colab-df-quickchart-complete:disabled,\n",
              "  .colab-df-quickchart-complete:disabled:hover {\n",
              "    background-color: var(--disabled-bg-color);\n",
              "    fill: var(--disabled-fill-color);\n",
              "    box-shadow: none;\n",
              "  }\n",
              "\n",
              "  .colab-df-spinner {\n",
              "    border: 2px solid var(--fill-color);\n",
              "    border-color: transparent;\n",
              "    border-bottom-color: var(--fill-color);\n",
              "    animation:\n",
              "      spin 1s steps(1) infinite;\n",
              "  }\n",
              "\n",
              "  @keyframes spin {\n",
              "    0% {\n",
              "      border-color: transparent;\n",
              "      border-bottom-color: var(--fill-color);\n",
              "      border-left-color: var(--fill-color);\n",
              "    }\n",
              "    20% {\n",
              "      border-color: transparent;\n",
              "      border-left-color: var(--fill-color);\n",
              "      border-top-color: var(--fill-color);\n",
              "    }\n",
              "    30% {\n",
              "      border-color: transparent;\n",
              "      border-left-color: var(--fill-color);\n",
              "      border-top-color: var(--fill-color);\n",
              "      border-right-color: var(--fill-color);\n",
              "    }\n",
              "    40% {\n",
              "      border-color: transparent;\n",
              "      border-right-color: var(--fill-color);\n",
              "      border-top-color: var(--fill-color);\n",
              "    }\n",
              "    60% {\n",
              "      border-color: transparent;\n",
              "      border-right-color: var(--fill-color);\n",
              "    }\n",
              "    80% {\n",
              "      border-color: transparent;\n",
              "      border-right-color: var(--fill-color);\n",
              "      border-bottom-color: var(--fill-color);\n",
              "    }\n",
              "    90% {\n",
              "      border-color: transparent;\n",
              "      border-bottom-color: var(--fill-color);\n",
              "    }\n",
              "  }\n",
              "</style>\n",
              "\n",
              "  <script>\n",
              "    async function quickchart(key) {\n",
              "      const quickchartButtonEl =\n",
              "        document.querySelector('#' + key + ' button');\n",
              "      quickchartButtonEl.disabled = true;  // To prevent multiple clicks.\n",
              "      quickchartButtonEl.classList.add('colab-df-spinner');\n",
              "      try {\n",
              "        const charts = await google.colab.kernel.invokeFunction(\n",
              "            'suggestCharts', [key], {});\n",
              "      } catch (error) {\n",
              "        console.error('Error during call to suggestCharts:', error);\n",
              "      }\n",
              "      quickchartButtonEl.classList.remove('colab-df-spinner');\n",
              "      quickchartButtonEl.classList.add('colab-df-quickchart-complete');\n",
              "    }\n",
              "    (() => {\n",
              "      let quickchartButtonEl =\n",
              "        document.querySelector('#df-1d07ef81-108f-4050-8750-28b7f9e9e10b button');\n",
              "      quickchartButtonEl.style.display =\n",
              "        google.colab.kernel.accessAllowed ? 'block' : 'none';\n",
              "    })();\n",
              "  </script>\n",
              "</div>\n",
              "    </div>\n",
              "  </div>\n"
            ],
            "application/vnd.google.colaboratory.intrinsic+json": {
              "type": "dataframe",
              "variable_name": "df",
              "summary": "{\n  \"name\": \"df\",\n  \"rows\": 35,\n  \"fields\": [\n    {\n      \"column\": \"Class 0\",\n      \"properties\": {\n        \"dtype\": \"number\",\n        \"std\": 0.0059060237242879845,\n        \"min\": 1.5329702314101068e-14,\n        \"max\": 0.019994876047205668,\n        \"num_unique_values\": 35,\n        \"samples\": [\n          4.363653526879026e-14,\n          2.7788529478492683e-12,\n          7.201946060709504e-07\n        ],\n        \"semantic_type\": \"\",\n        \"description\": \"\"\n      }\n    },\n    {\n      \"column\": \"Class 1\",\n      \"properties\": {\n        \"dtype\": \"number\",\n        \"std\": 0.0163609215091723,\n        \"min\": 2.9890973998678284e-16,\n        \"max\": 0.051240116620227816,\n        \"num_unique_values\": 35,\n        \"samples\": [\n          0.01827871439569389,\n          0.01579039722701182,\n          0.023657921359245555\n        ],\n        \"semantic_type\": \"\",\n        \"description\": \"\"\n      }\n    },\n    {\n      \"column\": \"Class 2\",\n      \"properties\": {\n        \"dtype\": \"number\",\n        \"std\": 0.014016347532529769,\n        \"min\": 1.1117230874447593e-28,\n        \"max\": 0.05627460059518408,\n        \"num_unique_values\": 35,\n        \"samples\": [\n          4.423500835000534e-21,\n          2.4579165820727188e-16,\n          8.731330190408775e-13\n        ],\n        \"semantic_type\": \"\",\n        \"description\": \"\"\n      }\n    }\n  ]\n}"
            }
          },
          "metadata": {},
          "execution_count": 10
        }
      ]
    },
    {
      "cell_type": "markdown",
      "source": [],
      "metadata": {
        "id": "zzEZFwC9Oscv"
      }
    },
    {
      "cell_type": "code",
      "source": [],
      "metadata": {
        "id": "sx0zsPJZQs7i"
      },
      "execution_count": null,
      "outputs": []
    },
    {
      "cell_type": "markdown",
      "source": [
        "# Q3"
      ],
      "metadata": {
        "id": "HQzgNtpCFIy7"
      }
    },
    {
      "cell_type": "markdown",
      "source": [
        "3) Compute the probabilities p(Y = c|X = t) on the test points using Bayes’\n",
        "formula and for every test point find the value of c with the maximal probability"
      ],
      "metadata": {
        "id": "VLKLilFTQPao"
      }
    },
    {
      "cell_type": "code",
      "source": [
        "def calculateTestSet(t, pXY, yEx):\n",
        "    \"\"\"\n",
        "    Calculate the test set results and count mislabelled points.\n",
        "\n",
        "    Parameters:\n",
        "        t:  coordinates of the test points: t[n,d]\n",
        "        pXY: conditional probabilities: pXY[n,c]\n",
        "        yEx:  exact labels of the test points: y[n]\n",
        "        classProb: Probability of each class P(c=ci)\n",
        "    Returns:\n",
        "        predictedProb: classProbs[n] - probability of each class for point t[n] - [pC1, pC2, pC3]\n",
        "        predictedClass: class where the point t[n] belongs to - (by finding max probability among 3 classes)\n",
        "        misClass: # of mislabelled points\n",
        "    \"\"\"\n",
        "    # Calculate class probabilities\n",
        "    _, counts = np.unique(yEx, return_counts=True)\n",
        "    classProb = counts / len(yEx)\n",
        "\n",
        "    predictedProb = []\n",
        "    predictedClass = []\n",
        "    misClass = 0\n",
        "\n",
        "    for i in range(len(t)):\n",
        "      denom = pXY[i][0]*classProb[0]+pXY[i][1]*classProb[1]+pXY[i][2]*classProb[2]\n",
        "      pC1 = (pXY[i][0]*classProb[0])/denom\n",
        "      pC2 = (pXY[i][1]*classProb[1])/denom\n",
        "      pC3 = (pXY[i][2]*classProb[2])/denom\n",
        "      if pC1 > pC2 and pC1 > pC3:\n",
        "        cls = 0\n",
        "      elif pC2 > pC3 and pC2 > pC1:\n",
        "        cls = 1\n",
        "      else:\n",
        "        cls = 2\n",
        "      predictedProb.append([pC1, pC2, pC3])\n",
        "      predictedClass.append(cls)\n",
        "      if cls!= yEx[i]:\n",
        "        misClass += 1\n",
        "    return predictedProb, predictedClass, misClass"
      ],
      "metadata": {
        "id": "OEwE7ZW8QQdb"
      },
      "execution_count": null,
      "outputs": []
    },
    {
      "cell_type": "code",
      "source": [
        "# Conditional probabilities pXY -\n",
        "pXY = df.values\n",
        "# Exact labels yEx -\n",
        "yEx = np.concatenate(([0]*10, [1]*20, [2]*5))"
      ],
      "metadata": {
        "id": "nXvS_gntQxXV"
      },
      "execution_count": null,
      "outputs": []
    },
    {
      "cell_type": "code",
      "source": [
        "_, predicted_cls, misClass = calculateTestSet(test_points, pXY, yEx)"
      ],
      "metadata": {
        "id": "-FfkZYvb7Gdf"
      },
      "execution_count": null,
      "outputs": []
    },
    {
      "cell_type": "code",
      "source": [
        "print(f\"\\nNumber of misclassified points: {misClass}\")"
      ],
      "metadata": {
        "colab": {
          "base_uri": "https://localhost:8080/"
        },
        "id": "TOIcxKFvKZ2o",
        "outputId": "445570fc-0593-489d-89e1-5b0b0aa6ae9f"
      },
      "execution_count": null,
      "outputs": [
        {
          "output_type": "stream",
          "name": "stdout",
          "text": [
            "\n",
            "Number of misclassified points: 2\n"
          ]
        }
      ]
    },
    {
      "cell_type": "markdown",
      "source": [
        " Testing tied covariances (i.e., linear decision boundaries) calculated using give equation $\\frac{1}{N}\\sum_{c} N_cSgm_c$"
      ],
      "metadata": {
        "id": "L6i3yPE1LgMf"
      }
    },
    {
      "cell_type": "code",
      "source": [
        "tied_cov = (2*data_dict['C0'][3] + 4*data_dict['C1'][3] + data_dict['C2'][3])/7        # {N0/N, N1/N, N2/N} = {2/7, 4/7, 1/7}\n",
        "print(tied_cov)"
      ],
      "metadata": {
        "colab": {
          "base_uri": "https://localhost:8080/"
        },
        "id": "CfmWXTo2MI-P",
        "outputId": "a96b0a08-87ac-4ee4-b9e1-d3e75acbdc94"
      },
      "execution_count": null,
      "outputs": [
        {
          "output_type": "stream",
          "name": "stdout",
          "text": [
            "[[ 3.14352333  0.68247902]\n",
            " [ 0.68247902 11.06787416]]\n"
          ]
        }
      ]
    },
    {
      "cell_type": "code",
      "source": [
        "# Evaluating the multivariate Gaussian distribution on the test points for Class 0 with tied covariances...\n",
        "mu = data_dict['C0'][2]\n",
        "sigma = tied_cov\n",
        "# Probabilities of test points w.r.t C0\n",
        "p_list0 = evaluateMultiVarGauss(test_points, mu, sigma)"
      ],
      "metadata": {
        "id": "bA75XapzO_96"
      },
      "execution_count": null,
      "outputs": []
    },
    {
      "cell_type": "code",
      "source": [
        "# Evaluating the multivariate Gaussian distribution on the test points for Class 1\n",
        "mu = data_dict['C1'][2]\n",
        "sigma = tied_cov\n",
        "# Probabilities of test points w.r.t C1\n",
        "p_list1 = evaluateMultiVarGauss(test_points, mu, sigma)"
      ],
      "metadata": {
        "id": "D0-X85RHO_96"
      },
      "execution_count": null,
      "outputs": []
    },
    {
      "cell_type": "code",
      "source": [
        "# Evaluating the multivariate Gaussian distribution on the test points for Class 2\n",
        "mu = data_dict['C2'][2]\n",
        "sigma = tied_cov\n",
        "# Probabilities of test points w.r.t C2\n",
        "p_list2 = evaluateMultiVarGauss(test_points, mu, sigma)"
      ],
      "metadata": {
        "id": "cYyEYjdzO_97"
      },
      "execution_count": null,
      "outputs": []
    },
    {
      "cell_type": "code",
      "source": [
        "pXY = np.column_stack((p_list0, p_list1, p_list2))\n",
        "pXY.shape"
      ],
      "metadata": {
        "colab": {
          "base_uri": "https://localhost:8080/"
        },
        "id": "vm47lIl5PmJL",
        "outputId": "bb8914f5-7d26-4e23-9853-eb1656bd8e00"
      },
      "execution_count": null,
      "outputs": [
        {
          "output_type": "execute_result",
          "data": {
            "text/plain": [
              "(35, 3)"
            ]
          },
          "metadata": {},
          "execution_count": 19
        }
      ]
    },
    {
      "cell_type": "code",
      "source": [
        "_, predicted_cls_tied, misClass_tied = calculateTestSet(test_points, pXY, yEx)"
      ],
      "metadata": {
        "id": "ATb7ecvbPOEE"
      },
      "execution_count": null,
      "outputs": []
    },
    {
      "cell_type": "code",
      "source": [
        "print(f\"\\nNumber of misclassified points with tied covariance: {misClass_tied}\")"
      ],
      "metadata": {
        "colab": {
          "base_uri": "https://localhost:8080/"
        },
        "id": "SlKeiokxPk0S",
        "outputId": "15d8c0ed-1f5e-48ce-c61a-77f5f1b7ef37"
      },
      "execution_count": null,
      "outputs": [
        {
          "output_type": "stream",
          "name": "stdout",
          "text": [
            "\n",
            "Number of misclassified points with tied covariance: 3\n"
          ]
        }
      ]
    },
    {
      "cell_type": "code",
      "source": [],
      "metadata": {
        "id": "pj_8THLWRgbj"
      },
      "execution_count": null,
      "outputs": []
    },
    {
      "cell_type": "markdown",
      "source": [
        "(3) Test the methodology on the iris data set, that was mentioned in the lecture.\n"
      ],
      "metadata": {
        "id": "Q4LQiwPhR9FZ"
      }
    },
    {
      "cell_type": "code",
      "source": [
        "from sklearn.datasets import load_iris\n",
        "iris = load_iris()\n",
        "iris_data = iris.data"
      ],
      "metadata": {
        "id": "kf2I8sQzR-Bk"
      },
      "execution_count": null,
      "outputs": []
    },
    {
      "cell_type": "code",
      "source": [
        "def getIrisData(data):\n",
        "  x = data[:40,:]         # data points\n",
        "  mu = np.mean(x, axis=0) # Mean on data points\n",
        "  sigma = np.cov(x.T)     # Covariance of data points\n",
        "  t = data[40:50,:]       # test points\n",
        "  return [x, t, mu, sigma]"
      ],
      "metadata": {
        "id": "f7Mnm8wHfIBs"
      },
      "execution_count": null,
      "outputs": []
    },
    {
      "cell_type": "code",
      "source": [
        "# Store data of each classes\n",
        "iris_data_dict = {}    # Each class with key Ci and value as list [data points, test points, mean, cov]\n",
        "iris_data_dict[\"C0\"] = getIrisData(iris_data[:50,:])\n",
        "iris_data_dict[\"C1\"] = getIrisData(iris_data[50:100,:])\n",
        "iris_data_dict[\"C2\"] = getIrisData(iris_data[100:150,:])"
      ],
      "metadata": {
        "id": "nYu5uGDAiNGI"
      },
      "execution_count": null,
      "outputs": []
    },
    {
      "cell_type": "code",
      "source": [
        "# Merging the test points of each class into one long vector\n",
        "iris_test_points = np.concatenate((iris_data_dict[\"C0\"][1],iris_data_dict[\"C1\"][1],iris_data_dict[\"C2\"][1]))\n",
        "print(iris_test_points.shape)"
      ],
      "metadata": {
        "colab": {
          "base_uri": "https://localhost:8080/"
        },
        "outputId": "176c0c50-eb6c-414c-e245-b51a5619a518",
        "id": "5siUPd0Ohni8"
      },
      "execution_count": null,
      "outputs": [
        {
          "output_type": "stream",
          "name": "stdout",
          "text": [
            "(30, 4)\n"
          ]
        }
      ]
    },
    {
      "cell_type": "code",
      "source": [
        "# Evaluating the multivariate Gaussian distribution on the iris test points\n",
        "iris_p_list0 = evaluateMultiVarGauss(iris_test_points, iris_data_dict[\"C0\"][2], iris_data_dict[\"C0\"][3])  # For class 0\n",
        "iris_p_list1 = evaluateMultiVarGauss(iris_test_points, iris_data_dict[\"C1\"][2], iris_data_dict[\"C1\"][3])  # For class 1\n",
        "iris_p_list2 = evaluateMultiVarGauss(iris_test_points, iris_data_dict[\"C2\"][2], iris_data_dict[\"C2\"][3])  # For class 2"
      ],
      "metadata": {
        "id": "o58Zg5qfjiOD"
      },
      "execution_count": null,
      "outputs": []
    },
    {
      "cell_type": "code",
      "source": [
        "# Conditional probabilities pXY -\n",
        "iris_pXY = np.array([iris_p_list0,iris_p_list1,iris_p_list2]).T\n",
        "print(iris_pXY.shape)"
      ],
      "metadata": {
        "colab": {
          "base_uri": "https://localhost:8080/"
        },
        "id": "4Uzq3TFXly-j",
        "outputId": "9fa66ee2-6744-4494-d16c-73f06a6e9e48"
      },
      "execution_count": null,
      "outputs": [
        {
          "output_type": "stream",
          "name": "stdout",
          "text": [
            "(30, 3)\n"
          ]
        }
      ]
    },
    {
      "cell_type": "code",
      "source": [
        "# Exact labels yEx -\n",
        "iris_yEx = np.concatenate(([0]*10, [1]*10, [2]*10))"
      ],
      "metadata": {
        "id": "F9SCxfWNm-IR"
      },
      "execution_count": null,
      "outputs": []
    },
    {
      "cell_type": "code",
      "source": [
        "_, iris_predicted_cls, iris_misClass = calculateTestSet(iris_test_points, iris_pXY, iris_yEx)"
      ],
      "metadata": {
        "id": "4c-kacxXnnJf"
      },
      "execution_count": null,
      "outputs": []
    },
    {
      "cell_type": "code",
      "source": [
        "print(f\"\\nNumber of misclassified points: {iris_misClass}\")"
      ],
      "metadata": {
        "colab": {
          "base_uri": "https://localhost:8080/"
        },
        "outputId": "c76c0751-6d18-4871-c8a7-8b6bbc111b7e",
        "id": "vG5CdFBDnnJg"
      },
      "execution_count": null,
      "outputs": [
        {
          "output_type": "stream",
          "name": "stdout",
          "text": [
            "\n",
            "Number of misclassified points: 0\n"
          ]
        }
      ]
    },
    {
      "cell_type": "markdown",
      "source": [
        "END OF HW 3\n",
        "\n"
      ],
      "metadata": {
        "id": "ueGx1gyBrYdM"
      }
    },
    {
      "cell_type": "code",
      "source": [],
      "metadata": {
        "id": "kgj_J8OMre-D"
      },
      "execution_count": null,
      "outputs": []
    }
  ]
}