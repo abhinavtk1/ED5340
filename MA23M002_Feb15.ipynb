{
  "nbformat": 4,
  "nbformat_minor": 0,
  "metadata": {
    "colab": {
      "provenance": []
    },
    "kernelspec": {
      "name": "python3",
      "display_name": "Python 3"
    },
    "language_info": {
      "name": "python"
    }
  },
  "cells": [
    {
      "cell_type": "code",
      "source": [
        "def var_arg(*abhi):   # variable length positional argument\n",
        "  for var in abhi:\n",
        "    print(var, type(var))"
      ],
      "metadata": {
        "id": "o1rr7Z9DDoJE"
      },
      "execution_count": null,
      "outputs": []
    },
    {
      "cell_type": "code",
      "source": [
        "var_arg(1,3,6,4)"
      ],
      "metadata": {
        "colab": {
          "base_uri": "https://localhost:8080/"
        },
        "id": "Hfnxe9RWErxl",
        "outputId": "86ece408-3e0d-4623-9ba8-8a62e0275bfd"
      },
      "execution_count": null,
      "outputs": [
        {
          "output_type": "stream",
          "name": "stdout",
          "text": [
            "1 <class 'int'>\n",
            "3 <class 'int'>\n",
            "6 <class 'int'>\n",
            "4 <class 'int'>\n"
          ]
        }
      ]
    },
    {
      "cell_type": "code",
      "source": [
        "def kwar_arg(**abhii):      # variable length keyword argument\n",
        "  for a, b in abhii.items():\n",
        "    print(a,b)\n"
      ],
      "metadata": {
        "id": "4TvSFoGlEv2T"
      },
      "execution_count": null,
      "outputs": []
    },
    {
      "cell_type": "code",
      "source": [
        "kwar_arg(i=10, j=2.3)"
      ],
      "metadata": {
        "colab": {
          "base_uri": "https://localhost:8080/"
        },
        "id": "5cJjklUdE_MB",
        "outputId": "9ba6250c-138e-4f1c-9471-14a220985531"
      },
      "execution_count": null,
      "outputs": [
        {
          "output_type": "stream",
          "name": "stdout",
          "text": [
            "i 10\n",
            "j 2.3\n"
          ]
        }
      ]
    },
    {
      "cell_type": "code",
      "source": [
        "# default keyword\n",
        "def torff(cond = 1):\n",
        "  if cond:\n",
        "    print(\"True\")\n",
        "  else:\n",
        "    print(\"False\")"
      ],
      "metadata": {
        "id": "gBbtanB-FDPV"
      },
      "execution_count": null,
      "outputs": []
    },
    {
      "cell_type": "code",
      "source": [
        "torff()\n",
        "torff(0)"
      ],
      "metadata": {
        "colab": {
          "base_uri": "https://localhost:8080/"
        },
        "id": "gi89NMgJFwAi",
        "outputId": "8b66ac09-78f0-4874-f2c6-c56206983ff6"
      },
      "execution_count": null,
      "outputs": [
        {
          "output_type": "stream",
          "name": "stdout",
          "text": [
            "True\n",
            "False\n"
          ]
        }
      ]
    },
    {
      "cell_type": "code",
      "source": [
        "def fun(n = 5):\n",
        "  print(\"Number = \", n)"
      ],
      "metadata": {
        "id": "Z1Dn1zblF05g"
      },
      "execution_count": null,
      "outputs": []
    },
    {
      "cell_type": "code",
      "source": [
        "fun()\n",
        "fun(7)"
      ],
      "metadata": {
        "colab": {
          "base_uri": "https://localhost:8080/"
        },
        "id": "bSkan1XRF-p6",
        "outputId": "ffdc0983-2f87-4ad2-f571-935f63cbcf4e"
      },
      "execution_count": null,
      "outputs": [
        {
          "output_type": "stream",
          "name": "stdout",
          "text": [
            "Number =  5\n",
            "Number =  7\n"
          ]
        }
      ]
    },
    {
      "cell_type": "code",
      "source": [
        "def allarg(a, *args, b, **kwargs):\n",
        "  print(a)\n",
        "  print(b)\n",
        "  for i in args:\n",
        "    print(i)\n",
        "  for k, v in kwargs.items():\n",
        "    print(k, v)"
      ],
      "metadata": {
        "id": "6ee4_PtPGAW-"
      },
      "execution_count": null,
      "outputs": []
    },
    {
      "cell_type": "code",
      "source": [
        "allarg(10, [3, 5, 6],b = 99, i = 10, j = 5)"
      ],
      "metadata": {
        "colab": {
          "base_uri": "https://localhost:8080/"
        },
        "id": "4Xq_NbNcG1zS",
        "outputId": "72211b2b-4768-4c1d-f0f8-5d76855eae21"
      },
      "execution_count": null,
      "outputs": [
        {
          "output_type": "stream",
          "name": "stdout",
          "text": [
            "10\n",
            "99\n",
            "[3, 5, 6]\n",
            "i 10\n",
            "j 5\n"
          ]
        }
      ]
    },
    {
      "cell_type": "code",
      "source": [
        "# Recursion"
      ],
      "metadata": {
        "id": "Xs5TU0rNHAQ4"
      },
      "execution_count": null,
      "outputs": []
    },
    {
      "cell_type": "code",
      "source": [
        "def fun2(n):\n",
        "  print(n)\n",
        "  if n == 0:\n",
        "    return\n",
        "  fun2(n-1)"
      ],
      "metadata": {
        "id": "E3N5-okjIcIt"
      },
      "execution_count": null,
      "outputs": []
    },
    {
      "cell_type": "code",
      "source": [
        "fun2(5)"
      ],
      "metadata": {
        "colab": {
          "base_uri": "https://localhost:8080/"
        },
        "id": "51NX04oXIpez",
        "outputId": "d5cfaa49-59d0-4712-8d25-6e8427695b21"
      },
      "execution_count": null,
      "outputs": [
        {
          "output_type": "stream",
          "name": "stdout",
          "text": [
            "5\n",
            "4\n",
            "3\n",
            "2\n",
            "1\n",
            "0\n"
          ]
        }
      ]
    },
    {
      "cell_type": "code",
      "source": [
        "def fun3(n):\n",
        "  if n>0:\n",
        "    fun3(n-1)\n",
        "    print(n)"
      ],
      "metadata": {
        "id": "AvGHoiU6IqhV"
      },
      "execution_count": null,
      "outputs": []
    },
    {
      "cell_type": "code",
      "source": [
        "fun3(3)"
      ],
      "metadata": {
        "colab": {
          "base_uri": "https://localhost:8080/"
        },
        "id": "H2uYUFpFJIs9",
        "outputId": "82240f0e-08c0-48b4-d1da-f91a722be6a7"
      },
      "execution_count": null,
      "outputs": [
        {
          "output_type": "stream",
          "name": "stdout",
          "text": [
            "1\n",
            "2\n",
            "3\n"
          ]
        }
      ]
    },
    {
      "cell_type": "code",
      "source": [
        "def n_sum(n):\n",
        "  if not n:\n",
        "    return 0\n",
        "  return n_sum(n-1)+n"
      ],
      "metadata": {
        "id": "EWnzegstJJ6R"
      },
      "execution_count": null,
      "outputs": []
    },
    {
      "cell_type": "code",
      "source": [
        "n_sum(200)"
      ],
      "metadata": {
        "colab": {
          "base_uri": "https://localhost:8080/"
        },
        "id": "2XTWF2jWK1Ay",
        "outputId": "02584778-82e1-4838-a8d7-55dc7ada2175"
      },
      "execution_count": null,
      "outputs": [
        {
          "output_type": "execute_result",
          "data": {
            "text/plain": [
              "20100"
            ]
          },
          "metadata": {},
          "execution_count": 51
        }
      ]
    },
    {
      "cell_type": "code",
      "source": [
        "def fact(n):\n",
        "  if n==1:\n",
        "    return 1\n",
        "  return n*fact(n-1)\n"
      ],
      "metadata": {
        "id": "U2atznaIK2nY"
      },
      "execution_count": null,
      "outputs": []
    },
    {
      "cell_type": "code",
      "source": [
        "fact(5)"
      ],
      "metadata": {
        "colab": {
          "base_uri": "https://localhost:8080/"
        },
        "id": "UYd1HU2LMzaM",
        "outputId": "941d617c-78d8-44fd-fdb4-e45dfd2a94c6"
      },
      "execution_count": null,
      "outputs": [
        {
          "output_type": "execute_result",
          "data": {
            "text/plain": [
              "120"
            ]
          },
          "metadata": {},
          "execution_count": 54
        }
      ]
    },
    {
      "cell_type": "code",
      "source": [],
      "metadata": {
        "id": "_s2uKqcgM0kY"
      },
      "execution_count": null,
      "outputs": []
    }
  ]
}