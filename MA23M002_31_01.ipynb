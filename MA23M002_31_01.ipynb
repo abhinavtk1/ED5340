{
  "nbformat": 4,
  "nbformat_minor": 0,
  "metadata": {
    "colab": {
      "provenance": []
    },
    "kernelspec": {
      "name": "python3",
      "display_name": "Python 3"
    },
    "language_info": {
      "name": "python"
    }
  },
  "cells": [
    {
      "cell_type": "code",
      "execution_count": 9,
      "metadata": {
        "id": "7DM8er3LTMOr"
      },
      "outputs": [],
      "source": [
        "l1 = [10,11,14,18,19,20,21,22,23,24,25,26,28,31,33,34]\n",
        "for i in l1:\n",
        "  if i in range(20,30):\n",
        "    l1.remove(i)"
      ]
    },
    {
      "cell_type": "code",
      "source": [
        "l1"
      ],
      "metadata": {
        "colab": {
          "base_uri": "https://localhost:8080/"
        },
        "id": "1C4ZLt7xVu5o",
        "outputId": "f479a110-9ec5-4ce7-9e01-fa5a28a65268"
      },
      "execution_count": 10,
      "outputs": [
        {
          "output_type": "execute_result",
          "data": {
            "text/plain": [
              "[10, 11, 14, 18, 19, 21, 23, 25, 28, 31, 33, 34]"
            ]
          },
          "metadata": {},
          "execution_count": 10
        }
      ]
    },
    {
      "cell_type": "code",
      "source": [
        "a = [2,4,3,5,1]\n",
        "b = [22,54,34,23,11]\n",
        "c = [a,b]\n",
        "print(c[1][3])"
      ],
      "metadata": {
        "colab": {
          "base_uri": "https://localhost:8080/"
        },
        "id": "6ZZPxA2KVNdV",
        "outputId": "06942cc5-018e-48d9-aeef-e49cf1a45373"
      },
      "execution_count": 12,
      "outputs": [
        {
          "output_type": "stream",
          "name": "stdout",
          "text": [
            "23\n"
          ]
        }
      ]
    },
    {
      "cell_type": "code",
      "source": [
        "c[0]"
      ],
      "metadata": {
        "colab": {
          "base_uri": "https://localhost:8080/"
        },
        "id": "SlnBrLoxYIjG",
        "outputId": "bf9dfd3b-4f80-45d7-de80-bab3614cb41c"
      },
      "execution_count": 15,
      "outputs": [
        {
          "output_type": "execute_result",
          "data": {
            "text/plain": [
              "[2, 4, 3, 5, 1]"
            ]
          },
          "metadata": {},
          "execution_count": 15
        }
      ]
    },
    {
      "cell_type": "code",
      "source": [
        "c"
      ],
      "metadata": {
        "colab": {
          "base_uri": "https://localhost:8080/"
        },
        "id": "m9Vmdt9UYRAH",
        "outputId": "9198536a-feaf-448b-f74f-47b43c363a9a"
      },
      "execution_count": 16,
      "outputs": [
        {
          "output_type": "execute_result",
          "data": {
            "text/plain": [
              "[[2, 4, 3, 5, 1], [22, 54, 34, 23, 11]]"
            ]
          },
          "metadata": {},
          "execution_count": 16
        }
      ]
    },
    {
      "cell_type": "code",
      "source": [
        "print(*c)"
      ],
      "metadata": {
        "colab": {
          "base_uri": "https://localhost:8080/"
        },
        "id": "Dw56tvbiczoq",
        "outputId": "09f69a41-3ac0-4e1d-b633-db663015b2f6"
      },
      "execution_count": 38,
      "outputs": [
        {
          "output_type": "stream",
          "name": "stdout",
          "text": [
            "[2, 4, 3, 5, 1] [22, 54, 34, 23, 11]\n"
          ]
        }
      ]
    },
    {
      "cell_type": "code",
      "source": [
        "y = [3,5,a,2]\n",
        "print(y)"
      ],
      "metadata": {
        "colab": {
          "base_uri": "https://localhost:8080/"
        },
        "id": "lxPjgPbjYiTw",
        "outputId": "e3cd1d26-4889-47c1-afc0-add257ff0753"
      },
      "execution_count": 17,
      "outputs": [
        {
          "output_type": "stream",
          "name": "stdout",
          "text": [
            "[3, 5, [2, 4, 3, 5, 1], 2]\n"
          ]
        }
      ]
    },
    {
      "cell_type": "code",
      "source": [
        "type(y)"
      ],
      "metadata": {
        "colab": {
          "base_uri": "https://localhost:8080/"
        },
        "id": "wN2z9nnhY974",
        "outputId": "42ebaf58-7b79-473b-c2f1-a101b5e7cdc4"
      },
      "execution_count": 18,
      "outputs": [
        {
          "output_type": "execute_result",
          "data": {
            "text/plain": [
              "list"
            ]
          },
          "metadata": {},
          "execution_count": 18
        }
      ]
    },
    {
      "cell_type": "code",
      "source": [
        "y = [3,5,*a,2]\n",
        "print(y)"
      ],
      "metadata": {
        "colab": {
          "base_uri": "https://localhost:8080/"
        },
        "id": "45BrgQzyZBDs",
        "outputId": "97a2b3a0-ab24-4a6e-c002-e9b69587a884"
      },
      "execution_count": 23,
      "outputs": [
        {
          "output_type": "stream",
          "name": "stdout",
          "text": [
            "[3, 5, 2, 4, 3, 5, 1, 2]\n"
          ]
        }
      ]
    },
    {
      "cell_type": "code",
      "source": [
        "type(y)"
      ],
      "metadata": {
        "colab": {
          "base_uri": "https://localhost:8080/"
        },
        "id": "HVL9cAchZVbw",
        "outputId": "21d7575e-0198-44b4-ff64-d2322da595ee"
      },
      "execution_count": 24,
      "outputs": [
        {
          "output_type": "execute_result",
          "data": {
            "text/plain": [
              "list"
            ]
          },
          "metadata": {},
          "execution_count": 24
        }
      ]
    },
    {
      "cell_type": "code",
      "source": [
        "# List comprehension\n",
        "lst = [x**2 for x in y]\n",
        "lst"
      ],
      "metadata": {
        "colab": {
          "base_uri": "https://localhost:8080/"
        },
        "id": "GHwmTr-SaE94",
        "outputId": "5fee6c87-d5fd-4a40-d2ac-1018355616e6"
      },
      "execution_count": 28,
      "outputs": [
        {
          "output_type": "execute_result",
          "data": {
            "text/plain": [
              "[9, 25, 4, 16, 9, 25, 1, 4]"
            ]
          },
          "metadata": {},
          "execution_count": 28
        }
      ]
    },
    {
      "cell_type": "code",
      "source": [
        "lst2 = [i for i in range(1,11)]\n",
        "lst2"
      ],
      "metadata": {
        "colab": {
          "base_uri": "https://localhost:8080/"
        },
        "id": "Q8wiQRAQavRv",
        "outputId": "0a441fd0-0edd-4386-a369-e590121f6f84"
      },
      "execution_count": 30,
      "outputs": [
        {
          "output_type": "execute_result",
          "data": {
            "text/plain": [
              "[1, 2, 3, 4, 5, 6, 7, 8, 9, 10]"
            ]
          },
          "metadata": {},
          "execution_count": 30
        }
      ]
    },
    {
      "cell_type": "code",
      "source": [
        "lst3 = []\n",
        "for i in range(1,11):\n",
        "  lst3.append(i)\n",
        "lst3"
      ],
      "metadata": {
        "colab": {
          "base_uri": "https://localhost:8080/"
        },
        "id": "gPICL1fsa4vR",
        "outputId": "6cb592df-b80a-466a-b8c6-9e64c0d56a0c"
      },
      "execution_count": 31,
      "outputs": [
        {
          "output_type": "execute_result",
          "data": {
            "text/plain": [
              "[1, 2, 3, 4, 5, 6, 7, 8, 9, 10]"
            ]
          },
          "metadata": {},
          "execution_count": 31
        }
      ]
    },
    {
      "cell_type": "code",
      "source": [
        "lst4 = [[i]*i for i in range(2,6)]\n",
        "lst4"
      ],
      "metadata": {
        "colab": {
          "base_uri": "https://localhost:8080/"
        },
        "id": "o9kWph8bbH0R",
        "outputId": "6a9a1246-446f-40f2-804d-347df9c488c1"
      },
      "execution_count": 34,
      "outputs": [
        {
          "output_type": "execute_result",
          "data": {
            "text/plain": [
              "[[2, 2], [3, 3, 3], [4, 4, 4, 4], [5, 5, 5, 5, 5]]"
            ]
          },
          "metadata": {},
          "execution_count": 34
        }
      ]
    },
    {
      "cell_type": "code",
      "source": [
        "lst5 = [i for i in range(2,20) if i%2!=0]\n",
        "lst5"
      ],
      "metadata": {
        "colab": {
          "base_uri": "https://localhost:8080/"
        },
        "id": "ZWXFne9Mbw1h",
        "outputId": "4b9f5aad-3e3f-49c1-e087-b3fed067d1ad"
      },
      "execution_count": 36,
      "outputs": [
        {
          "output_type": "execute_result",
          "data": {
            "text/plain": [
              "[3, 5, 7, 9, 11, 13, 15, 17, 19]"
            ]
          },
          "metadata": {},
          "execution_count": 36
        }
      ]
    },
    {
      "cell_type": "code",
      "source": [
        "arr1 = [[i for i in range(j)] for j in range(5)]\n",
        "print(arr1)"
      ],
      "metadata": {
        "colab": {
          "base_uri": "https://localhost:8080/"
        },
        "id": "LOky4Yhlcrgk",
        "outputId": "fb0a9015-e93c-4e4d-e2a3-a7fc1fd43ce5"
      },
      "execution_count": 40,
      "outputs": [
        {
          "output_type": "stream",
          "name": "stdout",
          "text": [
            "[[], [0], [0, 1], [0, 1, 2], [0, 1, 2, 3]]\n"
          ]
        }
      ]
    },
    {
      "cell_type": "code",
      "source": [
        "arr = [[2,3,4,5],[3,5,4,2],[4,2,1,0,5]]\n",
        "for i in arr:\n",
        "  for j in i:\n",
        "    print(j)"
      ],
      "metadata": {
        "colab": {
          "base_uri": "https://localhost:8080/"
        },
        "id": "mwQoPtzsdazR",
        "outputId": "50b34160-adb0-4b52-90ca-4fa3be58958c"
      },
      "execution_count": 41,
      "outputs": [
        {
          "output_type": "stream",
          "name": "stdout",
          "text": [
            "2\n",
            "3\n",
            "4\n",
            "5\n",
            "3\n",
            "5\n",
            "4\n",
            "2\n",
            "4\n",
            "2\n",
            "1\n",
            "0\n",
            "5\n"
          ]
        }
      ]
    },
    {
      "cell_type": "code",
      "source": [],
      "metadata": {
        "id": "zQth0TDVeY-v"
      },
      "execution_count": null,
      "outputs": []
    }
  ]
}