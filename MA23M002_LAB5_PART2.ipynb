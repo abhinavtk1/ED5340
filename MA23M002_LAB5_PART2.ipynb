{
  "nbformat": 4,
  "nbformat_minor": 0,
  "metadata": {
    "colab": {
      "provenance": []
    },
    "kernelspec": {
      "name": "python3",
      "display_name": "Python 3"
    },
    "language_info": {
      "name": "python"
    }
  },
  "cells": [
    {
      "cell_type": "markdown",
      "source": [
        "#LAB 5: PART 2- FUNCTIONS AND CLASSES\n"
      ],
      "metadata": {
        "id": "2ww86a0W8TSZ"
      }
    },
    {
      "cell_type": "markdown",
      "source": [
        "5. WAP to implement a class called \"Bank_Account\" representing a person's bank account.\n",
        "The class should have the following attributes: account_holder_name (str), account_number(int), address (str) and balance (float).\n",
        "The class should have methods to implement the following:\n",
        "    deposit - Deposits a given amount into the account <br>\n",
        "    withdraw - Withdraws a given amount from the account <br>\n",
        "    check_balance - To get the current balance <br>\n",
        "    update_details - To update the name and address from the user and\n",
        "    displays a message indicating successful update  <br>\n",
        "    display_details - To display the details of the account. <br>"
      ],
      "metadata": {
        "id": "tO2AbD9-8QWT"
      }
    },
    {
      "cell_type": "code",
      "source": [
        "class Bank_Account:\n",
        "    def __init__(self, name, ac_number, address, balance=0.0):\n",
        "        self.__account_holder_name = name\n",
        "        self.__account_number = ac_number\n",
        "        self.__address = address\n",
        "        self.__balance = balance\n",
        "\n",
        "    def deposit(self, amount):\n",
        "        if amount > 0:\n",
        "            self.__balance += amount\n",
        "            print(\"Amount was added successfully.\")\n",
        "        else:\n",
        "            print(\"Add a positive value.\")\n",
        "\n",
        "    def withdraw(self, amount):\n",
        "        if 0 < amount and amount <= self.__balance:\n",
        "            self.__balance -= amount\n",
        "            print(\"Amount was withdrawn successfully.\")\n",
        "        else:\n",
        "            print(\"Insufficient balance.\")\n",
        "\n",
        "    def check_balance(self):\n",
        "        print(\"Current balance: \", self.__balance)\n",
        "\n",
        "    def update_details(self, new_name, new_address):\n",
        "        self.__account_holder_name = new_name\n",
        "        self.__address = new_address\n",
        "        print(\"Account details updated successfully.\")\n",
        "\n",
        "    def display_details(self):\n",
        "        print(\"Account Holder Name:\", self.__account_holder_name)\n",
        "        print(\"Account Number:\", self.__account_number)\n",
        "        print(\"Address:\", self.__address)\n",
        "        print(\"Balance:\", self.__balance)"
      ],
      "metadata": {
        "id": "3Z3_ecQy8ak5"
      },
      "execution_count": null,
      "outputs": []
    },
    {
      "cell_type": "code",
      "source": [
        "# Create a bank account\n",
        "acc = Bank_Account(\"Abhinav\", 543267891, \"Mandakini-A, IITM\")\n",
        "\n",
        "print(\"Account Details:\")\n",
        "acc.display_details()\n",
        "print()\n",
        "# Deposit and check balance\n",
        "acc.deposit(1000)\n",
        "acc.check_balance()\n",
        "print()\n",
        "# Withdraw and check balance\n",
        "acc.withdraw(500)\n",
        "acc.check_balance()\n",
        "print()\n",
        "# Update details and display\n",
        "acc.update_details(\"Abhinav T K\", \"Godavari, IITM\")\n",
        "acc.display_details()"
      ],
      "metadata": {
        "colab": {
          "base_uri": "https://localhost:8080/"
        },
        "id": "80Zio0QU9_3a",
        "outputId": "e9265eae-950f-4219-a4a7-77a16c4fa0ae"
      },
      "execution_count": null,
      "outputs": [
        {
          "output_type": "stream",
          "name": "stdout",
          "text": [
            "Account Details:\n",
            "Account Holder Name: Abhinav\n",
            "Account Number: 543267891\n",
            "Address: Mandakini-A, IITM\n",
            "Balance: 0.0\n",
            "\n",
            "Amount was added successfully.\n",
            "Current balance:  1000.0\n",
            "\n",
            "Amount was withdrawn successfully.\n",
            "Current balance:  500.0\n",
            "\n",
            "Account details updated successfully.\n",
            "Account Holder Name: Abhinav T K\n",
            "Account Number: 543267891\n",
            "Address: Godavari, IITM\n",
            "Balance: 500.0\n"
          ]
        }
      ]
    },
    {
      "cell_type": "code",
      "source": [],
      "metadata": {
        "id": "Sgjo3tBD-9Fq"
      },
      "execution_count": null,
      "outputs": []
    },
    {
      "cell_type": "markdown",
      "source": [
        "6.  Define a Matrix class of dimensions m X n (the values for m and n can be taken as input). Demonstrate matrix addition, subtraction, multiplication, element-by-element multiplication, scalar multiplication (use map here). Use operator overloading wherever possible. (Hint: In the constructor, use 'random' and create list of list using list comprehension. In the arguments of constructor, send the number of rows and columns)\n",
        "Ensure that your implementation follows best practices for class design and encapsulation in Python. Comment your code to explain the functionality of each method."
      ],
      "metadata": {
        "id": "-2Y5GU1J_eRC"
      }
    },
    {
      "cell_type": "code",
      "source": [
        "import random\n",
        "\n",
        "class Matrix:\n",
        "  def __init__(self, rows, cols):\n",
        "      # rows and cols taken as user input\n",
        "      self.rows = rows\n",
        "      self.cols = cols\n",
        "      self.data = [[random.randint(1, 10) for i in range(cols)] for j in range(rows)]   # Each elements are randomly generated\n",
        "\n",
        "  def __add__(self, mat2):\n",
        "    # Matrix addition using operator overloading\n",
        "    output = Matrix(self.rows, self.cols)\n",
        "    for i in range(self.rows):\n",
        "      for j in range(self.cols):\n",
        "        output.data[i][j] = self.data[i][j] + mat2.data[i][j]\n",
        "    return output\n",
        "\n",
        "  def __sub__(self, mat2):\n",
        "    # Matrix subtraction using operator overloading\n",
        "    output = Matrix(self.rows, self.cols)\n",
        "    for i in range(self.rows):\n",
        "      for j in range(self.cols):\n",
        "        output.data[i][j] = self.data[i][j] - mat2.data[i][j]\n",
        "    return output\n",
        "\n",
        "  def __mul__(self, mat2):\n",
        "    # Matrix multiplication using operator overloading\n",
        "    if self.cols != mat2.rows:\n",
        "      print(\"No. of rows of second matrix should be equal to the no. of rows of first matrix. \")\n",
        "    else:\n",
        "      output = Matrix(self.rows, mat2.cols)\n",
        "      for i in range(self.rows):\n",
        "        for j in range(mat2.cols):\n",
        "          sum_val = 0\n",
        "          for k in range(self.cols):\n",
        "            sum_val += self.data[i][k]*mat2.data[k][j]\n",
        "          output.data[i][j] = sum_val\n",
        "    return output\n",
        "\n",
        "  def elementMul(self, mat2):\n",
        "    # Element wise matrix multiplication\n",
        "    output = Matrix(self.rows,self.cols)\n",
        "    for i in range(self.rows):\n",
        "      for j in range(self.cols):\n",
        "        output.data[i][j] = self.data[i][j]*mat2.data[i][j]\n",
        "    return output\n",
        "\n",
        "  def scalarMul(self, k):\n",
        "    output = Matrix(self.rows, self.cols)\n",
        "    output.data = list(map(lambda row: list(map(lambda x: x * k, row)), self.data))\n",
        "    return output\n",
        "\n",
        "  def printMat(self):\n",
        "    for row in self.data:\n",
        "        print(\" \".join(map(str, row)))\n",
        "\n"
      ],
      "metadata": {
        "id": "RuqsnFzA_e2R"
      },
      "execution_count": null,
      "outputs": []
    },
    {
      "cell_type": "code",
      "source": [
        "# Enter no. of rows and columns as input for matrix1\n",
        "r1 = int(input(\"Enter no. of rows \"))\n",
        "c1 = int(input(\"Enter no. of cols \"))\n",
        "mat1 = Matrix(r1,c1)\n",
        "mat1.printMat()"
      ],
      "metadata": {
        "colab": {
          "base_uri": "https://localhost:8080/"
        },
        "id": "FgUP3rTjPPTT",
        "outputId": "ef2abbaf-010e-4c51-ba32-38100e367512"
      },
      "execution_count": null,
      "outputs": [
        {
          "output_type": "stream",
          "name": "stdout",
          "text": [
            "Enter no. of rows 2\n",
            "Enter no. of cols 2\n",
            "3 5\n",
            "1 2\n"
          ]
        }
      ]
    },
    {
      "cell_type": "code",
      "source": [
        "2# Enter no. of rows and columns as input for matrix2\n",
        "r2 = int(input(\"Enter no. of rows \"))\n",
        "c2 = int(input(\"Enter no. of cols \"))\n",
        "mat2 = Matrix(r2,c2)\n",
        "mat2.printMat()"
      ],
      "metadata": {
        "colab": {
          "base_uri": "https://localhost:8080/"
        },
        "id": "yMTs4kc5QE_6",
        "outputId": "55901dd9-6279-4aba-fc1d-9313799961ca"
      },
      "execution_count": null,
      "outputs": [
        {
          "output_type": "stream",
          "name": "stdout",
          "text": [
            "Enter no. of rows 2\n",
            "Enter no. of cols 2\n",
            "2 9\n",
            "5 10\n"
          ]
        }
      ]
    },
    {
      "cell_type": "code",
      "source": [
        "# Addition\n",
        "mat3 = mat1 + mat2\n",
        "mat3.printMat()"
      ],
      "metadata": {
        "colab": {
          "base_uri": "https://localhost:8080/"
        },
        "id": "-h2MFYcLQZ5t",
        "outputId": "dd03c318-f711-4cfc-8d1c-db4945cc21ba"
      },
      "execution_count": null,
      "outputs": [
        {
          "output_type": "stream",
          "name": "stdout",
          "text": [
            "5 14\n",
            "6 12\n"
          ]
        }
      ]
    },
    {
      "cell_type": "code",
      "source": [
        "# Subtraction\n",
        "mat4 = mat1 - mat2\n",
        "mat4.printMat()"
      ],
      "metadata": {
        "colab": {
          "base_uri": "https://localhost:8080/"
        },
        "id": "kjvjAoRyRJzn",
        "outputId": "1da544ec-da3e-4c66-b952-009589c9339f"
      },
      "execution_count": null,
      "outputs": [
        {
          "output_type": "stream",
          "name": "stdout",
          "text": [
            "1 -4\n",
            "-4 -8\n"
          ]
        }
      ]
    },
    {
      "cell_type": "code",
      "source": [
        "# Matrix-multiplication\n",
        "mat5 = mat1 * mat2\n",
        "mat5.printMat()"
      ],
      "metadata": {
        "colab": {
          "base_uri": "https://localhost:8080/"
        },
        "id": "JP4S62M0StKK",
        "outputId": "722b79fd-3e7b-48b2-f772-483826733751"
      },
      "execution_count": null,
      "outputs": [
        {
          "output_type": "stream",
          "name": "stdout",
          "text": [
            "31 77\n",
            "12 29\n"
          ]
        }
      ]
    },
    {
      "cell_type": "code",
      "source": [
        "# Element-wise multiplication\n",
        "mat6 = mat1.elementMul(mat2)\n",
        "mat6.printMat()"
      ],
      "metadata": {
        "colab": {
          "base_uri": "https://localhost:8080/"
        },
        "id": "fcQaAuUmSzyK",
        "outputId": "a8918522-872d-463c-f5b9-5c37e8778053"
      },
      "execution_count": null,
      "outputs": [
        {
          "output_type": "stream",
          "name": "stdout",
          "text": [
            "6 45\n",
            "5 20\n"
          ]
        }
      ]
    },
    {
      "cell_type": "code",
      "source": [
        "# Scalar multiplication\n",
        "mat7 = mat6.scalarMul(10)\n",
        "mat7.printMat()"
      ],
      "metadata": {
        "colab": {
          "base_uri": "https://localhost:8080/"
        },
        "id": "jHg99m3ZWCU5",
        "outputId": "252936b8-a1f7-4ee7-bf75-0cfe04c6d193"
      },
      "execution_count": null,
      "outputs": [
        {
          "output_type": "stream",
          "name": "stdout",
          "text": [
            "60 450\n",
            "50 200\n"
          ]
        }
      ]
    },
    {
      "cell_type": "code",
      "source": [],
      "metadata": {
        "id": "jQikq5UXWVDn"
      },
      "execution_count": null,
      "outputs": []
    },
    {
      "cell_type": "markdown",
      "source": [
        "7. Create a Python class named Time that represents a moment of time. The class should have attributes hour, minute, and second. Include the following features: <br>\n",
        "    A constructor that initializes hour, minute, and second, with validation to ensure each attribute is within its correct range (hours: 0-23, minutes: 0-59, seconds: 0-59). <br>\n",
        "    A __str__() method that returns the time in a format hh:mm:ss. <br>\n",
        "    Methods set_time(hour, minute, second) and get_time() to update and access the time, respectively. <br>\n",
        "    An add_seconds(seconds) method that adds a given number of seconds to the current time object, adjusting the hour, minute, and second attributes accordingly. <br>"
      ],
      "metadata": {
        "id": "LUThJv28Wbgb"
      }
    },
    {
      "cell_type": "code",
      "source": [
        "class Time:\n",
        "  def __init__(self, hour = 0, minute = 0, second = 0):\n",
        "    self.set_time(hour, minute, second)\n",
        "\n",
        "  def __str__(self):\n",
        "    return \"{:02d}:{:02d}:{:02d}\".format(self.hour, self.minute, self.second)\n",
        "    #return f\"{self.hour}:{self.minute}:{self.second}\"\n",
        "\n",
        "  def set_time(self, hour, minute, second):\n",
        "    if 0 <= hour < 24 and 0 <= minute < 60 and 0 <= second < 60:\n",
        "        self.hour = hour\n",
        "        self.minute = minute\n",
        "        self.second = second\n",
        "    else:\n",
        "      print(\"Enter data in the correct range\")\n",
        "\n",
        "  def get_time(self):\n",
        "    return self.hour, self.minute, self.second\n",
        "\n",
        "  def add_seconds(self, seconds):\n",
        "    total_seconds = self.hour * 3600 + self.minute * 60 + self.second + seconds\n",
        "    self.hour = (total_seconds // 3600) % 24\n",
        "    self.minute = (total_seconds % 3600) // 60\n",
        "    self.second = total_seconds % 60"
      ],
      "metadata": {
        "id": "p7Zzct04WkKK"
      },
      "execution_count": null,
      "outputs": []
    },
    {
      "cell_type": "code",
      "source": [
        "t1 = Time(22,22,22)"
      ],
      "metadata": {
        "id": "z2CsIJakXqXS"
      },
      "execution_count": null,
      "outputs": []
    },
    {
      "cell_type": "code",
      "source": [
        "print(\"Time is: \", t1)"
      ],
      "metadata": {
        "colab": {
          "base_uri": "https://localhost:8080/"
        },
        "id": "SdylFSU5Xs8d",
        "outputId": "f47d63c6-f93a-44a6-de5b-75d81f709bd1"
      },
      "execution_count": null,
      "outputs": [
        {
          "output_type": "stream",
          "name": "stdout",
          "text": [
            "Time is:  22:22:22\n"
          ]
        }
      ]
    },
    {
      "cell_type": "code",
      "source": [
        "t1.set_time(23,59,59)"
      ],
      "metadata": {
        "id": "RpPHQazoYaYu"
      },
      "execution_count": null,
      "outputs": []
    },
    {
      "cell_type": "code",
      "source": [
        "t1.get_time()"
      ],
      "metadata": {
        "colab": {
          "base_uri": "https://localhost:8080/"
        },
        "id": "aIl9LmeRZKpb",
        "outputId": "ba1ab0d4-82d5-4e11-f9c3-ba26c489d17d"
      },
      "execution_count": null,
      "outputs": [
        {
          "output_type": "execute_result",
          "data": {
            "text/plain": [
              "(23, 59, 59)"
            ]
          },
          "metadata": {},
          "execution_count": 97
        }
      ]
    },
    {
      "cell_type": "code",
      "source": [
        "t1.add_seconds(2)\n",
        "print(t1)"
      ],
      "metadata": {
        "colab": {
          "base_uri": "https://localhost:8080/"
        },
        "id": "DoC6VkMSd7uV",
        "outputId": "202d955f-d44a-4555-8840-1dd0663b5d5b"
      },
      "execution_count": null,
      "outputs": [
        {
          "output_type": "stream",
          "name": "stdout",
          "text": [
            "00:00:01\n"
          ]
        }
      ]
    },
    {
      "cell_type": "code",
      "source": [],
      "metadata": {
        "id": "pxXFAmXVf6Nh"
      },
      "execution_count": null,
      "outputs": []
    },
    {
      "cell_type": "markdown",
      "source": [
        "8.  Create a class named Geometry that provides static methods for various geometric calculations, such as area and perimeter, for different shapes (circle, rectangle, square). Include: <br>\n",
        "Static methods like circle_area(radius), rectangle_area(length, width), and square_area(side). <br>\n",
        "Static methods for perimeter calculations for the above shapes. <br>\n",
        "Ensure that methods check for valid inputs (e.g., positive numbers)."
      ],
      "metadata": {
        "id": "DQtF1NxSgiHP"
      }
    },
    {
      "cell_type": "code",
      "source": [
        "import math\n",
        "\n",
        "class Geometry:\n",
        "  @staticmethod\n",
        "  def areaCircle(radius):\n",
        "      if radius <= 0:\n",
        "          print(\"Radius must be a positive number\")\n",
        "      else:\n",
        "        return round(math.pi * radius ** 2, 2)\n",
        "\n",
        "  @staticmethod\n",
        "  def areaRectangle(length, width):\n",
        "      if length <= 0 or width <= 0:\n",
        "        print(\"Length and width must be positive numbers\")\n",
        "      else:\n",
        "        return round(length * width,2)\n",
        "\n",
        "  @staticmethod\n",
        "  def areaSquare(side):\n",
        "      if side <= 0:\n",
        "        print(\"Side length must be a positive number\")\n",
        "      else:\n",
        "        return round(side ** 2,2)\n",
        "\n",
        "  @staticmethod\n",
        "  def perimeterCircle(radius):\n",
        "      if radius <= 0:\n",
        "        print(\"Radius must be a positive number\")\n",
        "      else:\n",
        "        return round(2 * math.pi * radius,2)\n",
        "\n",
        "  @staticmethod\n",
        "  def perimeterRectangle(length, width):\n",
        "      if length <= 0 or width <= 0:\n",
        "        print(\"Length and width must be positive numbers\")\n",
        "      else:\n",
        "        return round(2 * (length + width),2)\n",
        "\n",
        "  @staticmethod\n",
        "  def perimeterSquare(side):\n",
        "      if side <= 0:\n",
        "        print(\"Side length must be a positive number\")\n",
        "      else:\n",
        "        return round(4 * side,2)\n"
      ],
      "metadata": {
        "id": "ED_njxSkgoEi"
      },
      "execution_count": null,
      "outputs": []
    },
    {
      "cell_type": "code",
      "source": [
        "circle_area = Geometry.areaCircle(5)\n",
        "print(\"Circle area:\", circle_area)\n",
        "\n",
        "rectangle_area = Geometry.areaRectangle(4, 6)\n",
        "print(\"Rectangle area:\", rectangle_area)\n",
        "\n",
        "square_area = Geometry.areaSquare(4)\n",
        "print(\"Square area:\", square_area)\n",
        "\n",
        "circle_perimeter = Geometry.perimeterCircle(5)\n",
        "print(\"Circle perimeter:\", circle_perimeter)\n",
        "\n",
        "rectangle_perimeter = Geometry.perimeterRectangle(4, 6)\n",
        "print(\"Rectangle perimeter:\", rectangle_perimeter)\n",
        "\n",
        "square_perimeter = Geometry.perimeterSquare(4)\n",
        "print(\"Square perimeter:\", square_perimeter)"
      ],
      "metadata": {
        "colab": {
          "base_uri": "https://localhost:8080/"
        },
        "id": "I1BrDgx1h44_",
        "outputId": "ebffb6fd-d25b-43e9-863a-0d96cbce8eb1"
      },
      "execution_count": null,
      "outputs": [
        {
          "output_type": "stream",
          "name": "stdout",
          "text": [
            "Circle area: 78.54\n",
            "Rectangle area: 24\n",
            "Square area: 16\n",
            "Circle perimeter: 31.42\n",
            "Rectangle perimeter: 20\n",
            "Square perimeter: 16\n"
          ]
        }
      ]
    },
    {
      "cell_type": "code",
      "source": [],
      "metadata": {
        "id": "YntOKHGDh8Bi"
      },
      "execution_count": null,
      "outputs": []
    }
  ]
}