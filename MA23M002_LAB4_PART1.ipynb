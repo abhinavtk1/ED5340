{
  "nbformat": 4,
  "nbformat_minor": 0,
  "metadata": {
    "colab": {
      "provenance": []
    },
    "kernelspec": {
      "name": "python3",
      "display_name": "Python 3"
    },
    "language_info": {
      "name": "python"
    }
  },
  "cells": [
    {
      "cell_type": "markdown",
      "source": [
        "# LAB 4: PART-1 :DICTIONARY AND FUNCTIONS\n"
      ],
      "metadata": {
        "id": "JHwLta8g7aLP"
      }
    },
    {
      "cell_type": "markdown",
      "source": [
        "1. Explore the use and syntax of common built-in functions:\n",
        "\n",
        "range(),\n",
        "\n",
        "iter(),\n",
        "\n",
        "eval(),\n",
        "\n",
        "enumerate(),\n",
        "\n",
        "zip(),\n",
        "\n",
        "lambda,\n",
        "\n",
        "input(),\n",
        "\n",
        "map(),\n",
        "\n",
        "filter(),\n",
        "\n",
        "next()\n",
        "\n",
        "reduce()\n",
        "\n",
        "Include a short description and a practical code example for each, ensuring clarity through comments.\n",
        "\n"
      ],
      "metadata": {
        "id": "hqku3Yb07bXi"
      }
    },
    {
      "cell_type": "markdown",
      "source": [
        "1. range() : gives a sequence of numbers within a specified range."
      ],
      "metadata": {
        "id": "_avOZEth719c"
      }
    },
    {
      "cell_type": "code",
      "execution_count": null,
      "metadata": {
        "colab": {
          "base_uri": "https://localhost:8080/"
        },
        "id": "M5VScfhyp6Uy",
        "outputId": "c37b84e0-3636-4086-b12d-16926bc639e3"
      },
      "outputs": [
        {
          "output_type": "stream",
          "name": "stdout",
          "text": [
            "[1, 3, 5, 7]\n"
          ]
        }
      ],
      "source": [
        "rng = range(1, 8, 2) # gives numbers from 1 to 7 with a step size of 2\n",
        "lst = list(rng)\n",
        "print(lst)"
      ]
    },
    {
      "cell_type": "markdown",
      "source": [
        "2. iter() - Returns an iterator object for the given iterable."
      ],
      "metadata": {
        "id": "mqvd0-Ds8WdM"
      }
    },
    {
      "cell_type": "code",
      "source": [
        "iter1 = iter(lst) # creates iterator from list\n",
        "print(next(iter1)) # gives the next item of the iterator\n",
        "print(next(iter1))"
      ],
      "metadata": {
        "colab": {
          "base_uri": "https://localhost:8080/"
        },
        "id": "k0ZhOsge8PJM",
        "outputId": "64647e36-4b97-4851-eba8-5e179252c153"
      },
      "execution_count": null,
      "outputs": [
        {
          "output_type": "stream",
          "name": "stdout",
          "text": [
            "1\n",
            "3\n"
          ]
        }
      ]
    },
    {
      "cell_type": "markdown",
      "source": [
        "3. eval() - Evaluates a string passed as input as a Python expression."
      ],
      "metadata": {
        "id": "ISRa1t0I8ykX"
      }
    },
    {
      "cell_type": "code",
      "source": [
        "x1 = eval('9*5') # here it evaluates the  string expression and gives its numerical output\n",
        "print(x1)"
      ],
      "metadata": {
        "colab": {
          "base_uri": "https://localhost:8080/"
        },
        "id": "9dRiIXmJ8mOy",
        "outputId": "ed16ec53-8f4c-4486-a03d-7d6af4857abc"
      },
      "execution_count": null,
      "outputs": [
        {
          "output_type": "stream",
          "name": "stdout",
          "text": [
            "45\n"
          ]
        }
      ]
    },
    {
      "cell_type": "markdown",
      "source": [
        "4. enumerate() - Adds a counter to an iterable and returns it as an enumerate object."
      ],
      "metadata": {
        "id": "eFZ3H8ny9cNv"
      }
    },
    {
      "cell_type": "code",
      "source": [
        "lst = ['a', 'b', 'c', 'd', 'e', 'f']\n",
        "for i, j in enumerate(lst): # gives a counter for each item in lst\n",
        "  print(i,j)"
      ],
      "metadata": {
        "colab": {
          "base_uri": "https://localhost:8080/"
        },
        "id": "j_pAa_TY8mDS",
        "outputId": "eaf148b9-7738-410a-f44f-d393e92b0ed8"
      },
      "execution_count": null,
      "outputs": [
        {
          "output_type": "stream",
          "name": "stdout",
          "text": [
            "0 a\n",
            "1 b\n",
            "2 c\n",
            "3 d\n",
            "4 e\n",
            "5 f\n"
          ]
        }
      ]
    },
    {
      "cell_type": "markdown",
      "source": [
        "5. zip() - Combines elements from multiple iterables into tuples"
      ],
      "metadata": {
        "id": "KlFbOLsX94ak"
      }
    },
    {
      "cell_type": "code",
      "source": [
        "lst1 = ['a', 'b', 'c', 'd', 'e', 'f']\n",
        "lst2 = [1,2,3,4,5,6]\n",
        "zipped = zip(lst1,lst2) # returns a tuple of corresponding elements from both lists\n",
        "for x in zipped:\n",
        "  print(x)"
      ],
      "metadata": {
        "colab": {
          "base_uri": "https://localhost:8080/"
        },
        "id": "LKhvyDIx-K1Q",
        "outputId": "1b2e1a4d-0be5-4eb0-ef3b-b0e0b36534b1"
      },
      "execution_count": null,
      "outputs": [
        {
          "output_type": "stream",
          "name": "stdout",
          "text": [
            "('a', 1)\n",
            "('b', 2)\n",
            "('c', 3)\n",
            "('d', 4)\n",
            "('e', 5)\n",
            "('f', 6)\n"
          ]
        }
      ]
    },
    {
      "cell_type": "markdown",
      "source": [
        "6. lambda - Creates an anonymous function (lambda function) <br>\n",
        "syntax: lambda argument: expression"
      ],
      "metadata": {
        "id": "EbK7wwaz-meC"
      }
    },
    {
      "cell_type": "code",
      "source": [
        "find_cube = lambda x : x**3 # here the lambda function find_cube takes input x and returns its cube\n",
        "print(find_cube(3))\n",
        "print(find_cube(4))"
      ],
      "metadata": {
        "colab": {
          "base_uri": "https://localhost:8080/"
        },
        "id": "LN_TI0ia-Ksd",
        "outputId": "46320184-6430-47b9-d84f-37bc9d2aa055"
      },
      "execution_count": null,
      "outputs": [
        {
          "output_type": "stream",
          "name": "stdout",
          "text": [
            "27\n",
            "64\n"
          ]
        }
      ]
    },
    {
      "cell_type": "markdown",
      "source": [
        "7. input() - Takes an input from the user as a string"
      ],
      "metadata": {
        "id": "T4KD8mD4_IJE"
      }
    },
    {
      "cell_type": "code",
      "source": [
        "inp = input(\"Enter your input: \")"
      ],
      "metadata": {
        "colab": {
          "base_uri": "https://localhost:8080/"
        },
        "id": "rjT5t60P-Kjn",
        "outputId": "6e1cdb54-3c42-4a14-8b42-15a132563cc7"
      },
      "execution_count": null,
      "outputs": [
        {
          "name": "stdout",
          "output_type": "stream",
          "text": [
            "Enter your input: hello\n"
          ]
        }
      ]
    },
    {
      "cell_type": "markdown",
      "source": [
        "8. map(func, iterable) - Applies a function to all the items in the given iterable"
      ],
      "metadata": {
        "id": "zlq0-y59ATuc"
      }
    },
    {
      "cell_type": "code",
      "source": [
        "l1 = [2,4,5,7,3,4]\n",
        "l2 = list(map(lambda x : x**2, l1))  # Here the map function take each item from l1 and find its square. Returns a map object. So we convert it to list\n",
        "print(l2)"
      ],
      "metadata": {
        "colab": {
          "base_uri": "https://localhost:8080/"
        },
        "id": "AfiIsJTl_WcX",
        "outputId": "3652de67-62dd-4104-d339-61b67867aba5"
      },
      "execution_count": null,
      "outputs": [
        {
          "output_type": "stream",
          "name": "stdout",
          "text": [
            "[4, 16, 25, 49, 9, 16]\n"
          ]
        }
      ]
    },
    {
      "cell_type": "markdown",
      "source": [
        "9. filter(func, iterable) - Filters elements from an iterable based on a function's condition.\n",
        "\n"
      ],
      "metadata": {
        "id": "W_XvEgiyB9i2"
      }
    },
    {
      "cell_type": "code",
      "source": [
        "nums = [1, 2, 3, 4, 5, 6]\n",
        "odd_nums = filter(lambda x: x % 2 != 0, nums) #filter to get odd numbers from a list\n",
        "\n",
        "result = list(odd_nums) # converting filter object to a list\n",
        "print(result)"
      ],
      "metadata": {
        "colab": {
          "base_uri": "https://localhost:8080/"
        },
        "id": "mvoPWjdj_WPm",
        "outputId": "b971d6b8-0d68-4e6d-c5e9-7bfa664f6927"
      },
      "execution_count": null,
      "outputs": [
        {
          "output_type": "stream",
          "name": "stdout",
          "text": [
            "[1, 3, 5]\n"
          ]
        }
      ]
    },
    {
      "cell_type": "markdown",
      "source": [
        "10. next(iterator) - gives the next item from an iterator"
      ],
      "metadata": {
        "id": "mqPmC6crD7rZ"
      }
    },
    {
      "cell_type": "code",
      "source": [
        "iter1 = iter([5, 2, 4, 6, 3])\n",
        "print(next(iter1)) #next() to get the next element from an iterator\n",
        "print(next(iter1))\n",
        "print(next(iter1))"
      ],
      "metadata": {
        "colab": {
          "base_uri": "https://localhost:8080/"
        },
        "id": "0be5yp8n_WAx",
        "outputId": "d645174e-c73a-4438-8f71-385d936bbc3e"
      },
      "execution_count": null,
      "outputs": [
        {
          "output_type": "stream",
          "name": "stdout",
          "text": [
            "5\n",
            "2\n",
            "4\n"
          ]
        }
      ]
    },
    {
      "cell_type": "markdown",
      "source": [
        "11. reduce() - apply a function to items of iterable cumulatively"
      ],
      "metadata": {
        "id": "nfdgVJIDEBJ9"
      }
    },
    {
      "cell_type": "code",
      "source": [
        "from functools import reduce\n",
        "nums = [2, 3, 4, 1, 5]\n",
        "pdt = reduce(lambda x, y: x * y, nums) # reduce() to find the product of elements in a list. it finds product by multipliying elements one by one\n",
        "print(pdt)"
      ],
      "metadata": {
        "colab": {
          "base_uri": "https://localhost:8080/"
        },
        "id": "rsaMmr_hD9Po",
        "outputId": "a9b59fa3-5efe-4cc3-ed4f-0afa7b270603"
      },
      "execution_count": null,
      "outputs": [
        {
          "output_type": "stream",
          "name": "stdout",
          "text": [
            "120\n"
          ]
        }
      ]
    },
    {
      "cell_type": "code",
      "source": [],
      "metadata": {
        "id": "4aeOsUyJFBWp"
      },
      "execution_count": null,
      "outputs": []
    },
    {
      "cell_type": "markdown",
      "source": [
        "2. Write a Python function that sorts a dictionary based on the length of values.\n",
        "\n",
        "Sample:\n",
        "\n",
        "Input: {'lemon':'yellow','apple':'red'} output: {'apple':'red','lemon':'yellow'}"
      ],
      "metadata": {
        "id": "ZYlhLReTp_g1"
      }
    },
    {
      "cell_type": "code",
      "source": [
        "def sort_dict(input):\n",
        "  sorted_dict = dict(sorted(input.items(), key=lambda item: len(item[1])))\n",
        "  return sorted_dict"
      ],
      "metadata": {
        "id": "XLad4RnKp-bK"
      },
      "execution_count": null,
      "outputs": []
    },
    {
      "cell_type": "code",
      "source": [
        "inp = {'lemon':'yellow','apple':'red', 'orange':'orange', 'grapes':'green'}\n",
        "output = sort_dict(inp)\n",
        "print(output)"
      ],
      "metadata": {
        "colab": {
          "base_uri": "https://localhost:8080/"
        },
        "id": "9PsS_7wTqTWY",
        "outputId": "84055d68-7914-46c4-e174-8c94d3061d8b"
      },
      "execution_count": null,
      "outputs": [
        {
          "output_type": "stream",
          "name": "stdout",
          "text": [
            "{'apple': 'red', 'grapes': 'green', 'lemon': 'yellow', 'orange': 'orange'}\n"
          ]
        }
      ]
    },
    {
      "cell_type": "code",
      "source": [],
      "metadata": {
        "id": "JD65HIk5qcMy"
      },
      "execution_count": null,
      "outputs": []
    },
    {
      "cell_type": "markdown",
      "source": [
        "3. Develop a Python program that executes the following tasks with a user-provided string:\n",
        "\n"
      ],
      "metadata": {
        "id": "3bBjpMLEqo5O"
      }
    },
    {
      "cell_type": "markdown",
      "source": [
        "a. Prompt the user to input a string."
      ],
      "metadata": {
        "id": "tU4sL5iOqtAS"
      }
    },
    {
      "cell_type": "code",
      "source": [
        "inp = input(\"Enter a string: \")"
      ],
      "metadata": {
        "colab": {
          "base_uri": "https://localhost:8080/"
        },
        "id": "ZyL-4UidqpkG",
        "outputId": "5916d823-31aa-40a3-cf6c-20c2873472b6"
      },
      "execution_count": null,
      "outputs": [
        {
          "name": "stdout",
          "output_type": "stream",
          "text": [
            "Enter a string: abhbehbuidhiuhcfcuiehd\n"
          ]
        }
      ]
    },
    {
      "cell_type": "markdown",
      "source": [
        "b. Create a dictionary from the string where each key is a unique alphabet character and the corresponding value is the frequency of that character's occurrence in the string.\n",
        "\n"
      ],
      "metadata": {
        "id": "kTe4lif9rD-j"
      }
    },
    {
      "cell_type": "code",
      "source": [
        "dict1 = {}\n",
        "for c in inp:\n",
        "  dict1[c] = dict1.get(c,0)+1\n",
        "print(dict1)"
      ],
      "metadata": {
        "colab": {
          "base_uri": "https://localhost:8080/"
        },
        "id": "VZr4SkXeq205",
        "outputId": "313ffe0f-72c9-4d63-943b-c34b53395b22"
      },
      "execution_count": null,
      "outputs": [
        {
          "output_type": "stream",
          "name": "stdout",
          "text": [
            "{'a': 1, 'b': 3, 'h': 5, 'e': 2, 'u': 3, 'i': 3, 'd': 2, 'c': 2, 'f': 1}\n"
          ]
        }
      ]
    },
    {
      "cell_type": "markdown",
      "source": [
        "c. Generate a sorted list of tuples from the dictionary based on character frequency (values).\n",
        "\n"
      ],
      "metadata": {
        "id": "xAtv9vgDsdDN"
      }
    },
    {
      "cell_type": "code",
      "source": [
        "l1 = list(sorted(dict1.items(), key = lambda x: x[1]))\n",
        "print(l1)"
      ],
      "metadata": {
        "colab": {
          "base_uri": "https://localhost:8080/"
        },
        "id": "8bNPZ5jKrRi6",
        "outputId": "7fbd7830-edb3-42cc-c1be-b7eab752002e"
      },
      "execution_count": null,
      "outputs": [
        {
          "output_type": "stream",
          "name": "stdout",
          "text": [
            "[('a', 1), ('f', 1), ('e', 2), ('d', 2), ('c', 2), ('b', 3), ('u', 3), ('i', 3), ('h', 5)]\n"
          ]
        }
      ]
    },
    {
      "cell_type": "markdown",
      "source": [
        "d. Generate a sorted list of tuples from the dictionary based on the alphabet characters (keys)."
      ],
      "metadata": {
        "id": "8bLszrzkvTOZ"
      }
    },
    {
      "cell_type": "code",
      "source": [
        "l2 = list(sorted(dict1.items(), key = lambda x: x[0]))\n",
        "print(l2)"
      ],
      "metadata": {
        "colab": {
          "base_uri": "https://localhost:8080/"
        },
        "id": "gg1cuJvduygk",
        "outputId": "1baf0e53-94e4-4b22-d833-c1d98bad53a0"
      },
      "execution_count": null,
      "outputs": [
        {
          "output_type": "stream",
          "name": "stdout",
          "text": [
            "[('a', 1), ('b', 3), ('c', 2), ('d', 2), ('e', 2), ('f', 1), ('h', 5), ('i', 3), ('u', 3)]\n"
          ]
        }
      ]
    },
    {
      "cell_type": "markdown",
      "source": [
        "e. Identify the three most frequently occurring characters. In the event of a frequency tie, prioritize characters in lexicographical order.\n",
        "\n",
        "\n"
      ],
      "metadata": {
        "id": "zD6KZ5GVvmiu"
      }
    },
    {
      "cell_type": "code",
      "source": [
        "l3 = list(sorted(l2, key = lambda x:x[1], reverse = True))\n",
        "l4 = l3[:3]\n",
        "print(l4)"
      ],
      "metadata": {
        "colab": {
          "base_uri": "https://localhost:8080/"
        },
        "id": "2oH2EAgQvY84",
        "outputId": "b5a6bbba-e6ee-4f3f-a334-a68986443139"
      },
      "execution_count": null,
      "outputs": [
        {
          "output_type": "stream",
          "name": "stdout",
          "text": [
            "[('h', 5), ('b', 3), ('i', 3)]\n"
          ]
        }
      ]
    },
    {
      "cell_type": "code",
      "source": [],
      "metadata": {
        "id": "Fu7a1Uk7zqsf"
      },
      "execution_count": null,
      "outputs": []
    },
    {
      "cell_type": "markdown",
      "source": [
        "4. Write a function called lookup_student that takes a dictionary representing student records, where names are keys and roll numbers are values. The function should search for a specified student name and return the corresponding roll number if found; otherwise, it should return \"Not Found\"\n",
        "\n"
      ],
      "metadata": {
        "id": "l4DeEFZ60nQp"
      }
    },
    {
      "cell_type": "code",
      "source": [
        "def lookup_student(dict1, name):\n",
        "  if name in dict1:\n",
        "    return dict1[name]\n",
        "  else:\n",
        "    return \"Not Found\""
      ],
      "metadata": {
        "id": "j8t27iM-1xgi"
      },
      "execution_count": null,
      "outputs": []
    },
    {
      "cell_type": "code",
      "source": [
        "records = { \"Alice\" : \"AB111\", \"Bob\" : \"EE200\", \"David\" : \"XY333\", \"Messi\": \"DC231\", \"Ronaldo\": \"AL345\", \"Sachin\": \"CT987\"}"
      ],
      "metadata": {
        "id": "YZmhTqcS23ML"
      },
      "execution_count": null,
      "outputs": []
    },
    {
      "cell_type": "code",
      "source": [
        "print(lookup_student(records,\"Bob\"))\n",
        "print(lookup_student(records,\"Messi\"))\n",
        "print(lookup_student(records,\"John\"))"
      ],
      "metadata": {
        "colab": {
          "base_uri": "https://localhost:8080/"
        },
        "id": "vkxh-2RM2TqB",
        "outputId": "1233e743-42f2-4332-8ba7-61c86208a9bd"
      },
      "execution_count": null,
      "outputs": [
        {
          "output_type": "stream",
          "name": "stdout",
          "text": [
            "EE200\n",
            "DC231\n",
            "Not Found\n"
          ]
        }
      ]
    },
    {
      "cell_type": "code",
      "source": [],
      "metadata": {
        "id": "jsi6clNp2WLt"
      },
      "execution_count": null,
      "outputs": []
    },
    {
      "cell_type": "markdown",
      "source": [
        "5. Given a list of integers, write a Python program to: <br>\n",
        "a) Find the frequency of each integer in the list and store the result in a dictionary.\n",
        "\n"
      ],
      "metadata": {
        "id": "aowtVspG3an0"
      }
    },
    {
      "cell_type": "code",
      "source": [
        "nums = [3,4,2,1,4,3,1,2,5,7,4,3,5,1,2,3,4,5,6,2,1,4,3,2,1,6,5]\n",
        "num_dict = {}\n",
        "for i in nums:\n",
        "  num_dict[i] = num_dict.get(i,0)+1\n",
        "print(num_dict)"
      ],
      "metadata": {
        "colab": {
          "base_uri": "https://localhost:8080/"
        },
        "id": "VvInCSDz3nGf",
        "outputId": "4e7bf358-c73c-4cf7-835d-348d5a24c2a7"
      },
      "execution_count": null,
      "outputs": [
        {
          "output_type": "stream",
          "name": "stdout",
          "text": [
            "{3: 5, 4: 5, 2: 5, 1: 5, 5: 4, 7: 1, 6: 2}\n"
          ]
        }
      ]
    },
    {
      "cell_type": "markdown",
      "source": [
        "b) Print the maximum integer and its frequency.\n",
        "\n"
      ],
      "metadata": {
        "id": "0N90OWJk4KXe"
      }
    },
    {
      "cell_type": "code",
      "source": [
        "max_int = max(nums)\n",
        "freq = num_dict[max_int]\n",
        "print(f\"Max integer is: {max_int} and its frequency is {freq}.\")"
      ],
      "metadata": {
        "colab": {
          "base_uri": "https://localhost:8080/"
        },
        "id": "4daNx4hr4AMN",
        "outputId": "a2c0f0da-ae1b-4f0e-c927-cb1121d83299"
      },
      "execution_count": null,
      "outputs": [
        {
          "output_type": "stream",
          "name": "stdout",
          "text": [
            "Max integer is: 7 and its frequency is 1.\n"
          ]
        }
      ]
    },
    {
      "cell_type": "markdown",
      "source": [
        "c) Remove duplicates from the list and print the new list without changing the order of elements. Do this operation without using the set data type."
      ],
      "metadata": {
        "id": "73_JOA3p4y_2"
      }
    },
    {
      "cell_type": "code",
      "source": [
        "nums1 = []\n",
        "for i in nums:\n",
        "  if i not in nums1:\n",
        "    nums1.append(i)\n",
        "print(nums1)"
      ],
      "metadata": {
        "colab": {
          "base_uri": "https://localhost:8080/"
        },
        "id": "6_vtu0t74uAU",
        "outputId": "34e8ee37-4015-4159-fa6f-47e4250f9bdb"
      },
      "execution_count": null,
      "outputs": [
        {
          "output_type": "stream",
          "name": "stdout",
          "text": [
            "[3, 4, 2, 1, 5, 7, 6]\n"
          ]
        }
      ]
    },
    {
      "cell_type": "markdown",
      "source": [
        "d) Remove duplicates from the list and print the new list. Do this operation using the set data type."
      ],
      "metadata": {
        "id": "iYeUdBV-5L_9"
      }
    },
    {
      "cell_type": "code",
      "source": [
        "nums2 = []\n",
        "numset = set()\n",
        "for i in nums:\n",
        "  if i in numset:\n",
        "    continue\n",
        "  else:\n",
        "    nums2.append(i)\n",
        "    numset.add(i)\n",
        "print(nums2)"
      ],
      "metadata": {
        "colab": {
          "base_uri": "https://localhost:8080/"
        },
        "id": "41QSW1ZP49sH",
        "outputId": "16c2df1b-df2e-4195-97c6-c6e2ee3738cb"
      },
      "execution_count": null,
      "outputs": [
        {
          "output_type": "stream",
          "name": "stdout",
          "text": [
            "[3, 4, 2, 1, 5, 7, 6]\n"
          ]
        }
      ]
    },
    {
      "cell_type": "code",
      "source": [],
      "metadata": {
        "id": "t_oZJnvv6eSU"
      },
      "execution_count": null,
      "outputs": []
    }
  ]
}