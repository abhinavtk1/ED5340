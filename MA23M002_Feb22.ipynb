{
  "nbformat": 4,
  "nbformat_minor": 0,
  "metadata": {
    "colab": {
      "provenance": [],
      "authorship_tag": "ABX9TyNbqdi5dlJsvf1peaL1W48i",
      "include_colab_link": true
    },
    "kernelspec": {
      "name": "python3",
      "display_name": "Python 3"
    },
    "language_info": {
      "name": "python"
    }
  },
  "cells": [
    {
      "cell_type": "markdown",
      "metadata": {
        "id": "view-in-github",
        "colab_type": "text"
      },
      "source": [
        "<a href=\"https://colab.research.google.com/github/abhinavtk1/ED5340-CW/blob/main/MA23M002_Feb22.ipynb\" target=\"_parent\"><img src=\"https://colab.research.google.com/assets/colab-badge.svg\" alt=\"Open In Colab\"/></a>"
      ]
    },
    {
      "cell_type": "code",
      "execution_count": 33,
      "metadata": {
        "id": "RnEgMiNeE3Cl"
      },
      "outputs": [],
      "source": [
        "class Base:\n",
        "  def __init__(self, marks=0):\n",
        "    self.__marks = marks\n",
        "  def printB(self):\n",
        "    print(id(self.__marks))"
      ]
    },
    {
      "cell_type": "code",
      "source": [
        "class Derived(Base):\n",
        "  def __init__(self, marks1):\n",
        "    super().__init__()\n",
        "    self.marks1 = marks1\n",
        "    self.__marks = 89\n",
        "  def printM(self):\n",
        "    print(id(self.__marks))\n"
      ],
      "metadata": {
        "id": "ILDrqxxPGmVD"
      },
      "execution_count": 34,
      "outputs": []
    },
    {
      "cell_type": "code",
      "source": [
        "c2 = Base(88)"
      ],
      "metadata": {
        "id": "qDqB7s0vHIki"
      },
      "execution_count": 35,
      "outputs": []
    },
    {
      "cell_type": "code",
      "source": [
        "c1 = Derived(11)"
      ],
      "metadata": {
        "id": "OOzgRe7GGxjc"
      },
      "execution_count": 36,
      "outputs": []
    },
    {
      "cell_type": "code",
      "source": [
        "c1.printM()"
      ],
      "metadata": {
        "colab": {
          "base_uri": "https://localhost:8080/"
        },
        "id": "yEiiTAXrG1pB",
        "outputId": "ad2ebf2f-ddb2-4d8d-f249-8deb38ed84ee"
      },
      "execution_count": 37,
      "outputs": [
        {
          "output_type": "stream",
          "name": "stdout",
          "text": [
            "135582275341296\n"
          ]
        }
      ]
    },
    {
      "cell_type": "code",
      "source": [
        "c2.printB()"
      ],
      "metadata": {
        "colab": {
          "base_uri": "https://localhost:8080/"
        },
        "id": "nT33CGnLG5fA",
        "outputId": "42dd4e94-f90f-4ffe-87ea-4927becbbe18"
      },
      "execution_count": 38,
      "outputs": [
        {
          "output_type": "stream",
          "name": "stdout",
          "text": [
            "135582275341264\n"
          ]
        }
      ]
    },
    {
      "cell_type": "code",
      "source": [
        "# Multi-level inheritance & Multiple inheritance"
      ],
      "metadata": {
        "id": "RT4oafNdHuOZ"
      },
      "execution_count": 39,
      "outputs": []
    },
    {
      "cell_type": "code",
      "source": [
        "class Base1:\n",
        "  def __init__(self, a=0):\n",
        "    self.a = a\n",
        "  def printB1(self):\n",
        "    print(self.a)"
      ],
      "metadata": {
        "id": "II1tdIB6IcsC"
      },
      "execution_count": 73,
      "outputs": []
    },
    {
      "cell_type": "code",
      "source": [
        "class Derived1(Base1):\n",
        "  def __init__(self,a, b):\n",
        "    super().__init__(a)\n",
        "    self.b = b\n",
        "  def met2(self):\n",
        "    print(self.b)"
      ],
      "metadata": {
        "id": "iDZJ2nvEIuCF"
      },
      "execution_count": 55,
      "outputs": []
    },
    {
      "cell_type": "code",
      "source": [
        "class Derived2(Derived1):\n",
        "  def __init__(self,a, b, c):\n",
        "    super().__init__(a, b)\n",
        "    self.c = c\n",
        "  def met3(self):\n",
        "    print(self.c)"
      ],
      "metadata": {
        "id": "MChjroaRJCAW"
      },
      "execution_count": 56,
      "outputs": []
    },
    {
      "cell_type": "code",
      "source": [
        "d2 = Derived2(1, 2, 3)"
      ],
      "metadata": {
        "id": "R8JmGhgiJdkA"
      },
      "execution_count": 57,
      "outputs": []
    },
    {
      "cell_type": "code",
      "source": [
        "d2.met1()"
      ],
      "metadata": {
        "colab": {
          "base_uri": "https://localhost:8080/"
        },
        "id": "T4Cu8I-KJkNX",
        "outputId": "e0b97a67-fcb6-4c1e-eff3-120c7335bea4"
      },
      "execution_count": 58,
      "outputs": [
        {
          "output_type": "stream",
          "name": "stdout",
          "text": [
            "1\n"
          ]
        }
      ]
    },
    {
      "cell_type": "code",
      "source": [
        "d2.met2()"
      ],
      "metadata": {
        "colab": {
          "base_uri": "https://localhost:8080/"
        },
        "id": "N6-88VmnK02p",
        "outputId": "a9598294-ba02-48e5-d144-598bafbf839e"
      },
      "execution_count": 59,
      "outputs": [
        {
          "output_type": "stream",
          "name": "stdout",
          "text": [
            "2\n"
          ]
        }
      ]
    },
    {
      "cell_type": "code",
      "source": [
        "d2.met3()"
      ],
      "metadata": {
        "colab": {
          "base_uri": "https://localhost:8080/"
        },
        "id": "JWZmTfzEK3dP",
        "outputId": "35a6237a-5ff7-4213-d882-746862ee4f9c"
      },
      "execution_count": 60,
      "outputs": [
        {
          "output_type": "stream",
          "name": "stdout",
          "text": [
            "3\n"
          ]
        }
      ]
    },
    {
      "cell_type": "code",
      "source": [
        "# Multiple inheritance"
      ],
      "metadata": {
        "id": "YGHh_gbGK5MO"
      },
      "execution_count": 61,
      "outputs": []
    },
    {
      "cell_type": "code",
      "source": [
        "class Base2:\n",
        "  def __init__(self, name=0):\n",
        "    self.__name = name\n",
        "  def printB2(self):\n",
        "    print(self.__name)"
      ],
      "metadata": {
        "id": "amT-Sjd3K8rI"
      },
      "execution_count": 84,
      "outputs": []
    },
    {
      "cell_type": "code",
      "source": [
        "class Derived3(Base1, Base2):\n",
        "  def __init__(self, name1, name2, name3):\n",
        "    Base1.__init__(self, name1)\n",
        "    Base2.__init__(self, name2)\n",
        "    self.name3 = name3\n",
        "    #print('Derived 3 constructor')\n",
        "  def printName(self):\n",
        "    print(self.name3)\n",
        ""
      ],
      "metadata": {
        "id": "oSHd79BVLloH"
      },
      "execution_count": 96,
      "outputs": []
    },
    {
      "cell_type": "code",
      "source": [
        "d4 = Derived3('Abhinav', 'TK', 'Abhi')"
      ],
      "metadata": {
        "id": "daQrBFp7ML_K"
      },
      "execution_count": 97,
      "outputs": []
    },
    {
      "cell_type": "code",
      "source": [
        "d4.printB1()"
      ],
      "metadata": {
        "colab": {
          "base_uri": "https://localhost:8080/"
        },
        "id": "5Sd0pDTiMP7Z",
        "outputId": "764c322e-7204-410b-eb92-e07918033025"
      },
      "execution_count": 98,
      "outputs": [
        {
          "output_type": "stream",
          "name": "stdout",
          "text": [
            "Abhinav\n"
          ]
        }
      ]
    },
    {
      "cell_type": "code",
      "source": [
        "d4.printB2()"
      ],
      "metadata": {
        "colab": {
          "base_uri": "https://localhost:8080/"
        },
        "id": "FyTL0gswNpe_",
        "outputId": "b653a600-0202-4a5e-a546-d0e6c5131190"
      },
      "execution_count": 99,
      "outputs": [
        {
          "output_type": "stream",
          "name": "stdout",
          "text": [
            "TK\n"
          ]
        }
      ]
    },
    {
      "cell_type": "code",
      "source": [
        "d4.printName()"
      ],
      "metadata": {
        "colab": {
          "base_uri": "https://localhost:8080/"
        },
        "id": "XsdR7rIDNsHG",
        "outputId": "d44c5d1a-cbda-42ac-ce2e-166719f22f6c"
      },
      "execution_count": 100,
      "outputs": [
        {
          "output_type": "stream",
          "name": "stdout",
          "text": [
            "Abhi\n"
          ]
        }
      ]
    },
    {
      "cell_type": "code",
      "source": [
        "# Class containership - nested class (L11)"
      ],
      "metadata": {
        "id": "Zcyw0aboObJw"
      },
      "execution_count": 102,
      "outputs": []
    },
    {
      "cell_type": "code",
      "source": [
        "# Abstract classes - what are they?"
      ],
      "metadata": {
        "id": "_R0e1laYOppo"
      },
      "execution_count": 103,
      "outputs": []
    },
    {
      "cell_type": "code",
      "source": [
        "# Class variables and methods"
      ],
      "metadata": {
        "id": "dN-MurTWPe2c"
      },
      "execution_count": 104,
      "outputs": []
    },
    {
      "cell_type": "code",
      "source": [
        "# Dynamic creation of attributes"
      ],
      "metadata": {
        "id": "UzZbmo01Pi4J"
      },
      "execution_count": 105,
      "outputs": []
    },
    {
      "cell_type": "code",
      "source": [
        "class Passbook:\n",
        "  pass\n",
        "p1 = Passbook()\n",
        "p1._name = 'Raman'\n",
        "p1._age = 50"
      ],
      "metadata": {
        "id": "51VDU6iaPxIB"
      },
      "execution_count": 106,
      "outputs": []
    },
    {
      "cell_type": "code",
      "source": [
        "p1._name"
      ],
      "metadata": {
        "colab": {
          "base_uri": "https://localhost:8080/",
          "height": 35
        },
        "id": "jp8OeC1uQF5e",
        "outputId": "da0c24b0-64f9-4180-92a0-999ab9aa633c"
      },
      "execution_count": 107,
      "outputs": [
        {
          "output_type": "execute_result",
          "data": {
            "text/plain": [
              "'Raman'"
            ],
            "application/vnd.google.colaboratory.intrinsic+json": {
              "type": "string"
            }
          },
          "metadata": {},
          "execution_count": 107
        }
      ]
    },
    {
      "cell_type": "code",
      "source": [],
      "metadata": {
        "id": "jil4tEBNQJcH"
      },
      "execution_count": null,
      "outputs": []
    }
  ]
}