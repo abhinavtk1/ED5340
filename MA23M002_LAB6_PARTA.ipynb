{
  "nbformat": 4,
  "nbformat_minor": 0,
  "metadata": {
    "colab": {
      "provenance": [],
      "authorship_tag": "ABX9TyMEAarIzPOkkCAkrv5lm8Pk",
      "include_colab_link": true
    },
    "kernelspec": {
      "name": "python3",
      "display_name": "Python 3"
    },
    "language_info": {
      "name": "python"
    }
  },
  "cells": [
    {
      "cell_type": "markdown",
      "metadata": {
        "id": "view-in-github",
        "colab_type": "text"
      },
      "source": [
        "<a href=\"https://colab.research.google.com/github/abhinavtk1/ED5340-CW/blob/main/MA23M002_LAB6_PARTA.ipynb\" target=\"_parent\"><img src=\"https://colab.research.google.com/assets/colab-badge.svg\" alt=\"Open In Colab\"/></a>"
      ]
    },
    {
      "cell_type": "markdown",
      "source": [
        "# LAB 6: INHERITANCE & FILES - PART A\n"
      ],
      "metadata": {
        "id": "TKG8ttkmvzFx"
      }
    },
    {
      "cell_type": "markdown",
      "source": [
        "1. Design a class named Polygon that initializes with the length of a side. Then, derive a class named Square from the Polygon class. Utilize the side length defined in the Polygon class for the Square class. Within the Square class, implement a method called findArea() that calculates and returns the square's area based on its side length. Use __init__() for necessary initialization\n",
        "\n"
      ],
      "metadata": {
        "id": "LCtRBcd3vwFQ"
      }
    },
    {
      "cell_type": "code",
      "source": [
        "class Polygon:\n",
        "    def __init__(self, sideLength):\n",
        "        self.side_length = sideLength\n",
        "\n",
        "class Square(Polygon):\n",
        "    def __init__(self, sideLength):\n",
        "        super().__init__(sideLength)\n",
        "\n",
        "    def findArea(self):\n",
        "        return self.side_length ** 2\n",
        "\n",
        "\n",
        "square1 = Square(5)\n",
        "print(\"Area of the square:\", square1.findArea())\n"
      ],
      "metadata": {
        "colab": {
          "base_uri": "https://localhost:8080/"
        },
        "id": "kXRYZ3NTvxbe",
        "outputId": "5a6e5f84-e38f-481c-cfda-44899463bff8"
      },
      "execution_count": 1,
      "outputs": [
        {
          "output_type": "stream",
          "name": "stdout",
          "text": [
            "Area of the square: 25\n"
          ]
        }
      ]
    },
    {
      "cell_type": "code",
      "source": [],
      "metadata": {
        "id": "osB3J23LwFF3"
      },
      "execution_count": null,
      "outputs": []
    },
    {
      "cell_type": "markdown",
      "source": [
        "2) (a)  Create a class Father with attributes:\n",
        "    - father_name (string), father_age (int), father_talents (set of strings) <br>\n",
        "\n",
        "  Create a class Mother with attributes:\n",
        "\n",
        "  - mother_name (string), mother_age (int), mother_talents (set of strings) <br>\n",
        "\n",
        "Create a class Child that inherits both father and mother with attributes:\n",
        "\n",
        "  - child_name (string), child_age (int), child_gender(string) <br>              \n",
        "\n",
        "(b) Create a function getChildDetails() in Child to input the details of the child, it’s father and mother and printChildDetails() to print the details using     printChildDetails() <br>\n",
        "\n",
        "(c) Create an object of class Child and read the details by invoking getChildDetails() and display the details entered. <br>\n",
        "\n",
        "(d) Create a function displayTalents() in class Child that displays the talents of the child inherited from father and mother. A talent is inherited to a child if both the parents possess it.<br>"
      ],
      "metadata": {
        "id": "-PfhS-CuwFnR"
      }
    },
    {
      "cell_type": "code",
      "source": [
        "class Father:\n",
        "    def __init__(self, father_name, father_age, father_talents):\n",
        "        self.father_name = father_name\n",
        "        self.father_age = father_age\n",
        "        self.father_talents = father_talents\n",
        "\n",
        "class Mother:\n",
        "    def __init__(self, mother_name, mother_age, mother_talents):\n",
        "        self.mother_name = mother_name\n",
        "        self.mother_age = mother_age\n",
        "        self.mother_talents = mother_talents\n",
        "\n",
        "class Child(Father, Mother):\n",
        "    def __init__(self, name=\"\", age=None, gender= '', father_name='', father_age=None, father_talents= [], mother_name =\"\", mother_age= None, mother_talents=[]):\n",
        "        Father.__init__(self, father_name, father_age, father_talents)\n",
        "        Mother.__init__(self, mother_name, mother_age, mother_talents)\n",
        "        self.name = name\n",
        "        self.age = age\n",
        "        self.gender = gender\n",
        "\n",
        "    def getChildDetails(self):\n",
        "        self.name = input(\"Enter child's name: \")\n",
        "        self.age = int(input(\"Enter child's age: \"))\n",
        "        self.gender = input(\"Enter child's gender: \")\n",
        "        self.father_name = input(\"Enter father's name: \")\n",
        "        self.father_age = int(input(\"Enter father's age: \"))\n",
        "        self.father_talents = list(input(\"Enter father's talents: \").split(','))\n",
        "        self.mother_name = input(\"Enter mother's name: \")\n",
        "        self.mother_age = int(input(\"Enter mother's age: \"))\n",
        "        self.mother_talents = list(input(\"Enter mother's talents: \").split(','))\n",
        "\n",
        "    def printChildDetails(self):\n",
        "        print(\"Child's Details:\")\n",
        "        print(\"Name:\", self.name)\n",
        "        print(\"Age:\", self.age)\n",
        "        print(\"Gender:\", self.gender)\n",
        "\n",
        "        print(\"Father's Name:\", self.father_name)\n",
        "        print(\"Father's Age:\", self.father_age)\n",
        "        print(\"Father's talents:\")\n",
        "        print(*self.father_talents, sep = \", \")\n",
        "\n",
        "        print(\"Mother's Name:\", self.mother_name)\n",
        "        print(\"Mother's Age:\", self.mother_age)\n",
        "        print(\"Mother's talents:\")\n",
        "        print(*self.mother_talents, sep = \", \")\n",
        "\n",
        "    def displayTalents(self):\n",
        "        child_talents = []\n",
        "        for talent in self.father_talents:\n",
        "          if talent in self.mother_talents:\n",
        "             child_talents.append(talent)\n",
        "        if child_talents:\n",
        "            print(\"Talents Inherited by the child from both parents:\")\n",
        "            print(*child_talents, sep=\", \")\n",
        "        else:\n",
        "            print(\"No talents inherited from parents.\")\n",
        "\n",
        "\n"
      ],
      "metadata": {
        "id": "4nb8X8FpwRQ_"
      },
      "execution_count": 28,
      "outputs": []
    },
    {
      "cell_type": "code",
      "source": [
        "# Create an object of Child\n",
        "child1 = Child()\n",
        "\n",
        "# GEt the details of child\n",
        "child1.getChildDetails()"
      ],
      "metadata": {
        "colab": {
          "base_uri": "https://localhost:8080/"
        },
        "id": "t2opegcRwmnF",
        "outputId": "3da4f58b-a5c4-406a-afae-421393bc7feb"
      },
      "execution_count": 32,
      "outputs": [
        {
          "name": "stdout",
          "output_type": "stream",
          "text": [
            "Enter child's name: Jack\n",
            "Enter child's age: 10\n",
            "Enter child's gender: Male\n",
            "Enter father's name: John\n",
            "Enter father's age: 44\n",
            "Enter father's talents: Singing,Running,Dancing\n",
            "Enter mother's name: Rose\n",
            "Enter mother's age: 42\n",
            "Enter mother's talents: Dancing,Singing,Cooking\n"
          ]
        }
      ]
    },
    {
      "cell_type": "code",
      "source": [
        "# Print the details\n",
        "child1.printChildDetails()"
      ],
      "metadata": {
        "colab": {
          "base_uri": "https://localhost:8080/"
        },
        "id": "YkEZ5iO3DsWJ",
        "outputId": "a457b3d8-f917-4fad-ae67-3fbaa542585f"
      },
      "execution_count": 33,
      "outputs": [
        {
          "output_type": "stream",
          "name": "stdout",
          "text": [
            "Child's Details:\n",
            "Name: Jack\n",
            "Age: 10\n",
            "Gender: Male\n",
            "Father's Name: John\n",
            "Father's Age: 44\n",
            "Father's talents:\n",
            "Singing, Running, Dancing\n",
            "Mother's Name: Rose\n",
            "Mother's Age: 42\n",
            "Mother's talents:\n",
            "Dancing, Singing, Cooking\n"
          ]
        }
      ]
    },
    {
      "cell_type": "code",
      "source": [
        "# Print talents inherited by child\n",
        "child1.displayTalents()"
      ],
      "metadata": {
        "colab": {
          "base_uri": "https://localhost:8080/"
        },
        "id": "P4p34LWKAATG",
        "outputId": "2eabd514-849b-45c3-d570-94d5d07d1962"
      },
      "execution_count": 34,
      "outputs": [
        {
          "output_type": "stream",
          "name": "stdout",
          "text": [
            "Talents Inherited by the child from both parents:\n",
            "Singing, Dancing\n"
          ]
        }
      ]
    },
    {
      "cell_type": "code",
      "source": [],
      "metadata": {
        "id": "h-CKXjQhAAQI"
      },
      "execution_count": null,
      "outputs": []
    },
    {
      "cell_type": "markdown",
      "source": [
        "3. Text File Input Output <br>\n",
        "Create a .txt (text) file and use the pledge of India as the content of the text file. <br>\n",
        "Write a python program that reads this text file, processes it by counting the number of occurrences of each word in the file, and then writes the result back to a new text file."
      ],
      "metadata": {
        "id": "W_Lm2tXbxZQe"
      }
    },
    {
      "cell_type": "code",
      "source": [
        "import re\n",
        "word_counter = {}\n",
        "with open('pledge.txt', 'r') as f:\n",
        "  for l in f:\n",
        "    for w in l.split():\n",
        "      if not w[-1].isalpha():\n",
        "        w = w[:-1]\n",
        "      w = w.lower()\n",
        "      word_counter[w] = word_counter.get(w, 0) + 1"
      ],
      "metadata": {
        "id": "bf7JONXBGl0D"
      },
      "execution_count": 41,
      "outputs": []
    },
    {
      "cell_type": "code",
      "source": [
        "with open(\"words_count.txt\", \"w\") as file:\n",
        "    file.write(\"The word count in pledge of India: \\n\")\n",
        "    for k, v in word_counter.items():\n",
        "        file.write(f\"{k}: {v}\\n\")"
      ],
      "metadata": {
        "id": "qyULSxwFJ6t5"
      },
      "execution_count": 42,
      "outputs": []
    },
    {
      "cell_type": "code",
      "source": [
        "# Read words_count.txt file\n",
        "with open('words_count.txt', 'r') as f:\n",
        "  for l in f:\n",
        "    print(l)"
      ],
      "metadata": {
        "colab": {
          "base_uri": "https://localhost:8080/"
        },
        "id": "B8dJ-UbsJYoR",
        "outputId": "ebf92c93-7f99-4d91-f95b-2817024474e4"
      },
      "execution_count": 43,
      "outputs": [
        {
          "output_type": "stream",
          "name": "stdout",
          "text": [
            "The word count in pledge of India: \n",
            "\n",
            "india: 1\n",
            "\n",
            "is: 1\n",
            "\n",
            "my: 8\n",
            "\n",
            "country: 3\n",
            "\n",
            "and: 8\n",
            "\n",
            "all: 1\n",
            "\n",
            "indians: 1\n",
            "\n",
            "are: 1\n",
            "\n",
            "brothers: 1\n",
            "\n",
            "sisters: 1\n",
            "\n",
            "i: 5\n",
            "\n",
            "love: 1\n",
            "\n",
            "am: 1\n",
            "\n",
            "proud: 1\n",
            "\n",
            "of: 2\n",
            "\n",
            "its: 1\n",
            "\n",
            "rich: 1\n",
            "\n",
            "varied: 1\n",
            "\n",
            "heritage: 1\n",
            "\n",
            "shall: 2\n",
            "\n",
            "always: 1\n",
            "\n",
            "strive: 1\n",
            "\n",
            "to: 3\n",
            "\n",
            "be: 1\n",
            "\n",
            "worthy: 1\n",
            "\n",
            "it: 1\n",
            "\n",
            "give: 1\n",
            "\n",
            "respect: 1\n",
            "\n",
            "parents: 1\n",
            "\n",
            "teachers: 1\n",
            "\n",
            "elders: 1\n",
            "\n",
            "treat: 1\n",
            "\n",
            "everyone: 1\n",
            "\n",
            "with: 1\n",
            "\n",
            "courtesy: 1\n",
            "\n",
            "people: 1\n",
            "\n",
            "pledge: 1\n",
            "\n",
            "devotion: 1\n",
            "\n",
            "in: 1\n",
            "\n",
            "their: 1\n",
            "\n",
            "well: 1\n",
            "\n",
            "being: 1\n",
            "\n",
            "prosperity: 1\n",
            "\n",
            "alone: 1\n",
            "\n",
            "lies: 1\n",
            "\n",
            "happiness: 1\n",
            "\n",
            "jai: 1\n",
            "\n",
            "hind: 1\n",
            "\n"
          ]
        }
      ]
    },
    {
      "cell_type": "code",
      "source": [],
      "metadata": {
        "id": "Tqknh23yMq3N"
      },
      "execution_count": null,
      "outputs": []
    },
    {
      "cell_type": "markdown",
      "source": [
        " 4.  For a restaurant, create a parent class ‘Bill’ which has the properties as ‘Customer  name’, ‘Table Number’ and ‘Order’ of which the name, order are strings and table  number is a positive integer. Define a method to extract the order details from the string and return a 2-D array of ordered items & their number. <br>\n",
        " Create a child class ‘ 'Restaurant Bill’ which has a property called ‘Price list’ of the items and has a method to calculate the total bill amount by using the price list and order details. Also have a   method to print the complete bill for the customer including taxes and service charges."
      ],
      "metadata": {
        "id": "snlGulUnKjmi"
      }
    },
    {
      "cell_type": "code",
      "source": [
        "class Bill:\n",
        "    def __init__(self, cust_name, tbl_no, order):\n",
        "        self.customer_name = cust_name\n",
        "        self.table_number = tbl_no\n",
        "        self.order = order\n",
        "\n",
        "    def get_order_details(self):\n",
        "        items = self.order.split(',')\n",
        "        order_items = [] # 2-D array to store ordered items and quantities\n",
        "        for item in items:\n",
        "            name, amt = item.strip().split('x')\n",
        "            order_items.append([name, int(amt)])\n",
        "        return order_items\n",
        "\n",
        "class RestaurantBill(Bill):\n",
        "    def __init__(self, cust_name, tbl_no, order, price_list):\n",
        "        super().__init__(cust_name, tbl_no, order)\n",
        "        self.price_list = price_list\n",
        "\n",
        "    def get_price_details(self):\n",
        "        items = self.price_list.split(',')\n",
        "        item_prices = dict() # Dictionary to store items and their quantities\n",
        "        for item in items:\n",
        "            name, price = item.strip().split('-')\n",
        "            item_prices[name] =  int(price)\n",
        "        return item_prices\n",
        "\n",
        "    def total_bill_calculation(self):\n",
        "        total_bill = 0\n",
        "        order_details = self.get_order_details()\n",
        "        if isinstance(self.price_list, str):\n",
        "          item_prices = self.get_price_details()\n",
        "        else:\n",
        "          item_prices = self.price_list\n",
        "        for item, count in order_details:\n",
        "            total_bill += item_prices[item] * count\n",
        "        return total_bill\n",
        "\n",
        "    def print_bill(self):\n",
        "        total_bill = self.total_bill_calculation()\n",
        "        taxes = total_bill * 0.1\n",
        "        service_charges = total_bill * 0.05\n",
        "        final_amount = total_bill + taxes + service_charges\n",
        "\n",
        "        print(\"Customer Name:\", self.customer_name)\n",
        "        print(\"Table Number:\", self.table_number)\n",
        "        print(\"Ordered Items:\")\n",
        "        order_details = self.get_order_details()\n",
        "        for item, amt in order_details:\n",
        "            print(f\"{item}: {amt}\")\n",
        "        print()\n",
        "        print(\"Total Bill: Rs.\", total_bill)\n",
        "        print(\"Tax (10%): Rs.\", taxes)\n",
        "        print(\"Service Charge (5%): Rs.\", service_charges)\n",
        "        print()\n",
        "        print(\"Total Amount: Rs.\", final_amount)\n",
        "        print(\"THANK YOU!\")"
      ],
      "metadata": {
        "id": "rMbiLopbKkfT"
      },
      "execution_count": 82,
      "outputs": []
    },
    {
      "cell_type": "code",
      "source": [
        "bill1 = RestaurantBill(\"Abhinav\", 3, \"Biryanix1,Rotisx3,Chicken Fryx1,Juicex5\", \"Biryani-100,Rotis-70,Chicken Fry-250,Juice-25\")\n",
        "bill1.print_bill()"
      ],
      "metadata": {
        "colab": {
          "base_uri": "https://localhost:8080/"
        },
        "id": "jekMrp6vVJ_3",
        "outputId": "b9c70bf6-baad-4c92-caa8-5352cd06ad81"
      },
      "execution_count": 83,
      "outputs": [
        {
          "output_type": "stream",
          "name": "stdout",
          "text": [
            "Customer Name: Abhinav\n",
            "Table Number: 3\n",
            "Ordered Items:\n",
            "Biryani: 1\n",
            "Rotis: 3\n",
            "Chicken Fry: 1\n",
            "Juice: 5\n",
            "\n",
            "Total Bill: Rs. 685\n",
            "Tax (10%): Rs. 68.5\n",
            "Service Charge (5%): Rs. 34.25\n",
            "\n",
            "Total Amount: Rs. 787.75\n",
            "THANK YOU!\n"
          ]
        }
      ]
    },
    {
      "cell_type": "code",
      "source": [],
      "metadata": {
        "id": "IzIiMsjKVMFj"
      },
      "execution_count": 83,
      "outputs": []
    },
    {
      "cell_type": "markdown",
      "source": [
        " 5. For the previous question( restaurant Bill) - take name, table no, order details from a file, price list from another file and print the whole bill to the new file."
      ],
      "metadata": {
        "id": "78_dYpA1WdWw"
      }
    },
    {
      "cell_type": "code",
      "source": [
        "with open('order.txt', 'r') as f:\n",
        "  outputdict = dict()\n",
        "  for l in f:\n",
        "    a,b = l.split(\": \")\n",
        "    outputdict[a] = b.strip()\n",
        "outputdict['Table Number'] = int(outputdict['Table Number'])"
      ],
      "metadata": {
        "id": "d7SP6IuuWiU-"
      },
      "execution_count": 84,
      "outputs": []
    },
    {
      "cell_type": "code",
      "source": [
        "outputdict"
      ],
      "metadata": {
        "colab": {
          "base_uri": "https://localhost:8080/"
        },
        "id": "AJgWabJZYft1",
        "outputId": "ca260b8e-f91d-4f8b-955e-95ef433e991f"
      },
      "execution_count": 85,
      "outputs": [
        {
          "output_type": "execute_result",
          "data": {
            "text/plain": [
              "{'Name': 'Abhinav',\n",
              " 'Table Number': 3,\n",
              " 'Order Details': 'Biryanix1,Rotisx3,Chicken Fryx1,Juicex5'}"
            ]
          },
          "metadata": {},
          "execution_count": 85
        }
      ]
    },
    {
      "cell_type": "code",
      "source": [
        "with open('price_list.txt', 'r') as f:\n",
        "  pricedict = dict()\n",
        "  for l in f:\n",
        "    a,b = l.split(\":\")\n",
        "    pricedict[a] = int(b.strip())"
      ],
      "metadata": {
        "id": "_hCqmLuSZNXs"
      },
      "execution_count": 86,
      "outputs": []
    },
    {
      "cell_type": "code",
      "source": [
        "pricedict"
      ],
      "metadata": {
        "colab": {
          "base_uri": "https://localhost:8080/"
        },
        "id": "h7qdNKRmaR_5",
        "outputId": "015cfd41-6e38-47b5-e3db-bd8e3a7d0a64"
      },
      "execution_count": 87,
      "outputs": [
        {
          "output_type": "execute_result",
          "data": {
            "text/plain": [
              "{'Biryani': 100, 'Rotis': 70, 'Chicken Fry': 250, 'Juice': 25}"
            ]
          },
          "metadata": {},
          "execution_count": 87
        }
      ]
    },
    {
      "cell_type": "code",
      "source": [
        "bill2 = RestaurantBill(outputdict[\"Name\"], outputdict[\"Table Number\"], outputdict[\"Order Details\"], pricedict)\n",
        "bill2.print_bill()"
      ],
      "metadata": {
        "colab": {
          "base_uri": "https://localhost:8080/"
        },
        "id": "mBawbQKmaU8i",
        "outputId": "62a28526-5b52-44fa-c5c4-353ee65dfe43"
      },
      "execution_count": 88,
      "outputs": [
        {
          "output_type": "stream",
          "name": "stdout",
          "text": [
            "Customer Name: Abhinav\n",
            "Table Number: 3\n",
            "Ordered Items:\n",
            "Biryani: 1\n",
            "Rotis: 3\n",
            "Chicken Fry: 1\n",
            "Juice: 5\n",
            "\n",
            "Total Bill: Rs. 685\n",
            "Tax (10%): Rs. 68.5\n",
            "Service Charge (5%): Rs. 34.25\n",
            "\n",
            "Total Amount: Rs. 787.75\n",
            "THANK YOU!\n"
          ]
        }
      ]
    },
    {
      "cell_type": "code",
      "source": [],
      "metadata": {
        "id": "qregSziPbw8V"
      },
      "execution_count": null,
      "outputs": []
    }
  ]
}