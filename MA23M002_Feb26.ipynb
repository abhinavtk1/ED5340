{
  "nbformat": 4,
  "nbformat_minor": 0,
  "metadata": {
    "colab": {
      "provenance": [],
      "authorship_tag": "ABX9TyMPQs4TquyURKXEK8etGeWr",
      "include_colab_link": true
    },
    "kernelspec": {
      "name": "python3",
      "display_name": "Python 3"
    },
    "language_info": {
      "name": "python"
    }
  },
  "cells": [
    {
      "cell_type": "markdown",
      "metadata": {
        "id": "view-in-github",
        "colab_type": "text"
      },
      "source": [
        "<a href=\"https://colab.research.google.com/github/abhinavtk1/ED5340-CW/blob/main/MA23M002_Feb26.ipynb\" target=\"_parent\"><img src=\"https://colab.research.google.com/assets/colab-badge.svg\" alt=\"Open In Colab\"/></a>"
      ]
    },
    {
      "cell_type": "code",
      "source": [
        "# Python libraries"
      ],
      "metadata": {
        "id": "IyYQrc-AMqCM"
      },
      "execution_count": 15,
      "outputs": []
    },
    {
      "cell_type": "code",
      "execution_count": 6,
      "metadata": {
        "id": "6lT8mCVVIg2z"
      },
      "outputs": [],
      "source": [
        "# pandas\n",
        "import pandas as pd\n",
        "data = pd.read_csv('test.csv')"
      ]
    },
    {
      "cell_type": "code",
      "source": [
        "print(type(data))"
      ],
      "metadata": {
        "colab": {
          "base_uri": "https://localhost:8080/"
        },
        "id": "Ig9qg5M7L2Dx",
        "outputId": "76f473b7-d02a-43cc-d016-795f880017c5"
      },
      "execution_count": 16,
      "outputs": [
        {
          "output_type": "stream",
          "name": "stdout",
          "text": [
            "<class 'pandas.core.frame.DataFrame'>\n"
          ]
        }
      ]
    },
    {
      "cell_type": "code",
      "source": [
        "print(data)"
      ],
      "metadata": {
        "colab": {
          "base_uri": "https://localhost:8080/"
        },
        "id": "wduEWkc6L4KW",
        "outputId": "fdfe4566-a3a0-4178-cae0-99c75a3ac91e"
      },
      "execution_count": 8,
      "outputs": [
        {
          "output_type": "stream",
          "name": "stdout",
          "text": [
            "   x   y\n",
            "0  a   1\n",
            "1  b   2\n",
            "2  c   3\n",
            "3  d   4\n",
            "4  e   5\n",
            "5  f   6\n",
            "6  g   7\n",
            "7  h   8\n",
            "8  i   9\n",
            "9  j  10\n"
          ]
        }
      ]
    },
    {
      "cell_type": "code",
      "source": [
        "data.columns"
      ],
      "metadata": {
        "colab": {
          "base_uri": "https://localhost:8080/"
        },
        "id": "HAB0oU7kL7Nb",
        "outputId": "6e3d5fc2-9262-445c-d0b7-2d65d91099c2"
      },
      "execution_count": 9,
      "outputs": [
        {
          "output_type": "execute_result",
          "data": {
            "text/plain": [
              "Index(['x', 'y'], dtype='object')"
            ]
          },
          "metadata": {},
          "execution_count": 9
        }
      ]
    },
    {
      "cell_type": "code",
      "source": [
        "print(data['x'])"
      ],
      "metadata": {
        "colab": {
          "base_uri": "https://localhost:8080/"
        },
        "id": "WmuRkxAtMb2J",
        "outputId": "a1cc8494-30a1-4570-823f-b5210d2ec78a"
      },
      "execution_count": 10,
      "outputs": [
        {
          "output_type": "stream",
          "name": "stdout",
          "text": [
            "0    a\n",
            "1    b\n",
            "2    c\n",
            "3    d\n",
            "4    e\n",
            "5    f\n",
            "6    g\n",
            "7    h\n",
            "8    i\n",
            "9    j\n",
            "Name: x, dtype: object\n"
          ]
        }
      ]
    },
    {
      "cell_type": "code",
      "source": [
        "print(data['y'])"
      ],
      "metadata": {
        "colab": {
          "base_uri": "https://localhost:8080/"
        },
        "id": "pru4QUjPMeNg",
        "outputId": "ba5cf1ab-30e2-4a89-982f-4216c13dfdd2"
      },
      "execution_count": 11,
      "outputs": [
        {
          "output_type": "stream",
          "name": "stdout",
          "text": [
            "0     1\n",
            "1     2\n",
            "2     3\n",
            "3     4\n",
            "4     5\n",
            "5     6\n",
            "6     7\n",
            "7     8\n",
            "8     9\n",
            "9    10\n",
            "Name: y, dtype: int64\n"
          ]
        }
      ]
    },
    {
      "cell_type": "code",
      "source": [
        "list1 = list(data['x'])"
      ],
      "metadata": {
        "id": "hrV8_eBGMgOT"
      },
      "execution_count": 12,
      "outputs": []
    },
    {
      "cell_type": "code",
      "source": [
        "list1"
      ],
      "metadata": {
        "colab": {
          "base_uri": "https://localhost:8080/"
        },
        "id": "45yrRiUSMjG1",
        "outputId": "412b45b9-0553-40b6-c607-f38e1f54082e"
      },
      "execution_count": 13,
      "outputs": [
        {
          "output_type": "execute_result",
          "data": {
            "text/plain": [
              "['a', 'b', 'c', 'd', 'e', 'f', 'g', 'h', 'i', 'j']"
            ]
          },
          "metadata": {},
          "execution_count": 13
        }
      ]
    },
    {
      "cell_type": "code",
      "source": [
        "# Numpy"
      ],
      "metadata": {
        "id": "XLfP70ZQMkZO"
      },
      "execution_count": 14,
      "outputs": []
    },
    {
      "cell_type": "code",
      "source": [
        "import numpy as np\n",
        "print(np.__version__)"
      ],
      "metadata": {
        "colab": {
          "base_uri": "https://localhost:8080/"
        },
        "id": "4LP-MvM-NFvi",
        "outputId": "d6bd4eef-d25c-4ab5-8995-a46496bbcfb2"
      },
      "execution_count": 19,
      "outputs": [
        {
          "output_type": "stream",
          "name": "stdout",
          "text": [
            "1.25.2\n"
          ]
        }
      ]
    },
    {
      "cell_type": "code",
      "source": [
        "# 1D array\n",
        "arr = np.array([1, 2, 3, 4, 5])\n",
        "print(\"Numpy Array:\")\n",
        "print(arr)"
      ],
      "metadata": {
        "colab": {
          "base_uri": "https://localhost:8080/"
        },
        "id": "_uGW0-9eMm2v",
        "outputId": "089b0b2a-bd1d-4d01-e8dd-aa6fb03aa37a"
      },
      "execution_count": 20,
      "outputs": [
        {
          "output_type": "stream",
          "name": "stdout",
          "text": [
            "Numpy Array:\n",
            "[1 2 3 4 5]\n"
          ]
        }
      ]
    },
    {
      "cell_type": "code",
      "source": [
        "print(arr.itemsize, arr.strides)"
      ],
      "metadata": {
        "colab": {
          "base_uri": "https://localhost:8080/"
        },
        "id": "aBo6EB09M7vj",
        "outputId": "b7266662-41c6-43fd-d20a-84920a18759a"
      },
      "execution_count": 21,
      "outputs": [
        {
          "output_type": "stream",
          "name": "stdout",
          "text": [
            "8 (8,)\n"
          ]
        }
      ]
    },
    {
      "cell_type": "code",
      "source": [
        "arr2 = np.array([[3,5,3,2,4], [3,5,6,3,1]])"
      ],
      "metadata": {
        "id": "8baSSlelNO3r"
      },
      "execution_count": 22,
      "outputs": []
    },
    {
      "cell_type": "code",
      "source": [
        "print(arr2.ndim, arr2.size, arr2.dtype, arr2.itemsize, arr2.data)"
      ],
      "metadata": {
        "colab": {
          "base_uri": "https://localhost:8080/"
        },
        "id": "mptaZFeZOW5a",
        "outputId": "31cdf551-5aaa-4fee-e933-246de99cd886"
      },
      "execution_count": 24,
      "outputs": [
        {
          "output_type": "stream",
          "name": "stdout",
          "text": [
            "2 10 int64 8 <memory at 0x7f3abed8eb50>\n"
          ]
        }
      ]
    },
    {
      "cell_type": "code",
      "source": [
        "e = np.arange(15).reshape(5,3)"
      ],
      "metadata": {
        "id": "oBvay4i9OgKK"
      },
      "execution_count": 25,
      "outputs": []
    },
    {
      "cell_type": "code",
      "source": [
        "e"
      ],
      "metadata": {
        "colab": {
          "base_uri": "https://localhost:8080/"
        },
        "id": "PSZ1kboYO6hL",
        "outputId": "25a2fb0c-b60f-4dc8-b1ff-0566be8c1275"
      },
      "execution_count": 26,
      "outputs": [
        {
          "output_type": "execute_result",
          "data": {
            "text/plain": [
              "array([[ 0,  1,  2],\n",
              "       [ 3,  4,  5],\n",
              "       [ 6,  7,  8],\n",
              "       [ 9, 10, 11],\n",
              "       [12, 13, 14]])"
            ]
          },
          "metadata": {},
          "execution_count": 26
        }
      ]
    },
    {
      "cell_type": "code",
      "source": [
        "import math\n",
        "a = np.linspace(0, 2, 9)\n",
        "b = np.linspace(0, 2*math.pi, 100)\n",
        "c = np.sin(b)"
      ],
      "metadata": {
        "id": "wOhtzU7vO7KD"
      },
      "execution_count": 29,
      "outputs": []
    },
    {
      "cell_type": "code",
      "source": [
        "print(a)"
      ],
      "metadata": {
        "colab": {
          "base_uri": "https://localhost:8080/"
        },
        "id": "y1G1jnYzQOho",
        "outputId": "9f2e4ba0-165a-4eb1-c815-b7543c3d4377"
      },
      "execution_count": 30,
      "outputs": [
        {
          "output_type": "stream",
          "name": "stdout",
          "text": [
            "[0.   0.25 0.5  0.75 1.   1.25 1.5  1.75 2.  ]\n"
          ]
        }
      ]
    },
    {
      "cell_type": "code",
      "source": [
        "print(b)"
      ],
      "metadata": {
        "colab": {
          "base_uri": "https://localhost:8080/"
        },
        "id": "7IWroBEFQVSo",
        "outputId": "d330469c-7f2c-4e6a-e3c6-58e353951f81"
      },
      "execution_count": 31,
      "outputs": [
        {
          "output_type": "stream",
          "name": "stdout",
          "text": [
            "[0.         0.06346652 0.12693304 0.19039955 0.25386607 0.31733259\n",
            " 0.38079911 0.44426563 0.50773215 0.57119866 0.63466518 0.6981317\n",
            " 0.76159822 0.82506474 0.88853126 0.95199777 1.01546429 1.07893081\n",
            " 1.14239733 1.20586385 1.26933037 1.33279688 1.3962634  1.45972992\n",
            " 1.52319644 1.58666296 1.65012947 1.71359599 1.77706251 1.84052903\n",
            " 1.90399555 1.96746207 2.03092858 2.0943951  2.15786162 2.22132814\n",
            " 2.28479466 2.34826118 2.41172769 2.47519421 2.53866073 2.60212725\n",
            " 2.66559377 2.72906028 2.7925268  2.85599332 2.91945984 2.98292636\n",
            " 3.04639288 3.10985939 3.17332591 3.23679243 3.30025895 3.36372547\n",
            " 3.42719199 3.4906585  3.55412502 3.61759154 3.68105806 3.74452458\n",
            " 3.8079911  3.87145761 3.93492413 3.99839065 4.06185717 4.12532369\n",
            " 4.1887902  4.25225672 4.31572324 4.37918976 4.44265628 4.5061228\n",
            " 4.56958931 4.63305583 4.69652235 4.75998887 4.82345539 4.88692191\n",
            " 4.95038842 5.01385494 5.07732146 5.14078798 5.2042545  5.26772102\n",
            " 5.33118753 5.39465405 5.45812057 5.52158709 5.58505361 5.64852012\n",
            " 5.71198664 5.77545316 5.83891968 5.9023862  5.96585272 6.02931923\n",
            " 6.09278575 6.15625227 6.21971879 6.28318531]\n"
          ]
        }
      ]
    },
    {
      "cell_type": "code",
      "source": [
        "print(c)"
      ],
      "metadata": {
        "colab": {
          "base_uri": "https://localhost:8080/"
        },
        "id": "79-fRRzvQYQZ",
        "outputId": "48a50c74-15fa-4276-cc0f-60cbb4a4168d"
      },
      "execution_count": 32,
      "outputs": [
        {
          "output_type": "stream",
          "name": "stdout",
          "text": [
            "[ 0.00000000e+00  6.34239197e-02  1.26592454e-01  1.89251244e-01\n",
            "  2.51147987e-01  3.12033446e-01  3.71662456e-01  4.29794912e-01\n",
            "  4.86196736e-01  5.40640817e-01  5.92907929e-01  6.42787610e-01\n",
            "  6.90079011e-01  7.34591709e-01  7.76146464e-01  8.14575952e-01\n",
            "  8.49725430e-01  8.81453363e-01  9.09631995e-01  9.34147860e-01\n",
            "  9.54902241e-01  9.71811568e-01  9.84807753e-01  9.93838464e-01\n",
            "  9.98867339e-01  9.99874128e-01  9.96854776e-01  9.89821442e-01\n",
            "  9.78802446e-01  9.63842159e-01  9.45000819e-01  9.22354294e-01\n",
            "  8.95993774e-01  8.66025404e-01  8.32569855e-01  7.95761841e-01\n",
            "  7.55749574e-01  7.12694171e-01  6.66769001e-01  6.18158986e-01\n",
            "  5.67059864e-01  5.13677392e-01  4.58226522e-01  4.00930535e-01\n",
            "  3.42020143e-01  2.81732557e-01  2.20310533e-01  1.58001396e-01\n",
            "  9.50560433e-02  3.17279335e-02 -3.17279335e-02 -9.50560433e-02\n",
            " -1.58001396e-01 -2.20310533e-01 -2.81732557e-01 -3.42020143e-01\n",
            " -4.00930535e-01 -4.58226522e-01 -5.13677392e-01 -5.67059864e-01\n",
            " -6.18158986e-01 -6.66769001e-01 -7.12694171e-01 -7.55749574e-01\n",
            " -7.95761841e-01 -8.32569855e-01 -8.66025404e-01 -8.95993774e-01\n",
            " -9.22354294e-01 -9.45000819e-01 -9.63842159e-01 -9.78802446e-01\n",
            " -9.89821442e-01 -9.96854776e-01 -9.99874128e-01 -9.98867339e-01\n",
            " -9.93838464e-01 -9.84807753e-01 -9.71811568e-01 -9.54902241e-01\n",
            " -9.34147860e-01 -9.09631995e-01 -8.81453363e-01 -8.49725430e-01\n",
            " -8.14575952e-01 -7.76146464e-01 -7.34591709e-01 -6.90079011e-01\n",
            " -6.42787610e-01 -5.92907929e-01 -5.40640817e-01 -4.86196736e-01\n",
            " -4.29794912e-01 -3.71662456e-01 -3.12033446e-01 -2.51147987e-01\n",
            " -1.89251244e-01 -1.26592454e-01 -6.34239197e-02 -2.44929360e-16]\n"
          ]
        }
      ]
    },
    {
      "cell_type": "code",
      "source": [
        "print(b-c)"
      ],
      "metadata": {
        "colab": {
          "base_uri": "https://localhost:8080/"
        },
        "id": "XPXjVpLDQaH7",
        "outputId": "df60965f-96fa-4e6b-9e1e-acce4e37a201"
      },
      "execution_count": 34,
      "outputs": [
        {
          "output_type": "stream",
          "name": "stdout",
          "text": [
            "[0.00000000e+00 4.25985978e-05 3.40582935e-04 1.14831040e-03\n",
            " 2.71808584e-03 5.29914557e-03 9.13665387e-03 1.44707157e-02\n",
            " 2.15354099e-02 3.05578468e-02 4.17572535e-02 5.53440911e-02\n",
            " 7.15192076e-02 9.04730286e-02 1.12384791e-01 1.37421822e-01\n",
            " 1.65738862e-01 1.97477447e-01 2.32765333e-01 2.71715987e-01\n",
            " 3.14428124e-01 3.60985315e-01 4.11455649e-01 4.65891455e-01\n",
            " 5.24329099e-01 5.86788829e-01 6.53274699e-01 7.23774551e-01\n",
            " 7.98260065e-01 8.76686871e-01 9.58994729e-01 1.04510777e+00\n",
            " 1.13493481e+00 1.22836970e+00 1.32529177e+00 1.42556630e+00\n",
            " 1.52904508e+00 1.63556700e+00 1.74495869e+00 1.85703523e+00\n",
            " 1.97160087e+00 2.08844986e+00 2.20736724e+00 2.32812975e+00\n",
            " 2.45050666e+00 2.57426076e+00 2.69914931e+00 2.82492496e+00\n",
            " 2.95133683e+00 3.07813146e+00 3.20505385e+00 3.33184847e+00\n",
            " 3.45826035e+00 3.58403600e+00 3.70892454e+00 3.83267865e+00\n",
            " 3.95505556e+00 4.07581806e+00 4.19473545e+00 4.31158444e+00\n",
            " 4.42615008e+00 4.53822661e+00 4.64761830e+00 4.75414022e+00\n",
            " 4.85761901e+00 4.95789354e+00 5.05481561e+00 5.14825050e+00\n",
            " 5.23807754e+00 5.32419058e+00 5.40649844e+00 5.48492524e+00\n",
            " 5.55941076e+00 5.62991061e+00 5.69639648e+00 5.75885621e+00\n",
            " 5.81729385e+00 5.87172966e+00 5.92219999e+00 5.96875718e+00\n",
            " 6.01146932e+00 6.05041997e+00 6.08570786e+00 6.11744645e+00\n",
            " 6.14576349e+00 6.17080052e+00 6.19271228e+00 6.21166610e+00\n",
            " 6.22784122e+00 6.24142805e+00 6.25262746e+00 6.26164990e+00\n",
            " 6.26871459e+00 6.27404865e+00 6.27788616e+00 6.28046722e+00\n",
            " 6.28203700e+00 6.28284472e+00 6.28314271e+00 6.28318531e+00]\n"
          ]
        }
      ]
    },
    {
      "cell_type": "code",
      "source": [
        "print(np.sin(a))"
      ],
      "metadata": {
        "colab": {
          "base_uri": "https://localhost:8080/"
        },
        "id": "2JRS76wxQeo5",
        "outputId": "a5dadcc6-c092-4514-f105-2ae6e9cf8dbf"
      },
      "execution_count": 35,
      "outputs": [
        {
          "output_type": "stream",
          "name": "stdout",
          "text": [
            "[0.         0.24740396 0.47942554 0.68163876 0.84147098 0.94898462\n",
            " 0.99749499 0.98398595 0.90929743]\n"
          ]
        }
      ]
    },
    {
      "cell_type": "code",
      "source": [
        "a1 = np.array(([1,2], [3,4]))\n",
        "b1 = np.array(([1, 2], [3, 4]))"
      ],
      "metadata": {
        "id": "DvqdPKTLQmaB"
      },
      "execution_count": 37,
      "outputs": []
    },
    {
      "cell_type": "code",
      "source": [
        "print(a1*b1)"
      ],
      "metadata": {
        "colab": {
          "base_uri": "https://localhost:8080/"
        },
        "id": "EDCnCvjwQ5XV",
        "outputId": "7902ae85-cf3b-4f1d-9cd6-c7400a63a700"
      },
      "execution_count": 38,
      "outputs": [
        {
          "output_type": "stream",
          "name": "stdout",
          "text": [
            "[[ 1  4]\n",
            " [ 9 16]]\n"
          ]
        }
      ]
    },
    {
      "cell_type": "code",
      "source": [
        "print(a1 @ b1)"
      ],
      "metadata": {
        "colab": {
          "base_uri": "https://localhost:8080/"
        },
        "id": "sWBeIQqvQ_wE",
        "outputId": "0ba4641f-02a3-4ac0-d415-32c71d12d565"
      },
      "execution_count": 40,
      "outputs": [
        {
          "output_type": "stream",
          "name": "stdout",
          "text": [
            "[[ 7 10]\n",
            " [15 22]]\n"
          ]
        }
      ]
    },
    {
      "cell_type": "code",
      "source": [
        "print(np.dot(a1,b1))"
      ],
      "metadata": {
        "colab": {
          "base_uri": "https://localhost:8080/"
        },
        "id": "aEA9wdQ8RDK3",
        "outputId": "26af68bc-36cb-43b5-b1b6-3af300619585"
      },
      "execution_count": 41,
      "outputs": [
        {
          "output_type": "stream",
          "name": "stdout",
          "text": [
            "[[ 7 10]\n",
            " [15 22]]\n"
          ]
        }
      ]
    },
    {
      "cell_type": "code",
      "source": [
        "print(a1[0].dot(b1[0]))"
      ],
      "metadata": {
        "colab": {
          "base_uri": "https://localhost:8080/"
        },
        "id": "ZVYzIvfXRkgd",
        "outputId": "da96a52f-2926-4d45-ef27-1626bceaea27"
      },
      "execution_count": 43,
      "outputs": [
        {
          "output_type": "stream",
          "name": "stdout",
          "text": [
            "5\n"
          ]
        }
      ]
    },
    {
      "cell_type": "code",
      "source": [],
      "metadata": {
        "id": "QRUNQJv7Rswj"
      },
      "execution_count": null,
      "outputs": []
    }
  ]
}