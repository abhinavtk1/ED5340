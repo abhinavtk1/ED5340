{
  "nbformat": 4,
  "nbformat_minor": 0,
  "metadata": {
    "colab": {
      "provenance": [],
      "collapsed_sections": [
        "x6C2g-vYKA_Z",
        "wouG9XNEKDfb",
        "iMiSHEjeKFzX",
        "i94JxuS_KHYY",
        "z8CZxZenKJU4"
      ],
      "authorship_tag": "ABX9TyPcDe5hgYlOfL/0GzpZzy8u",
      "include_colab_link": true
    },
    "kernelspec": {
      "name": "python3",
      "display_name": "Python 3"
    },
    "language_info": {
      "name": "python"
    }
  },
  "cells": [
    {
      "cell_type": "markdown",
      "metadata": {
        "id": "view-in-github",
        "colab_type": "text"
      },
      "source": [
        "<a href=\"https://colab.research.google.com/github/abhinavtk1/ED5340-CW/blob/main/MA23M002_LAB3_Part1.ipynb\" target=\"_parent\"><img src=\"https://colab.research.google.com/assets/colab-badge.svg\" alt=\"Open In Colab\"/></a>"
      ]
    },
    {
      "cell_type": "markdown",
      "source": [
        "# MA23M002 - LAB 3 - PART 1"
      ],
      "metadata": {
        "id": "ErGTUQFyngOA"
      }
    },
    {
      "cell_type": "markdown",
      "source": [
        "# Q1"
      ],
      "metadata": {
        "id": "x6C2g-vYKA_Z"
      }
    },
    {
      "cell_type": "markdown",
      "source": [
        "Q1 . Write a program (WAP) to implement the following operations on a collection of library books:\n",
        "\n",
        "(a) Construct a catalog of books, with each book having an author's name, book title, ISBN number, publication year, and number of pages.\n",
        "\n",
        "(b) Add a new book to the catalog, ensuring that the books are kept in ascending order based on the publication year.\n",
        "\n",
        "(c) Locate a book by its ISBN number and delete the book's entry from the catalog.\n",
        "\n",
        "(d) Insert a new book entry at the end of the catalog using the provided book information.\n",
        "\n",
        "(e) Identify and remove any duplicate entries in the catalog, preserving only one copy of each book based on its ISBN number.\n",
        "\n",
        "(f) Reorganize the entire catalog so that the books are sorted in descending order by the number of pages."
      ],
      "metadata": {
        "id": "gPgYSkrnnl7F"
      }
    },
    {
      "cell_type": "markdown",
      "source": [
        "a) Construct a catalog of books, with each book having an author's name, book title, ISBN number, publication year, and number of pages."
      ],
      "metadata": {
        "id": "hMT_yJQnB2q2"
      }
    },
    {
      "cell_type": "code",
      "source": [
        "# Catalogue type: [Author name,  Book title, ISBN number, publication year, number of pages]\n",
        "# Books arranged in ascending order\n",
        "books_cat = [[\"JK Rowling\" , \"Harry Potter\", 321, 2000, 150],\n",
        "              [\"George Orwell\" , \"Animal Farm\", 431, 2005, 99],\n",
        "                [\"R Kipling\" , \"Jungle Book\", 1003, 2008, 125]]"
      ],
      "metadata": {
        "id": "ibG3knFF7F1l"
      },
      "execution_count": 86,
      "outputs": []
    },
    {
      "cell_type": "markdown",
      "source": [
        "b) Add a new book to the catalog, ensuring that the books are kept in ascending order based on the publication year."
      ],
      "metadata": {
        "id": "4CxbG_spB5Mc"
      }
    },
    {
      "cell_type": "code",
      "source": [
        "new_book = [\"Scott F\", \"The Great Gatsby\", 555, 2007, 199]\n",
        "for i in range(len(books_cat)):\n",
        "  if books_cat[i][3]>new_book[3]:\n",
        "    idx = i\n",
        "    break\n",
        "else:\n",
        "  books_cat.append(new_book)\n",
        "if new_book not in books_cat:\n",
        "  books_cat.insert(idx,new_book)"
      ],
      "metadata": {
        "id": "x2ecag3y7FyH"
      },
      "execution_count": 87,
      "outputs": []
    },
    {
      "cell_type": "code",
      "source": [
        "for book in books_cat:\n",
        "  print(book)"
      ],
      "metadata": {
        "colab": {
          "base_uri": "https://localhost:8080/"
        },
        "id": "ihCzTQaIAv1v",
        "outputId": "0a711a7e-1c9b-4c76-d116-8e70a4e277ad"
      },
      "execution_count": 88,
      "outputs": [
        {
          "output_type": "stream",
          "name": "stdout",
          "text": [
            "['JK Rowling', 'Harry Potter', 321, 2000, 150]\n",
            "['George Orwell', 'Animal Farm', 431, 2005, 99]\n",
            "['Scott F', 'The Great Gatsby', 555, 2007, 199]\n",
            "['R Kipling', 'Jungle Book', 1003, 2008, 125]\n"
          ]
        }
      ]
    },
    {
      "cell_type": "markdown",
      "source": [
        "(c) Locate a book by its ISBN number and delete the book's entry from the catalog.\n"
      ],
      "metadata": {
        "id": "wanigYZrCRCm"
      }
    },
    {
      "cell_type": "code",
      "source": [
        "isbn = 555\n",
        "for book in books_cat:\n",
        "  if isbn == book[2]:\n",
        "    books_cat.remove(book)\n",
        "    break\n",
        "for book in books_cat:\n",
        "  print(book)"
      ],
      "metadata": {
        "colab": {
          "base_uri": "https://localhost:8080/"
        },
        "id": "4xF4mgCVBzva",
        "outputId": "7a398b16-d587-453b-e48e-5a6079db9c7a"
      },
      "execution_count": 89,
      "outputs": [
        {
          "output_type": "stream",
          "name": "stdout",
          "text": [
            "['JK Rowling', 'Harry Potter', 321, 2000, 150]\n",
            "['George Orwell', 'Animal Farm', 431, 2005, 99]\n",
            "['R Kipling', 'Jungle Book', 1003, 2008, 125]\n"
          ]
        }
      ]
    },
    {
      "cell_type": "markdown",
      "source": [
        "(d) Insert a new book entry at the end of the catalog using the provided book information.\n",
        "\n"
      ],
      "metadata": {
        "id": "paN8yQMmCztt"
      }
    },
    {
      "cell_type": "code",
      "source": [
        "n_b = [\"D Radcliffe\", \"Godzilla\", 894, 2021, 144]\n",
        "books_cat.append(n_b)\n",
        "for book in books_cat:\n",
        "  print(book)"
      ],
      "metadata": {
        "colab": {
          "base_uri": "https://localhost:8080/"
        },
        "id": "3cVokhV0DAtF",
        "outputId": "d5b52e5a-1479-4c2a-eb45-c348ad42432e"
      },
      "execution_count": 90,
      "outputs": [
        {
          "output_type": "stream",
          "name": "stdout",
          "text": [
            "['JK Rowling', 'Harry Potter', 321, 2000, 150]\n",
            "['George Orwell', 'Animal Farm', 431, 2005, 99]\n",
            "['R Kipling', 'Jungle Book', 1003, 2008, 125]\n",
            "['D Radcliffe', 'Godzilla', 894, 2021, 144]\n"
          ]
        }
      ]
    },
    {
      "cell_type": "markdown",
      "source": [
        "(e) Identify and remove any duplicate entries in the catalog, preserving only one copy of each book based on its ISBN number.\n"
      ],
      "metadata": {
        "id": "l4UOVrbGFAtp"
      }
    },
    {
      "cell_type": "code",
      "source": [
        "books_cat.append(n_b)\n",
        "for book in books_cat:\n",
        "  print(book)"
      ],
      "metadata": {
        "colab": {
          "base_uri": "https://localhost:8080/"
        },
        "id": "k39EyE1qDAMd",
        "outputId": "645caa62-de79-41e3-b934-e2459b05c0f1"
      },
      "execution_count": 91,
      "outputs": [
        {
          "output_type": "stream",
          "name": "stdout",
          "text": [
            "['JK Rowling', 'Harry Potter', 321, 2000, 150]\n",
            "['George Orwell', 'Animal Farm', 431, 2005, 99]\n",
            "['R Kipling', 'Jungle Book', 1003, 2008, 125]\n",
            "['D Radcliffe', 'Godzilla', 894, 2021, 144]\n",
            "['D Radcliffe', 'Godzilla', 894, 2021, 144]\n"
          ]
        }
      ]
    },
    {
      "cell_type": "code",
      "source": [
        "#  Now remove the duplicates\n",
        "uniq_books = []\n",
        "isbn = set()\n",
        "for book in books_cat:\n",
        "  if book[2] not in isbn:\n",
        "    isbn.add(book[2])\n",
        "    uniq_books.append(book)\n",
        "for book in uniq_books:\n",
        "  print(book)"
      ],
      "metadata": {
        "colab": {
          "base_uri": "https://localhost:8080/"
        },
        "id": "LP92LmqTDAEL",
        "outputId": "895e2a74-032a-42ce-89da-fa55b80638d6"
      },
      "execution_count": 92,
      "outputs": [
        {
          "output_type": "stream",
          "name": "stdout",
          "text": [
            "['JK Rowling', 'Harry Potter', 321, 2000, 150]\n",
            "['George Orwell', 'Animal Farm', 431, 2005, 99]\n",
            "['R Kipling', 'Jungle Book', 1003, 2008, 125]\n",
            "['D Radcliffe', 'Godzilla', 894, 2021, 144]\n"
          ]
        }
      ]
    },
    {
      "cell_type": "markdown",
      "source": [
        "(f) Reorganize the entire catalog so that the books are sorted in descending order by the number of pages.\n",
        "\n"
      ],
      "metadata": {
        "id": "goKBzAMiFwlu"
      }
    },
    {
      "cell_type": "code",
      "source": [
        "for i in range(len(uniq_books)):\n",
        "    for j in range(len(uniq_books) - 1):\n",
        "        if uniq_books[j][-1] > uniq_books[j+1][-1]:\n",
        "            uniq_books[j], uniq_books[j+1] = uniq_books[j+1], uniq_books[j]\n",
        "\n",
        "# Print the reordered list\n",
        "for book in uniq_books:\n",
        "    print(book)"
      ],
      "metadata": {
        "colab": {
          "base_uri": "https://localhost:8080/"
        },
        "id": "SNig1_ZtFxr7",
        "outputId": "8539adcf-68f6-44da-d9b3-7a6c38c4a457"
      },
      "execution_count": 93,
      "outputs": [
        {
          "output_type": "stream",
          "name": "stdout",
          "text": [
            "['George Orwell', 'Animal Farm', 431, 2005, 99]\n",
            "['R Kipling', 'Jungle Book', 1003, 2008, 125]\n",
            "['D Radcliffe', 'Godzilla', 894, 2021, 144]\n",
            "['JK Rowling', 'Harry Potter', 321, 2000, 150]\n"
          ]
        }
      ]
    },
    {
      "cell_type": "code",
      "source": [],
      "metadata": {
        "id": "RRiy0MHuIxqz"
      },
      "execution_count": null,
      "outputs": []
    },
    {
      "cell_type": "markdown",
      "source": [
        "# Q2"
      ],
      "metadata": {
        "id": "wouG9XNEKDfb"
      }
    },
    {
      "cell_type": "markdown",
      "source": [
        "Q2. Write a program using list comprehension\n",
        "\n",
        "a) To add the corresponding elements of two lists and print the new list.\n",
        "\n",
        "b) To perform element wise multiplication of two lists and print the new list.\n",
        "\n",
        "c) To create a list of the unique characters of a given string.\n",
        "\n",
        "Eg: input = “hello” , output = [‘h’, ‘e’, ‘l’, ‘o’]"
      ],
      "metadata": {
        "id": "m8FzzlJFnqp6"
      }
    },
    {
      "cell_type": "code",
      "source": [
        "l1 = [3, 6, 7, 9, 11, 13]\n",
        "l2 = [2, 4, 6, 8, 10, 12]\n",
        "# add corresponding elements\n",
        "l3 = [i+j for i,j in zip(l1,l2)]\n",
        "print(l3)"
      ],
      "metadata": {
        "colab": {
          "base_uri": "https://localhost:8080/"
        },
        "id": "7UZwwfSdnwhH",
        "outputId": "e1b1250a-7730-4cc0-f6a0-9e6613789c21"
      },
      "execution_count": 4,
      "outputs": [
        {
          "output_type": "stream",
          "name": "stdout",
          "text": [
            "[5, 10, 13, 17, 21, 25]\n"
          ]
        }
      ]
    },
    {
      "cell_type": "code",
      "source": [
        "# element wise multiplication\n",
        "l4 = [i*j for i,j in zip(l1,l2)]\n",
        "print(l4)"
      ],
      "metadata": {
        "colab": {
          "base_uri": "https://localhost:8080/"
        },
        "id": "twnsy3NDswVU",
        "outputId": "4b061b4b-715b-498f-b5c3-357b086c0440"
      },
      "execution_count": 5,
      "outputs": [
        {
          "output_type": "stream",
          "name": "stdout",
          "text": [
            "[6, 24, 42, 72, 110, 156]\n"
          ]
        }
      ]
    },
    {
      "cell_type": "code",
      "source": [
        "s = \"hello\"\n",
        "charset = set()\n",
        "l5 = [c for c in s if c not in charset and not charset.add(c)]\n",
        "print(l5)"
      ],
      "metadata": {
        "colab": {
          "base_uri": "https://localhost:8080/"
        },
        "id": "PMJkMkRAtLdA",
        "outputId": "451d2d23-b5ab-445f-d7b9-62c9cf92c45d"
      },
      "execution_count": 99,
      "outputs": [
        {
          "output_type": "stream",
          "name": "stdout",
          "text": [
            "['h', 'e', 'l', 'o']\n"
          ]
        }
      ]
    },
    {
      "cell_type": "code",
      "source": [],
      "metadata": {
        "id": "xLNUH6MhDySi"
      },
      "execution_count": null,
      "outputs": []
    },
    {
      "cell_type": "markdown",
      "source": [
        "# Q3"
      ],
      "metadata": {
        "id": "iMiSHEjeKFzX"
      }
    },
    {
      "cell_type": "markdown",
      "source": [
        "Q3. Using the zip function, WAP\n",
        "\n",
        "a) To add the elements of 2 matrices (Define matrices as per your wish).\n",
        "\n",
        "b) To perform element wise multiplication on 2 matrices."
      ],
      "metadata": {
        "id": "QaL43C3fny9Z"
      }
    },
    {
      "cell_type": "code",
      "source": [
        "A = [[2,5,7,8],\n",
        "     [3,5,1,4]]\n",
        "B = [[1,2,3,4],\n",
        "    [5,6,7,8]]\n",
        "print(\"Matrix A = \",A)\n",
        "print(\"Matrix B = \",B)"
      ],
      "metadata": {
        "colab": {
          "base_uri": "https://localhost:8080/"
        },
        "id": "qPX-e8MXoDUK",
        "outputId": "b89a3749-c890-4565-d208-9b8274a17096"
      },
      "execution_count": 15,
      "outputs": [
        {
          "output_type": "stream",
          "name": "stdout",
          "text": [
            "Matrix A =  [[2, 5, 7, 8], [3, 5, 1, 4]]\n",
            "Matrix B =  [[1, 2, 3, 4], [5, 6, 7, 8]]\n"
          ]
        }
      ]
    },
    {
      "cell_type": "code",
      "source": [
        "# Addition\n",
        "add = [[x + y for x, y in zip(r1, r2)] for r1, r2 in zip(A, B)]\n",
        "print(add)"
      ],
      "metadata": {
        "colab": {
          "base_uri": "https://localhost:8080/"
        },
        "id": "lrBo0UdAwYpc",
        "outputId": "42d22e22-85df-4d63-8367-76e408d6e3ba"
      },
      "execution_count": 16,
      "outputs": [
        {
          "output_type": "stream",
          "name": "stdout",
          "text": [
            "[[3, 7, 10, 12], [8, 11, 8, 12]]\n"
          ]
        }
      ]
    },
    {
      "cell_type": "code",
      "source": [
        "# Multiplication\n",
        "multiply = [[x * y for x, y in zip(r1, r2)] for r1, r2 in zip(A, B)]\n",
        "print(multiply)"
      ],
      "metadata": {
        "colab": {
          "base_uri": "https://localhost:8080/"
        },
        "id": "UUcpA3w3wwkl",
        "outputId": "72676851-ad67-4165-efde-57ceba3a3622"
      },
      "execution_count": 17,
      "outputs": [
        {
          "output_type": "stream",
          "name": "stdout",
          "text": [
            "[[2, 10, 21, 32], [15, 30, 7, 32]]\n"
          ]
        }
      ]
    },
    {
      "cell_type": "code",
      "source": [],
      "metadata": {
        "id": "PqvwGRCu7D2U"
      },
      "execution_count": null,
      "outputs": []
    },
    {
      "cell_type": "markdown",
      "source": [
        "# Q4"
      ],
      "metadata": {
        "id": "i94JxuS_KHYY"
      }
    },
    {
      "cell_type": "markdown",
      "source": [
        "Q4. List of List : Given a square matrix represented as a list of lists,\n",
        "\n",
        "a) WAP to print the row sum, column sum and trace of the matrix\n",
        "\n",
        "b) WAP to print the transpose of the matrix.\n",
        "\n",
        "c) WAP to check whether the given matrix is symmetric or not.\n",
        "\n",
        "d) WAP to check whether the Identity matrix (I) is positive definite or not by using Quadratic form method (x^T*I*x > 0), where x is any non zero vector."
      ],
      "metadata": {
        "id": "E05QyvTgoDxL"
      }
    },
    {
      "cell_type": "code",
      "source": [
        "sqMat = [[2,3,4],[4,5,6],[1,2,3]] # 3x3 square matrix\n",
        "print(sqMat)"
      ],
      "metadata": {
        "colab": {
          "base_uri": "https://localhost:8080/"
        },
        "id": "XxnHoU-koXL1",
        "outputId": "e50d64aa-9a13-4067-b3ca-2ce1f1a48203"
      },
      "execution_count": 36,
      "outputs": [
        {
          "output_type": "stream",
          "name": "stdout",
          "text": [
            "[[2, 3, 4], [4, 5, 6], [1, 2, 3]]\n"
          ]
        }
      ]
    },
    {
      "cell_type": "code",
      "source": [
        "# Row sum\n",
        "rowSum = []\n",
        "for i in sqMat:\n",
        "  rSum = sum(i)\n",
        "  rowSum.append(rSum)\n",
        "print(rowSum)"
      ],
      "metadata": {
        "colab": {
          "base_uri": "https://localhost:8080/"
        },
        "id": "9TiFYtEaxfj6",
        "outputId": "42a9452c-7c87-4822-ea6c-0372ae84b66c"
      },
      "execution_count": 23,
      "outputs": [
        {
          "output_type": "stream",
          "name": "stdout",
          "text": [
            "[9, 15, 6]\n"
          ]
        }
      ]
    },
    {
      "cell_type": "code",
      "source": [
        "# Column sum\n",
        "colSum = []\n",
        "for col in range(len(sqMat)):\n",
        "  csum = 0\n",
        "  for row in range(len(sqMat)):\n",
        "    csum += sqMat[row][col]\n",
        "  colSum.append(csum)\n",
        "print(colSum)"
      ],
      "metadata": {
        "colab": {
          "base_uri": "https://localhost:8080/"
        },
        "id": "HqyHrvUzxfdH",
        "outputId": "436290c5-87ef-44fe-a909-f1cfb4865861"
      },
      "execution_count": 24,
      "outputs": [
        {
          "output_type": "stream",
          "name": "stdout",
          "text": [
            "[7, 10, 13]\n"
          ]
        }
      ]
    },
    {
      "cell_type": "code",
      "source": [
        "# Trace of the matrix\n",
        "t = 0\n",
        "for i in range(len(sqMat)):\n",
        "  t += sqMat[i][i]\n",
        "print(\"Trace of the matrix = \", t)"
      ],
      "metadata": {
        "colab": {
          "base_uri": "https://localhost:8080/"
        },
        "id": "qwfczLJGy-_-",
        "outputId": "28844e11-d3cc-43aa-bdc0-78ad6356b853"
      },
      "execution_count": 25,
      "outputs": [
        {
          "output_type": "stream",
          "name": "stdout",
          "text": [
            "Trace of the matrix =  10\n"
          ]
        }
      ]
    },
    {
      "cell_type": "code",
      "source": [
        "# Transpose\n",
        "tMat = []\n",
        "for i in range(len(sqMat)):\n",
        "  row = []\n",
        "  for j in range(len(sqMat[0])):\n",
        "    row.append(sqMat[j][i])\n",
        "  tMat.append(row)\n",
        "print(tMat)"
      ],
      "metadata": {
        "colab": {
          "base_uri": "https://localhost:8080/"
        },
        "id": "MyCpwCVLzqwy",
        "outputId": "7811386d-df79-497a-d301-43000c44a0f6"
      },
      "execution_count": 29,
      "outputs": [
        {
          "output_type": "stream",
          "name": "stdout",
          "text": [
            "[[2, 4, 1], [3, 5, 2], [4, 6, 3]]\n"
          ]
        }
      ]
    },
    {
      "cell_type": "code",
      "source": [
        "# Symmetric or not\n",
        "symm = True\n",
        "for i in range(len(sqMat)):\n",
        "  for j in range(len(sqMat[0])):\n",
        "    if sqMat[i][j] != sqMat[j][i]:\n",
        "      print(\"Matrix is not symmetric\")\n",
        "      symm = False\n",
        "      break\n",
        "  if not symm:\n",
        "    break\n",
        "if symm:\n",
        "  print(\"Matrix is symmetric\")"
      ],
      "metadata": {
        "colab": {
          "base_uri": "https://localhost:8080/"
        },
        "id": "5Yd5hkr31Ct3",
        "outputId": "2f83fd78-0aeb-4618-db8c-fc8cb956bf54"
      },
      "execution_count": 37,
      "outputs": [
        {
          "output_type": "stream",
          "name": "stdout",
          "text": [
            "Matrix is not symmetric\n"
          ]
        }
      ]
    },
    {
      "cell_type": "code",
      "source": [
        "# Identity matrix (I) is positive definite or not by using Quadratic form method (x^TIx > 0)\n",
        "I = [[1,0,0],[0,1,0],[0,0,1]] # 3x3 identity matrix\n",
        "v = [1,2,3] # vector of size 3\n",
        "v1 = []\n",
        "for i in range(len(I)):\n",
        "  for j in range(len(I[0])):\n",
        "    if i==j:\n",
        "      v1.append(I[i][j]*v[i])\n",
        "res = 0\n",
        "for i in range(len(v)):\n",
        "  res += v[i]*v1[i]\n",
        "print(\"Result = \",res)\n",
        "print(\"Result is > 0. Hence I is positive definite\")"
      ],
      "metadata": {
        "colab": {
          "base_uri": "https://localhost:8080/"
        },
        "id": "sDNIz9Bh2-7d",
        "outputId": "415c6d28-1e5a-46d4-bf7c-60bf6784b00c"
      },
      "execution_count": 39,
      "outputs": [
        {
          "output_type": "stream",
          "name": "stdout",
          "text": [
            "Result =  14\n",
            "Result is > 0. Hence I is positive definite\n"
          ]
        }
      ]
    },
    {
      "cell_type": "code",
      "source": [],
      "metadata": {
        "id": "FEFQY98w5FXa"
      },
      "execution_count": null,
      "outputs": []
    },
    {
      "cell_type": "markdown",
      "source": [
        "# Q5"
      ],
      "metadata": {
        "id": "z8CZxZenKJU4"
      }
    },
    {
      "cell_type": "markdown",
      "source": [
        "Q5. List of Lists : WAP to remove sub lists from a given list of lists that contain an element outside a given range.\n",
        "\n",
        "Example :\n",
        "\n",
        "Input : [[3], [1, 3, 2], [0, 1, 9, 3, 5, 7], [9, 10], [13, 14, 16, 17]]  Range: 1, 5\n",
        "\n",
        "Output : [[3], [1, 3, 2]]\n",
        "\n",
        "Explanation : If a sublist has a number that is other than 1, 2, 3, 4, 5, remove the sublist from the list of lists and print the remaining sublists as a lists of lists"
      ],
      "metadata": {
        "id": "_q0bzCzgoRFR"
      }
    },
    {
      "cell_type": "code",
      "source": [
        "inp = [[3], [1, 3, 2], [0, 1, 9, 3, 5, 7], [9, 10], [13, 14, 16, 17]]\n",
        "output = []\n",
        "for i in inp:\n",
        "  for j in i:\n",
        "    if j not in range(1,6):\n",
        "      break\n",
        "  else:\n",
        "    output.append(i)  # if loop breaks, else is not executed\n",
        "print(output)"
      ],
      "metadata": {
        "colab": {
          "base_uri": "https://localhost:8080/"
        },
        "id": "jRL07wjaoeNw",
        "outputId": "ad358ce4-8c58-4adf-b8b4-917b76539e24"
      },
      "execution_count": 94,
      "outputs": [
        {
          "output_type": "stream",
          "name": "stdout",
          "text": [
            "[[3], [1, 3, 2]]\n"
          ]
        }
      ]
    },
    {
      "cell_type": "code",
      "source": [],
      "metadata": {
        "id": "gnip7yCf6IjV"
      },
      "execution_count": null,
      "outputs": []
    }
  ]
}