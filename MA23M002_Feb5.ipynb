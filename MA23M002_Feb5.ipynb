{
  "nbformat": 4,
  "nbformat_minor": 0,
  "metadata": {
    "colab": {
      "provenance": [],
      "authorship_tag": "ABX9TyNpcbp/ONc0Y4elG2W7sUYt",
      "include_colab_link": true
    },
    "kernelspec": {
      "name": "python3",
      "display_name": "Python 3"
    },
    "language_info": {
      "name": "python"
    }
  },
  "cells": [
    {
      "cell_type": "markdown",
      "metadata": {
        "id": "view-in-github",
        "colab_type": "text"
      },
      "source": [
        "<a href=\"https://colab.research.google.com/github/abhinavtk1/ED5340/blob/main/MA23M002_Feb5.ipynb\" target=\"_parent\"><img src=\"https://colab.research.google.com/assets/colab-badge.svg\" alt=\"Open In Colab\"/></a>"
      ]
    },
    {
      "cell_type": "code",
      "execution_count": 1,
      "metadata": {
        "colab": {
          "base_uri": "https://localhost:8080/"
        },
        "id": "7sXTNl9D8lAk",
        "outputId": "3af424a2-c453-4ace-c942-211e81d6af3e"
      },
      "outputs": [
        {
          "output_type": "stream",
          "name": "stdout",
          "text": [
            "[1, 4]\n",
            "[2, 5]\n",
            "[3, 6]\n"
          ]
        }
      ],
      "source": [
        "# 2x3 matrix\n",
        "mat = [\n",
        "    [1, 2, 3],\n",
        "    [4, 5, 6]\n",
        "]\n",
        "\n",
        "# Using zip\n",
        "mat_trans = list(map(list, zip(*mat)))\n",
        "\n",
        "# transposed matrix\n",
        "for i in mat_trans:\n",
        "    print(i)\n"
      ]
    },
    {
      "cell_type": "code",
      "source": [
        "# Given two matrix - perform addition, multiplication, inv, transpose, det"
      ],
      "metadata": {
        "id": "nwfO2KDn-8uc"
      },
      "execution_count": 2,
      "outputs": []
    },
    {
      "cell_type": "code",
      "source": [
        "x = {}\n",
        "type(x)"
      ],
      "metadata": {
        "colab": {
          "base_uri": "https://localhost:8080/"
        },
        "id": "fJizBEJAAkhl",
        "outputId": "e31cfd84-790e-40a9-9f88-c869e78fdd07"
      },
      "execution_count": 3,
      "outputs": [
        {
          "output_type": "execute_result",
          "data": {
            "text/plain": [
              "dict"
            ]
          },
          "metadata": {},
          "execution_count": 3
        }
      ]
    },
    {
      "cell_type": "code",
      "source": [
        "y = set()\n",
        "type(y)"
      ],
      "metadata": {
        "colab": {
          "base_uri": "https://localhost:8080/"
        },
        "id": "wfymIVYiBGDJ",
        "outputId": "158a6b18-228e-4ccb-f083-df7624bfd1a4"
      },
      "execution_count": 4,
      "outputs": [
        {
          "output_type": "execute_result",
          "data": {
            "text/plain": [
              "set"
            ]
          },
          "metadata": {},
          "execution_count": 4
        }
      ]
    },
    {
      "cell_type": "code",
      "source": [
        "y = {1,3,3,2,4,5,6,'A','a','b',')','h','B'}\n",
        "y"
      ],
      "metadata": {
        "colab": {
          "base_uri": "https://localhost:8080/"
        },
        "id": "bRdctEXrBXfp",
        "outputId": "de932ea1-5508-4075-b65e-242407ae625f"
      },
      "execution_count": 5,
      "outputs": [
        {
          "output_type": "execute_result",
          "data": {
            "text/plain": [
              "{')', 1, 2, 3, 4, 5, 6, 'A', 'B', 'a', 'b', 'h'}"
            ]
          },
          "metadata": {},
          "execution_count": 5
        }
      ]
    },
    {
      "cell_type": "code",
      "source": [
        "for i in y:\n",
        "  print(i)"
      ],
      "metadata": {
        "colab": {
          "base_uri": "https://localhost:8080/"
        },
        "id": "monA2AYDBlnA",
        "outputId": "210ac97c-bdb5-4e1e-f198-a62bf77b0523"
      },
      "execution_count": 6,
      "outputs": [
        {
          "output_type": "stream",
          "name": "stdout",
          "text": [
            "1\n",
            "2\n",
            "3\n",
            "4\n",
            "5\n",
            "6\n",
            "h\n",
            "b\n",
            "B\n",
            ")\n",
            "A\n",
            "a\n"
          ]
        }
      ]
    },
    {
      "cell_type": "code",
      "source": [
        "x1 = frozenset([2,5,4,3,1,2])"
      ],
      "metadata": {
        "id": "CHvW_MEbCU9V"
      },
      "execution_count": 7,
      "outputs": []
    },
    {
      "cell_type": "code",
      "source": [
        "print(x1)"
      ],
      "metadata": {
        "colab": {
          "base_uri": "https://localhost:8080/"
        },
        "id": "DaounmWwC3xV",
        "outputId": "80c99f60-e973-4dd8-dae2-3cb2817b5a7c"
      },
      "execution_count": 8,
      "outputs": [
        {
          "output_type": "stream",
          "name": "stdout",
          "text": [
            "frozenset({1, 2, 3, 4, 5})\n"
          ]
        }
      ]
    },
    {
      "cell_type": "code",
      "source": [
        "sorted(x1)"
      ],
      "metadata": {
        "colab": {
          "base_uri": "https://localhost:8080/"
        },
        "id": "TlRaU8-iDJDM",
        "outputId": "1480adda-1a08-4f11-ec1b-9a49aaa86240"
      },
      "execution_count": 9,
      "outputs": [
        {
          "output_type": "execute_result",
          "data": {
            "text/plain": [
              "[1, 2, 3, 4, 5]"
            ]
          },
          "metadata": {},
          "execution_count": 9
        }
      ]
    },
    {
      "cell_type": "code",
      "source": [
        "y.remove(2)"
      ],
      "metadata": {
        "id": "43PEt867DWOl"
      },
      "execution_count": 10,
      "outputs": []
    },
    {
      "cell_type": "code",
      "source": [
        "y"
      ],
      "metadata": {
        "colab": {
          "base_uri": "https://localhost:8080/"
        },
        "id": "7uCKkbkiDq5k",
        "outputId": "7cfd63b9-7009-4ca4-f33f-8fe8c11f65e3"
      },
      "execution_count": 11,
      "outputs": [
        {
          "output_type": "execute_result",
          "data": {
            "text/plain": [
              "{')', 1, 3, 4, 5, 6, 'A', 'B', 'a', 'b', 'h'}"
            ]
          },
          "metadata": {},
          "execution_count": 11
        }
      ]
    },
    {
      "cell_type": "code",
      "source": [
        "y.discard(3)"
      ],
      "metadata": {
        "id": "_3btlRTZDy7B"
      },
      "execution_count": 12,
      "outputs": []
    },
    {
      "cell_type": "code",
      "source": [
        "y"
      ],
      "metadata": {
        "colab": {
          "base_uri": "https://localhost:8080/"
        },
        "id": "1v-bjw2kD1Gw",
        "outputId": "5ad4f42a-8cbd-44d3-e7e8-40eb9ff9600d"
      },
      "execution_count": 13,
      "outputs": [
        {
          "output_type": "execute_result",
          "data": {
            "text/plain": [
              "{')', 1, 4, 5, 6, 'A', 'B', 'a', 'b', 'h'}"
            ]
          },
          "metadata": {},
          "execution_count": 13
        }
      ]
    },
    {
      "cell_type": "code",
      "source": [
        "y.discard(9)"
      ],
      "metadata": {
        "id": "RieyQWtCD1q8"
      },
      "execution_count": 14,
      "outputs": []
    },
    {
      "cell_type": "code",
      "source": [
        "y"
      ],
      "metadata": {
        "colab": {
          "base_uri": "https://localhost:8080/"
        },
        "id": "jWTTnTykD32i",
        "outputId": "7c20eea6-117c-4e09-977e-48e917846efc"
      },
      "execution_count": 15,
      "outputs": [
        {
          "output_type": "execute_result",
          "data": {
            "text/plain": [
              "{')', 1, 4, 5, 6, 'A', 'B', 'a', 'b', 'h'}"
            ]
          },
          "metadata": {},
          "execution_count": 15
        }
      ]
    },
    {
      "cell_type": "code",
      "source": [
        "y.add(0)\n",
        "y"
      ],
      "metadata": {
        "colab": {
          "base_uri": "https://localhost:8080/"
        },
        "id": "NPmelITKEB5F",
        "outputId": "b4790ff5-1bbf-471e-afd6-e7c55c1128cc"
      },
      "execution_count": 16,
      "outputs": [
        {
          "output_type": "execute_result",
          "data": {
            "text/plain": [
              "{')', 0, 1, 4, 5, 6, 'A', 'B', 'a', 'b', 'h'}"
            ]
          },
          "metadata": {},
          "execution_count": 16
        }
      ]
    },
    {
      "cell_type": "code",
      "source": [
        "y.remove(1)"
      ],
      "metadata": {
        "id": "QFxgO8mPEVCG"
      },
      "execution_count": 17,
      "outputs": []
    },
    {
      "cell_type": "code",
      "source": [
        "x = {4,-1,7,8}"
      ],
      "metadata": {
        "id": "-kKp4ePEE43s"
      },
      "execution_count": 18,
      "outputs": []
    },
    {
      "cell_type": "code",
      "source": [
        "x.update(y)\n",
        "x"
      ],
      "metadata": {
        "id": "87FQLE_OF-Yd",
        "outputId": "09f0fd88-91ed-4567-a15d-e67a9c12586e",
        "colab": {
          "base_uri": "https://localhost:8080/"
        }
      },
      "execution_count": 19,
      "outputs": [
        {
          "output_type": "execute_result",
          "data": {
            "text/plain": [
              "{')', -1, 0, 4, 5, 6, 7, 8, 'A', 'B', 'a', 'b', 'h'}"
            ]
          },
          "metadata": {},
          "execution_count": 19
        }
      ]
    },
    {
      "cell_type": "code",
      "source": [
        "x.issuperset(y)"
      ],
      "metadata": {
        "id": "2SnJ0uJKGUxt",
        "outputId": "e96d095a-cbd6-4e05-fc26-728e6a53fe3d",
        "colab": {
          "base_uri": "https://localhost:8080/"
        }
      },
      "execution_count": 20,
      "outputs": [
        {
          "output_type": "execute_result",
          "data": {
            "text/plain": [
              "True"
            ]
          },
          "metadata": {},
          "execution_count": 20
        }
      ]
    },
    {
      "cell_type": "code",
      "source": [
        "y.issubset(x)"
      ],
      "metadata": {
        "id": "F-NtnUewG4L2",
        "outputId": "aeed8e15-195b-4006-9746-8197113fe967",
        "colab": {
          "base_uri": "https://localhost:8080/"
        }
      },
      "execution_count": 21,
      "outputs": [
        {
          "output_type": "execute_result",
          "data": {
            "text/plain": [
              "True"
            ]
          },
          "metadata": {},
          "execution_count": 21
        }
      ]
    },
    {
      "cell_type": "code",
      "source": [
        "x == y"
      ],
      "metadata": {
        "id": "21gkk_GDGZ2e",
        "outputId": "76c67309-31d1-46e1-8d86-e4647987e4ce",
        "colab": {
          "base_uri": "https://localhost:8080/"
        }
      },
      "execution_count": 22,
      "outputs": [
        {
          "output_type": "execute_result",
          "data": {
            "text/plain": [
              "False"
            ]
          },
          "metadata": {},
          "execution_count": 22
        }
      ]
    },
    {
      "cell_type": "code",
      "source": [
        "x>y"
      ],
      "metadata": {
        "id": "50dj9RHcGpky",
        "outputId": "b0fca2df-9751-4816-b149-8f136ee4a174",
        "colab": {
          "base_uri": "https://localhost:8080/"
        }
      },
      "execution_count": 23,
      "outputs": [
        {
          "output_type": "execute_result",
          "data": {
            "text/plain": [
              "True"
            ]
          },
          "metadata": {},
          "execution_count": 23
        }
      ]
    },
    {
      "cell_type": "code",
      "source": [
        "print(*x)"
      ],
      "metadata": {
        "id": "szZk18MzGqxA",
        "colab": {
          "base_uri": "https://localhost:8080/"
        },
        "outputId": "e74bbefd-f406-4423-9634-1ca479080608"
      },
      "execution_count": 24,
      "outputs": [
        {
          "output_type": "stream",
          "name": "stdout",
          "text": [
            "0 4 5 6 7 8 h a b B ) A -1\n"
          ]
        }
      ]
    },
    {
      "cell_type": "code",
      "source": [
        "setA = {i for i in range(10)}\n",
        "setA"
      ],
      "metadata": {
        "colab": {
          "base_uri": "https://localhost:8080/"
        },
        "id": "iFcdkXjnHe7T",
        "outputId": "f5128b6f-0428-4bff-a952-bb5e3c1e34eb"
      },
      "execution_count": 27,
      "outputs": [
        {
          "output_type": "execute_result",
          "data": {
            "text/plain": [
              "{0, 1, 2, 3, 4, 5, 6, 7, 8, 9}"
            ]
          },
          "metadata": {},
          "execution_count": 27
        }
      ]
    },
    {
      "cell_type": "code",
      "source": [
        "tupA = tuple([x for x in range(5)])\n",
        "tupA"
      ],
      "metadata": {
        "colab": {
          "base_uri": "https://localhost:8080/"
        },
        "id": "Erz32P4ZITvs",
        "outputId": "8b12d758-7eb0-4730-a3c5-795a2eb5e40e"
      },
      "execution_count": 30,
      "outputs": [
        {
          "output_type": "execute_result",
          "data": {
            "text/plain": [
              "(0, 1, 2, 3, 4)"
            ]
          },
          "metadata": {},
          "execution_count": 30
        }
      ]
    },
    {
      "cell_type": "code",
      "source": [],
      "metadata": {
        "id": "67Bh48a7ItGW"
      },
      "execution_count": null,
      "outputs": []
    }
  ]
}