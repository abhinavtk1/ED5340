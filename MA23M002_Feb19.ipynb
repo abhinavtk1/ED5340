{
  "nbformat": 4,
  "nbformat_minor": 0,
  "metadata": {
    "colab": {
      "provenance": []
    },
    "kernelspec": {
      "name": "python3",
      "display_name": "Python 3"
    },
    "language_info": {
      "name": "python"
    }
  },
  "cells": [
    {
      "cell_type": "code",
      "execution_count": null,
      "metadata": {
        "id": "QCFGXkwqFHlp"
      },
      "outputs": [],
      "source": [
        "class studentclass:\n",
        "  # constructor\n",
        "  def __init__(self, n1, n2, n3):\n",
        "    self.name = n1\n",
        "    self._name = n2   # notionally private data\n",
        "    self.__name = n3  # strictly private\n",
        "  def printout(self):\n",
        "    print(self.name, self._name, self.__name)"
      ]
    },
    {
      "cell_type": "code",
      "source": [
        "sc1 = studentclass('a','b','c')"
      ],
      "metadata": {
        "id": "7-qlrrFG5_-y"
      },
      "execution_count": null,
      "outputs": []
    },
    {
      "cell_type": "code",
      "source": [
        "sc1.printout()"
      ],
      "metadata": {
        "colab": {
          "base_uri": "https://localhost:8080/"
        },
        "id": "dbCld-sF6KuO",
        "outputId": "21b5dda1-0b35-4814-891d-a8911ad44c15"
      },
      "execution_count": null,
      "outputs": [
        {
          "output_type": "stream",
          "name": "stdout",
          "text": [
            "a b c\n"
          ]
        }
      ]
    },
    {
      "cell_type": "code",
      "source": [
        "sc1.name = 'x'"
      ],
      "metadata": {
        "id": "cAGRsVsh6MY-"
      },
      "execution_count": null,
      "outputs": []
    },
    {
      "cell_type": "code",
      "source": [
        "sc1._name = 'y'"
      ],
      "metadata": {
        "id": "hNrjJsKd6Qws"
      },
      "execution_count": null,
      "outputs": []
    },
    {
      "cell_type": "code",
      "source": [
        "sc1.__name = 'z'"
      ],
      "metadata": {
        "id": "mR8leqpJ6Srq"
      },
      "execution_count": null,
      "outputs": []
    },
    {
      "cell_type": "code",
      "source": [
        "sc1.printout()  # double underscore is not changing"
      ],
      "metadata": {
        "colab": {
          "base_uri": "https://localhost:8080/"
        },
        "id": "LEV_zAHJ6UpQ",
        "outputId": "40623ea5-007f-4796-9aa1-488bf70111b5"
      },
      "execution_count": null,
      "outputs": [
        {
          "output_type": "stream",
          "name": "stdout",
          "text": [
            "x y c\n"
          ]
        }
      ]
    },
    {
      "cell_type": "code",
      "source": [
        "print(sc1.__name) # why?"
      ],
      "metadata": {
        "colab": {
          "base_uri": "https://localhost:8080/"
        },
        "id": "0x3TAY6I6Wpa",
        "outputId": "f19d44a6-0edb-4597-d343-175ba38f91ee"
      },
      "execution_count": null,
      "outputs": [
        {
          "output_type": "stream",
          "name": "stdout",
          "text": [
            "z\n"
          ]
        }
      ]
    },
    {
      "cell_type": "code",
      "source": [
        "# Operator overloading"
      ],
      "metadata": {
        "id": "iF1CAE8WFhDE"
      },
      "execution_count": null,
      "outputs": []
    },
    {
      "cell_type": "code",
      "source": [
        "class Complex:\n",
        "  def __init__(self, real, img):\n",
        "    self.real = real\n",
        "    self.img = img\n",
        "  def printComp(self):\n",
        "    print(f\"The real part is {self.real} and imaginary part is {self.img}\")\n",
        "  def addComp(self, other):\n",
        "    self.real += other.real\n",
        "    self.img += other.img\n",
        "  def __add__(self, other):\n",
        "    self.real += other.real\n",
        "    self.img += other.img\n",
        "    c = Complex(self.real, self.img)\n",
        "    return c\n",
        "  def __sub__(self, other):\n",
        "    self.real -= other.real\n",
        "    self.img -= other.img\n",
        "    c = Complex(self.real, self.img)\n",
        "    return c\n"
      ],
      "metadata": {
        "id": "1S9xHFiyFk6o"
      },
      "execution_count": null,
      "outputs": []
    },
    {
      "cell_type": "code",
      "source": [
        "c1 = Complex(3,4)"
      ],
      "metadata": {
        "id": "i7KYijC7GC4w"
      },
      "execution_count": null,
      "outputs": []
    },
    {
      "cell_type": "code",
      "source": [
        "c1.printComp()"
      ],
      "metadata": {
        "colab": {
          "base_uri": "https://localhost:8080/"
        },
        "id": "IcLw_At7GE-H",
        "outputId": "48b63e4b-4955-4c67-ba4c-d9ae712a19af"
      },
      "execution_count": null,
      "outputs": [
        {
          "output_type": "stream",
          "name": "stdout",
          "text": [
            "The real part is 3 and imaginary part is 4\n"
          ]
        }
      ]
    },
    {
      "cell_type": "code",
      "source": [
        "c2 = Complex(2,1)"
      ],
      "metadata": {
        "id": "68RNCwudGHlK"
      },
      "execution_count": null,
      "outputs": []
    },
    {
      "cell_type": "code",
      "source": [
        "c3 = c1 - c2"
      ],
      "metadata": {
        "id": "m5aWnfSFGtQH"
      },
      "execution_count": null,
      "outputs": []
    },
    {
      "cell_type": "code",
      "source": [
        "c3.printComp()"
      ],
      "metadata": {
        "colab": {
          "base_uri": "https://localhost:8080/"
        },
        "id": "befPLPDtGwei",
        "outputId": "62d4356c-3db3-4ac8-c8d9-826b72909686"
      },
      "execution_count": null,
      "outputs": [
        {
          "output_type": "stream",
          "name": "stdout",
          "text": [
            "The real part is 1 and imaginary part is 3\n"
          ]
        }
      ]
    },
    {
      "cell_type": "code",
      "source": [
        "c4 = c1 + c3"
      ],
      "metadata": {
        "id": "uBmpdweqKNsP"
      },
      "execution_count": null,
      "outputs": []
    },
    {
      "cell_type": "code",
      "source": [
        "c4.printComp()"
      ],
      "metadata": {
        "colab": {
          "base_uri": "https://localhost:8080/"
        },
        "id": "KQ-ZY23GH2zl",
        "outputId": "98ee5936-ae31-4de8-e3b4-b130cf41ec89"
      },
      "execution_count": null,
      "outputs": [
        {
          "output_type": "stream",
          "name": "stdout",
          "text": [
            "The real part is 2 and imaginary part is 6\n"
          ]
        }
      ]
    },
    {
      "cell_type": "code",
      "source": [
        "# Function overloading - will it work in python ?"
      ],
      "metadata": {
        "id": "lkNnJg7-KU2G"
      },
      "execution_count": null,
      "outputs": []
    },
    {
      "cell_type": "code",
      "source": [
        "class Base:\n",
        "  def __init__(self, name, roll, marks):\n",
        "    self.name = name\n",
        "    self._roll = roll\n",
        "    self.__marks = marks\n",
        "  def samename(self):\n",
        "    print(\"printing class\")\n",
        "  def printbase(self):\n",
        "    print(self.name, self._roll, self.__marks)\n",
        "class Derived(Base):\n",
        "  def __init__(self,name,roll,marks, name1):\n",
        "    super().__init__(name, roll, marks)\n",
        "    self.name1 = name1"
      ],
      "metadata": {
        "id": "W38KlUetLXXH"
      },
      "execution_count": null,
      "outputs": []
    },
    {
      "cell_type": "code",
      "source": [
        "c1 = Derived(\"Abhi\", 11, 111, 'a')"
      ],
      "metadata": {
        "id": "WbJ4MorNObh9"
      },
      "execution_count": null,
      "outputs": []
    },
    {
      "cell_type": "code",
      "source": [
        "c1.printbase()"
      ],
      "metadata": {
        "colab": {
          "base_uri": "https://localhost:8080/"
        },
        "id": "HNYp2x0qOhsd",
        "outputId": "e3a8665f-5475-4111-f108-3e45fab3340e"
      },
      "execution_count": null,
      "outputs": [
        {
          "output_type": "stream",
          "name": "stdout",
          "text": [
            "Abhi 11 111\n"
          ]
        }
      ]
    },
    {
      "cell_type": "code",
      "source": [],
      "metadata": {
        "id": "lDJjXBFtOm8U"
      },
      "execution_count": null,
      "outputs": []
    }
  ]
}