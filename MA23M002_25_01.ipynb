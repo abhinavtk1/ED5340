{
  "nbformat": 4,
  "nbformat_minor": 0,
  "metadata": {
    "colab": {
      "provenance": []
    },
    "kernelspec": {
      "name": "python3",
      "display_name": "Python 3"
    },
    "language_info": {
      "name": "python"
    }
  },
  "cells": [
    {
      "cell_type": "code",
      "execution_count": 3,
      "metadata": {
        "id": "W0R_6T1q39fG",
        "colab": {
          "base_uri": "https://localhost:8080/"
        },
        "outputId": "3d4539b6-84b9-4361-beed-a974ef39d694"
      },
      "outputs": [
        {
          "output_type": "stream",
          "name": "stdout",
          "text": [
            "400\n"
          ]
        }
      ],
      "source": [
        "# Identify largest of three numbers\n",
        "a = 100\n",
        "b = 20\n",
        "c = 400\n",
        "\n",
        "if a > b:\n",
        "  large = a\n",
        "else:\n",
        "  large = b\n",
        "if c > large:\n",
        "  large = c\n",
        "print(large)"
      ]
    },
    {
      "cell_type": "code",
      "source": [
        "if a>b:\n",
        "  if a>c:\n",
        "    print(a)\n",
        "  else:\n",
        "    print(c)\n",
        "else:\n",
        "  if b>c:\n",
        "    print(b)\n",
        "  else:\n",
        "    print(c)"
      ],
      "metadata": {
        "colab": {
          "base_uri": "https://localhost:8080/"
        },
        "id": "HMOgGW8a82XS",
        "outputId": "68b6bc17-6e82-4cef-b9a5-604e8c97a26a"
      },
      "execution_count": 4,
      "outputs": [
        {
          "output_type": "stream",
          "name": "stdout",
          "text": [
            "400\n"
          ]
        }
      ]
    },
    {
      "cell_type": "code",
      "source": [
        "a = 10\n",
        "b = 10\n",
        "c = 10"
      ],
      "metadata": {
        "id": "hO8B5rSO92_X"
      },
      "execution_count": 4,
      "outputs": []
    },
    {
      "cell_type": "code",
      "source": [
        "a == b == c"
      ],
      "metadata": {
        "colab": {
          "base_uri": "https://localhost:8080/"
        },
        "id": "o1PErRdI98SX",
        "outputId": "fd09bee8-5f18-497e-99d2-09e66d2f1f51"
      },
      "execution_count": 5,
      "outputs": [
        {
          "output_type": "execute_result",
          "data": {
            "text/plain": [
              "True"
            ]
          },
          "metadata": {},
          "execution_count": 5
        }
      ]
    },
    {
      "cell_type": "code",
      "source": [
        "a!=b !=a"
      ],
      "metadata": {
        "colab": {
          "base_uri": "https://localhost:8080/"
        },
        "id": "DdyvNN419bQP",
        "outputId": "46b6e006-d10a-4eed-9d5b-5b92f1516d6b"
      },
      "execution_count": 6,
      "outputs": [
        {
          "output_type": "execute_result",
          "data": {
            "text/plain": [
              "False"
            ]
          },
          "metadata": {},
          "execution_count": 6
        }
      ]
    },
    {
      "cell_type": "code",
      "source": [
        "a = 10\n",
        "b = 4\n",
        "c = 11"
      ],
      "metadata": {
        "id": "a9jeNOnfAeo7"
      },
      "execution_count": 8,
      "outputs": []
    },
    {
      "cell_type": "code",
      "source": [
        "if a>b and a>c:\n",
        "  print(a)\n",
        "elif b>c:\n",
        "  print(b)\n",
        "else:\n",
        "  print(c)\n"
      ],
      "metadata": {
        "colab": {
          "base_uri": "https://localhost:8080/"
        },
        "id": "CjHZFUW_92Gx",
        "outputId": "67fb30b7-bbc4-47ab-a275-9dab8f567933"
      },
      "execution_count": 10,
      "outputs": [
        {
          "output_type": "stream",
          "name": "stdout",
          "text": [
            "11\n"
          ]
        }
      ]
    },
    {
      "cell_type": "code",
      "source": [
        "a = 5\n",
        "b = 10\n",
        "while a<b:\n",
        "  a += 1\n",
        "  print(a)"
      ],
      "metadata": {
        "colab": {
          "base_uri": "https://localhost:8080/"
        },
        "id": "ZNQeDMPvBU-F",
        "outputId": "c6585a8d-e803-4cde-8e33-7263012f43a5"
      },
      "execution_count": 19,
      "outputs": [
        {
          "output_type": "stream",
          "name": "stdout",
          "text": [
            "6\n",
            "7\n",
            "8\n",
            "9\n",
            "10\n"
          ]
        }
      ]
    },
    {
      "cell_type": "code",
      "source": [
        "s1 = 'njfjf'\n",
        "for ele in s1:\n",
        "  print(ele)"
      ],
      "metadata": {
        "colab": {
          "base_uri": "https://localhost:8080/"
        },
        "id": "Z0pob7ZoCcFP",
        "outputId": "7db767e8-72bf-40fd-b66f-d09ac972a3e4"
      },
      "execution_count": 21,
      "outputs": [
        {
          "output_type": "stream",
          "name": "stdout",
          "text": [
            "n\n",
            "j\n",
            "f\n",
            "j\n",
            "f\n"
          ]
        }
      ]
    },
    {
      "cell_type": "code",
      "source": [
        "l = range(1,10,2)"
      ],
      "metadata": {
        "id": "LNyKgJ-_Dqfp"
      },
      "execution_count": 24,
      "outputs": []
    },
    {
      "cell_type": "code",
      "source": [
        "print(\"Yes\") if 0 else print(\"No\")"
      ],
      "metadata": {
        "colab": {
          "base_uri": "https://localhost:8080/"
        },
        "id": "LbohgiE8D7My",
        "outputId": "e67f3222-c628-4acc-9433-df38ace1cc35"
      },
      "execution_count": 26,
      "outputs": [
        {
          "output_type": "stream",
          "name": "stdout",
          "text": [
            "No\n"
          ]
        }
      ]
    },
    {
      "cell_type": "code",
      "source": [],
      "metadata": {
        "id": "O8el9TlTErJr"
      },
      "execution_count": null,
      "outputs": []
    }
  ]
}