{
  "nbformat": 4,
  "nbformat_minor": 0,
  "metadata": {
    "colab": {
      "provenance": []
    },
    "kernelspec": {
      "name": "python3",
      "display_name": "Python 3"
    },
    "language_info": {
      "name": "python"
    }
  },
  "cells": [
    {
      "cell_type": "markdown",
      "source": [
        "# 19 - 01 - 2024\n",
        "# MA23M002 - ABHINAV T K"
      ],
      "metadata": {
        "id": "slVu4Zs32Qvs"
      }
    },
    {
      "cell_type": "code",
      "source": [
        "str1 = \"Abh\"\n",
        "str2 = \"inav\"\n",
        "print(str1 + str2)    # Concatenation"
      ],
      "metadata": {
        "colab": {
          "base_uri": "https://localhost:8080/"
        },
        "id": "BFZY7gPtzCJx",
        "outputId": "5426fe4f-e24c-4c81-be8b-4e317635ecb2"
      },
      "execution_count": 28,
      "outputs": [
        {
          "output_type": "stream",
          "name": "stdout",
          "text": [
            "Abhinav\n"
          ]
        }
      ]
    },
    {
      "cell_type": "code",
      "source": [
        "print(\"=\"*45)"
      ],
      "metadata": {
        "colab": {
          "base_uri": "https://localhost:8080/"
        },
        "id": "0pZsjkl8zKin",
        "outputId": "05973ec8-4043-4816-a3b1-0e2a76159eca"
      },
      "execution_count": 5,
      "outputs": [
        {
          "output_type": "stream",
          "name": "stdout",
          "text": [
            "=============================================\n"
          ]
        }
      ]
    },
    {
      "cell_type": "code",
      "source": [
        "print('el' in 'Helloo')"
      ],
      "metadata": {
        "colab": {
          "base_uri": "https://localhost:8080/"
        },
        "id": "H-GiUybWzOhH",
        "outputId": "e936851e-b5be-4ba2-e75f-d13dec27162d"
      },
      "execution_count": 6,
      "outputs": [
        {
          "output_type": "stream",
          "name": "stdout",
          "text": [
            "True\n"
          ]
        }
      ]
    },
    {
      "cell_type": "code",
      "source": [
        "print('lin' in 'loner')"
      ],
      "metadata": {
        "colab": {
          "base_uri": "https://localhost:8080/"
        },
        "id": "GqXq3vJKzTVY",
        "outputId": "b2b461e4-228b-44ad-fcd3-a640f197351a"
      },
      "execution_count": 7,
      "outputs": [
        {
          "output_type": "stream",
          "name": "stdout",
          "text": [
            "False\n"
          ]
        }
      ]
    },
    {
      "cell_type": "code",
      "source": [
        "# String operations"
      ],
      "metadata": {
        "id": "8XOOVsRyzcpW"
      },
      "execution_count": 8,
      "outputs": []
    },
    {
      "cell_type": "code",
      "source": [
        "str1 = \"Abhinav\""
      ],
      "metadata": {
        "id": "kQ1jbd2bzgu8"
      },
      "execution_count": 9,
      "outputs": []
    },
    {
      "cell_type": "code",
      "source": [
        "print(str1.isalpha())"
      ],
      "metadata": {
        "colab": {
          "base_uri": "https://localhost:8080/"
        },
        "id": "K3vmUcgd0h6b",
        "outputId": "f12aa28e-65cd-4dcb-ad2b-d3036c37a020"
      },
      "execution_count": 10,
      "outputs": [
        {
          "output_type": "stream",
          "name": "stdout",
          "text": [
            "True\n"
          ]
        }
      ]
    },
    {
      "cell_type": "code",
      "source": [
        "print(str1.isdigit())"
      ],
      "metadata": {
        "colab": {
          "base_uri": "https://localhost:8080/"
        },
        "id": "tnNwc3oh0mXV",
        "outputId": "027c87e0-832e-406a-9497-d84127ec9844"
      },
      "execution_count": 11,
      "outputs": [
        {
          "output_type": "stream",
          "name": "stdout",
          "text": [
            "False\n"
          ]
        }
      ]
    },
    {
      "cell_type": "code",
      "source": [
        "print(str1.upper())"
      ],
      "metadata": {
        "colab": {
          "base_uri": "https://localhost:8080/"
        },
        "id": "B3hnRV7k0rL_",
        "outputId": "2a01dc41-42ac-47cc-b873-aefe484b8066"
      },
      "execution_count": 12,
      "outputs": [
        {
          "output_type": "stream",
          "name": "stdout",
          "text": [
            "ABHINAV\n"
          ]
        }
      ]
    },
    {
      "cell_type": "code",
      "source": [
        "print(str1.lower())"
      ],
      "metadata": {
        "colab": {
          "base_uri": "https://localhost:8080/"
        },
        "id": "fzjsbWbw04Bl",
        "outputId": "938692b0-6878-4bf4-d25b-8b9cfbf18b5c"
      },
      "execution_count": 13,
      "outputs": [
        {
          "output_type": "stream",
          "name": "stdout",
          "text": [
            "abhinav\n"
          ]
        }
      ]
    },
    {
      "cell_type": "code",
      "source": [
        "print(str1.swapcase())"
      ],
      "metadata": {
        "colab": {
          "base_uri": "https://localhost:8080/"
        },
        "id": "gVgWYamf08Wp",
        "outputId": "a02ab63b-9703-44e8-f3f5-1091cc87c142"
      },
      "execution_count": 15,
      "outputs": [
        {
          "output_type": "stream",
          "name": "stdout",
          "text": [
            "aBHINAV\n"
          ]
        }
      ]
    },
    {
      "cell_type": "code",
      "source": [
        "print(str1.find('h'))"
      ],
      "metadata": {
        "colab": {
          "base_uri": "https://localhost:8080/"
        },
        "id": "IkA7dy980_QF",
        "outputId": "6c91ddd1-db8d-4f3e-f397-d89ba34baaaf"
      },
      "execution_count": 16,
      "outputs": [
        {
          "output_type": "stream",
          "name": "stdout",
          "text": [
            "2\n"
          ]
        }
      ]
    },
    {
      "cell_type": "code",
      "source": [
        "print(str1.replace('h','y',1))"
      ],
      "metadata": {
        "colab": {
          "base_uri": "https://localhost:8080/"
        },
        "id": "4XQye6xj1PRn",
        "outputId": "1dfb4a4d-899c-4d97-fc15-8d7501b1801f"
      },
      "execution_count": 17,
      "outputs": [
        {
          "output_type": "stream",
          "name": "stdout",
          "text": [
            "Abyinav\n"
          ]
        }
      ]
    },
    {
      "cell_type": "code",
      "source": [
        "str2 = \"apple orange mango\""
      ],
      "metadata": {
        "id": "y6ODoXKm1Yyq"
      },
      "execution_count": 22,
      "outputs": []
    },
    {
      "cell_type": "code",
      "source": [
        "print(str2.split())"
      ],
      "metadata": {
        "colab": {
          "base_uri": "https://localhost:8080/"
        },
        "id": "33GkBYJn1aVw",
        "outputId": "27f3bbbd-6276-4a7b-8b29-5de94fee5c74"
      },
      "execution_count": 23,
      "outputs": [
        {
          "output_type": "stream",
          "name": "stdout",
          "text": [
            "['apple', 'orange', 'mango']\n"
          ]
        }
      ]
    },
    {
      "cell_type": "code",
      "source": [
        "str3 = \"apple,orange,mango\""
      ],
      "metadata": {
        "id": "A8C5X0py1htX"
      },
      "execution_count": 24,
      "outputs": []
    },
    {
      "cell_type": "code",
      "source": [
        "print(str3.split(\",\"))  # Comma separated"
      ],
      "metadata": {
        "colab": {
          "base_uri": "https://localhost:8080/"
        },
        "id": "BENsr1at1910",
        "outputId": "586af3c8-59d9-48fc-ad4c-24cc4c78ca1e"
      },
      "execution_count": 27,
      "outputs": [
        {
          "output_type": "stream",
          "name": "stdout",
          "text": [
            "['apple', 'orange', 'mango']\n"
          ]
        }
      ]
    },
    {
      "cell_type": "code",
      "source": [
        "txt = \"I could eat bananas all day\"\n",
        "x = txt.partition(\"bananas\")\n",
        "print(x)"
      ],
      "metadata": {
        "colab": {
          "base_uri": "https://localhost:8080/"
        },
        "id": "OKoN5-zZ2Ae8",
        "outputId": "f22ebd32-2f7e-4dde-fb8b-c18294f4ae73"
      },
      "execution_count": 29,
      "outputs": [
        {
          "output_type": "stream",
          "name": "stdout",
          "text": [
            "('I could eat ', 'bananas', ' all day')\n"
          ]
        }
      ]
    },
    {
      "cell_type": "code",
      "source": [
        "# input() function"
      ],
      "metadata": {
        "id": "RsAPsiwe3PjN"
      },
      "execution_count": 30,
      "outputs": []
    },
    {
      "cell_type": "code",
      "source": [
        "a = input('Enter first value: ')"
      ],
      "metadata": {
        "colab": {
          "base_uri": "https://localhost:8080/"
        },
        "id": "OhyyF1LL4GbT",
        "outputId": "cf07beea-324f-4e94-c25c-2dded732b16b"
      },
      "execution_count": 31,
      "outputs": [
        {
          "name": "stdout",
          "output_type": "stream",
          "text": [
            "Enter first value: 23\n"
          ]
        }
      ]
    },
    {
      "cell_type": "code",
      "source": [
        "b = input('Enter second val: ')"
      ],
      "metadata": {
        "colab": {
          "base_uri": "https://localhost:8080/"
        },
        "id": "6z32jtd04PTo",
        "outputId": "dc8e78e3-e092-40e6-e070-b225b2d9de64"
      },
      "execution_count": 33,
      "outputs": [
        {
          "name": "stdout",
          "output_type": "stream",
          "text": [
            "Enter second val: 10\n"
          ]
        }
      ]
    },
    {
      "cell_type": "code",
      "source": [
        "print(type(a))"
      ],
      "metadata": {
        "colab": {
          "base_uri": "https://localhost:8080/"
        },
        "id": "AvcHSvOm4-fL",
        "outputId": "07d9896a-8fea-4583-9ae0-52fe1996b1ac"
      },
      "execution_count": 38,
      "outputs": [
        {
          "output_type": "stream",
          "name": "stdout",
          "text": [
            "<class 'str'>\n"
          ]
        }
      ]
    },
    {
      "cell_type": "code",
      "source": [
        "print(a+b)"
      ],
      "metadata": {
        "colab": {
          "base_uri": "https://localhost:8080/"
        },
        "id": "Ol-IbAKL4Uu6",
        "outputId": "2c7ba209-f60d-4b43-8bbd-ec79bba84e6e"
      },
      "execution_count": 34,
      "outputs": [
        {
          "output_type": "stream",
          "name": "stdout",
          "text": [
            "2310\n"
          ]
        }
      ]
    },
    {
      "cell_type": "code",
      "source": [
        "# Type conversion\n",
        "c = int(a)+int(b) # Converting str to int\n",
        "print(c)"
      ],
      "metadata": {
        "colab": {
          "base_uri": "https://localhost:8080/"
        },
        "id": "-v2X-_ia4ocH",
        "outputId": "1133b953-8692-44cb-bba4-47d42f2a5f34"
      },
      "execution_count": 36,
      "outputs": [
        {
          "output_type": "stream",
          "name": "stdout",
          "text": [
            "33\n"
          ]
        }
      ]
    },
    {
      "cell_type": "code",
      "source": [
        "print(type(c))"
      ],
      "metadata": {
        "colab": {
          "base_uri": "https://localhost:8080/"
        },
        "id": "td9cUiYq4tj5",
        "outputId": "40d3f9a6-129f-44b0-ac23-d15caee5ce99"
      },
      "execution_count": 37,
      "outputs": [
        {
          "output_type": "stream",
          "name": "stdout",
          "text": [
            "<class 'int'>\n"
          ]
        }
      ]
    },
    {
      "cell_type": "code",
      "source": [
        "a, b = input(\"Enter two inputs: \").split()"
      ],
      "metadata": {
        "colab": {
          "base_uri": "https://localhost:8080/"
        },
        "id": "umZN4k7Q47ZG",
        "outputId": "b3dc49fe-8c8a-42ce-b38d-4d6801fc1da6"
      },
      "execution_count": 39,
      "outputs": [
        {
          "name": "stdout",
          "output_type": "stream",
          "text": [
            "Enter two inputs: 21 34\n"
          ]
        }
      ]
    },
    {
      "cell_type": "code",
      "source": [
        "print(\"a = \",a)\n",
        "print(\"b = \",b)"
      ],
      "metadata": {
        "colab": {
          "base_uri": "https://localhost:8080/"
        },
        "id": "SQhHovs05biP",
        "outputId": "7994c9b5-3061-4072-e549-e6c32fbea60c"
      },
      "execution_count": 40,
      "outputs": [
        {
          "output_type": "stream",
          "name": "stdout",
          "text": [
            "a =  21\n",
            "b =  34\n"
          ]
        }
      ]
    },
    {
      "cell_type": "code",
      "source": [
        "sum = int(a)+int(b)\n",
        "print(sum)"
      ],
      "metadata": {
        "colab": {
          "base_uri": "https://localhost:8080/"
        },
        "id": "_GvyZ6l35kOk",
        "outputId": "8a1cd50a-c0fb-4f1c-81ee-296a43dbb6e8"
      },
      "execution_count": 41,
      "outputs": [
        {
          "output_type": "stream",
          "name": "stdout",
          "text": [
            "55\n"
          ]
        }
      ]
    },
    {
      "cell_type": "code",
      "source": [
        "name, age, salary = input(\"Enter name, age & salary \").split()"
      ],
      "metadata": {
        "colab": {
          "base_uri": "https://localhost:8080/"
        },
        "id": "STAfkQWU5px0",
        "outputId": "158e44d5-910e-44e0-d044-037b80b8702a"
      },
      "execution_count": 46,
      "outputs": [
        {
          "name": "stdout",
          "output_type": "stream",
          "text": [
            "Enter name, age & salary Abhinav 25 12400.0\n"
          ]
        }
      ]
    },
    {
      "cell_type": "code",
      "source": [
        "age = int(age)\n",
        "salary = float(salary)"
      ],
      "metadata": {
        "id": "SvDHFEXZ6kCi"
      },
      "execution_count": 47,
      "outputs": []
    },
    {
      "cell_type": "code",
      "source": [
        "print(name,age,salary)"
      ],
      "metadata": {
        "colab": {
          "base_uri": "https://localhost:8080/"
        },
        "id": "dtrUVjyJ54TX",
        "outputId": "322af4bd-8a62-4d20-d961-a2a077d05518"
      },
      "execution_count": 51,
      "outputs": [
        {
          "output_type": "stream",
          "name": "stdout",
          "text": [
            "Abhinav 25 12400.0\n"
          ]
        }
      ]
    },
    {
      "cell_type": "code",
      "source": [
        "data = input(\"Enter name, age, salary\").split()"
      ],
      "metadata": {
        "colab": {
          "base_uri": "https://localhost:8080/"
        },
        "id": "T5ntoZGG6CWY",
        "outputId": "6e08e818-af61-4293-a781-a737afaff7b6"
      },
      "execution_count": 52,
      "outputs": [
        {
          "name": "stdout",
          "output_type": "stream",
          "text": [
            "Enter name, age, salaryAbhi 25 12400.00\n"
          ]
        }
      ]
    },
    {
      "cell_type": "code",
      "source": [
        "data"
      ],
      "metadata": {
        "colab": {
          "base_uri": "https://localhost:8080/"
        },
        "id": "lLBpH5DK7fdg",
        "outputId": "0cfad39f-24e4-4ab6-d425-232dc96f807e"
      },
      "execution_count": 53,
      "outputs": [
        {
          "output_type": "execute_result",
          "data": {
            "text/plain": [
              "['Abhi', '25', '12400.00']"
            ]
          },
          "metadata": {},
          "execution_count": 53
        }
      ]
    },
    {
      "cell_type": "code",
      "source": [
        "name = data[0]\n",
        "age = int(data[1])\n",
        "salary = float(data[2])"
      ],
      "metadata": {
        "id": "ks9-LZah7kud"
      },
      "execution_count": 54,
      "outputs": []
    },
    {
      "cell_type": "code",
      "source": [
        "print(\"Printing...\", name, age, salary)"
      ],
      "metadata": {
        "colab": {
          "base_uri": "https://localhost:8080/"
        },
        "id": "TgCbT3Lj7v3y",
        "outputId": "dee9b42b-d894-40a3-93b2-d2d06f7f0b0b"
      },
      "execution_count": 55,
      "outputs": [
        {
          "output_type": "stream",
          "name": "stdout",
          "text": [
            "Printing... Abhi 25 12400.0\n"
          ]
        }
      ]
    },
    {
      "cell_type": "code",
      "source": [
        "print(\"I am\", end = '\\t')\n",
        "print('learning', end = '\\t')\n",
        "print('Python')"
      ],
      "metadata": {
        "colab": {
          "base_uri": "https://localhost:8080/"
        },
        "id": "oenilW4e73GE",
        "outputId": "acf45d18-b7a0-43bb-bb93-8a31a6f59f2a"
      },
      "execution_count": 56,
      "outputs": [
        {
          "output_type": "stream",
          "name": "stdout",
          "text": [
            "I am\tlearning\tPython\n"
          ]
        }
      ]
    },
    {
      "cell_type": "code",
      "source": [],
      "metadata": {
        "id": "EcO7KOmG8y9z"
      },
      "execution_count": null,
      "outputs": []
    }
  ]
}