{
  "nbformat": 4,
  "nbformat_minor": 0,
  "metadata": {
    "colab": {
      "provenance": [],
      "authorship_tag": "ABX9TyPv6Qg8eoXqG7F9AQUg9RVO",
      "include_colab_link": true
    },
    "kernelspec": {
      "name": "python3",
      "display_name": "Python 3"
    },
    "language_info": {
      "name": "python"
    }
  },
  "cells": [
    {
      "cell_type": "markdown",
      "metadata": {
        "id": "view-in-github",
        "colab_type": "text"
      },
      "source": [
        "<a href=\"https://colab.research.google.com/github/abhinavtk1/ED5340-Codes/blob/main/MA23M002_Apr1.ipynb\" target=\"_parent\"><img src=\"https://colab.research.google.com/assets/colab-badge.svg\" alt=\"Open In Colab\"/></a>"
      ]
    },
    {
      "cell_type": "code",
      "execution_count": null,
      "metadata": {
        "id": "JuXUu4SYZLaP"
      },
      "outputs": [],
      "source": [
        "# overfitting\n",
        "# high variance"
      ]
    },
    {
      "cell_type": "code",
      "source": [
        "# underfitting\n",
        "# high bias"
      ],
      "metadata": {
        "id": "TabjYPrbZTas"
      },
      "execution_count": null,
      "outputs": []
    },
    {
      "cell_type": "code",
      "source": [
        "# Regularization\n",
        "# lambda: hyperparameter, regularization parameter\n",
        "# l2 regularization"
      ],
      "metadata": {
        "id": "UuLsPr2ZZsID"
      },
      "execution_count": null,
      "outputs": []
    }
  ]
}