{
  "nbformat": 4,
  "nbformat_minor": 0,
  "metadata": {
    "colab": {
      "provenance": [],
      "authorship_tag": "ABX9TyOkaRC1v4YJ2o/zx5uZ1Lu9",
      "include_colab_link": true
    },
    "kernelspec": {
      "name": "python3",
      "display_name": "Python 3"
    },
    "language_info": {
      "name": "python"
    }
  },
  "cells": [
    {
      "cell_type": "markdown",
      "metadata": {
        "id": "view-in-github",
        "colab_type": "text"
      },
      "source": [
        "<a href=\"https://colab.research.google.com/github/abhinavtk1/ED5340-CW/blob/main/MA23M002_LAB3_PART2.ipynb\" target=\"_parent\"><img src=\"https://colab.research.google.com/assets/colab-badge.svg\" alt=\"Open In Colab\"/></a>"
      ]
    },
    {
      "cell_type": "markdown",
      "source": [
        "# LAB 3 - PART2: LISTS, SET AND TUPLE"
      ],
      "metadata": {
        "id": "U1T9jkG1Raru"
      }
    },
    {
      "cell_type": "markdown",
      "source": [
        "6. List comprehension  : Given two lists of equal length, list1 contains the integers and list2 contains alphabets. Using list comprehension, WAP"
      ],
      "metadata": {
        "id": "_nLODs5ORgez"
      }
    },
    {
      "cell_type": "markdown",
      "source": [
        "a) To generate a list containing the squares of elements from list1.\n"
      ],
      "metadata": {
        "id": "jTEh5fNIRkwK"
      }
    },
    {
      "cell_type": "code",
      "execution_count": 1,
      "metadata": {
        "id": "rE9cneOlRStN"
      },
      "outputs": [],
      "source": [
        "list1 = [1,2,3,4,5,6,7]\n",
        "list2 = ['a', 'b', 'c', 'd', 'e', 'f', 'g']"
      ]
    },
    {
      "cell_type": "code",
      "source": [
        "sq_list1 = [x**2 for x in list1]\n",
        "print(sq_list1)"
      ],
      "metadata": {
        "colab": {
          "base_uri": "https://localhost:8080/"
        },
        "id": "0u3tH_kCRyBb",
        "outputId": "1aee9e25-7cd3-48e0-cc7c-07cb502acaa9"
      },
      "execution_count": 2,
      "outputs": [
        {
          "output_type": "stream",
          "name": "stdout",
          "text": [
            "[1, 4, 9, 16, 25, 36, 49]\n"
          ]
        }
      ]
    },
    {
      "cell_type": "markdown",
      "source": [
        "b) To generate a list containing pairwise corresponding elements in the form of tuple.\n",
        "\n"
      ],
      "metadata": {
        "id": "gze1x9ClR9-m"
      }
    },
    {
      "cell_type": "code",
      "source": [
        "list_pairs = [x for x in zip(list1,list2)]\n",
        "print(list_pairs)"
      ],
      "metadata": {
        "colab": {
          "base_uri": "https://localhost:8080/"
        },
        "id": "WWYc2pbvR4GA",
        "outputId": "030784e5-4e07-491d-e234-08c5c847f4df"
      },
      "execution_count": 3,
      "outputs": [
        {
          "output_type": "stream",
          "name": "stdout",
          "text": [
            "[(1, 'a'), (2, 'b'), (3, 'c'), (4, 'd'), (5, 'e'), (6, 'f'), (7, 'g')]\n"
          ]
        }
      ]
    },
    {
      "cell_type": "markdown",
      "source": [
        "c) To generate a list containing all possible combinations of elements from the two lists.\n",
        "\n"
      ],
      "metadata": {
        "id": "asiq2Mr-SR1v"
      }
    },
    {
      "cell_type": "code",
      "source": [
        "list_comb = [(x,y) for x in list1 for y in list2]\n",
        "print(list_comb)"
      ],
      "metadata": {
        "colab": {
          "base_uri": "https://localhost:8080/"
        },
        "id": "qB1SMaOJSJje",
        "outputId": "db643582-c266-4cfe-d1a3-72a5f42c91cc"
      },
      "execution_count": 4,
      "outputs": [
        {
          "output_type": "stream",
          "name": "stdout",
          "text": [
            "[(1, 'a'), (1, 'b'), (1, 'c'), (1, 'd'), (1, 'e'), (1, 'f'), (1, 'g'), (2, 'a'), (2, 'b'), (2, 'c'), (2, 'd'), (2, 'e'), (2, 'f'), (2, 'g'), (3, 'a'), (3, 'b'), (3, 'c'), (3, 'd'), (3, 'e'), (3, 'f'), (3, 'g'), (4, 'a'), (4, 'b'), (4, 'c'), (4, 'd'), (4, 'e'), (4, 'f'), (4, 'g'), (5, 'a'), (5, 'b'), (5, 'c'), (5, 'd'), (5, 'e'), (5, 'f'), (5, 'g'), (6, 'a'), (6, 'b'), (6, 'c'), (6, 'd'), (6, 'e'), (6, 'f'), (6, 'g'), (7, 'a'), (7, 'b'), (7, 'c'), (7, 'd'), (7, 'e'), (7, 'f'), (7, 'g')]\n"
          ]
        }
      ]
    },
    {
      "cell_type": "markdown",
      "source": [
        "d) To generate a list containing elements of list1 and list2 alternatively.\n",
        "\n"
      ],
      "metadata": {
        "id": "asvkJxzwS-AU"
      }
    },
    {
      "cell_type": "code",
      "source": [
        "list_alt = [y for x in zip(list1,list2) for y in x]\n",
        "print(list_alt)"
      ],
      "metadata": {
        "colab": {
          "base_uri": "https://localhost:8080/"
        },
        "id": "3Qm0QcwPSnKe",
        "outputId": "85497e40-a9d0-42a7-eb26-d762b797c249"
      },
      "execution_count": 5,
      "outputs": [
        {
          "output_type": "stream",
          "name": "stdout",
          "text": [
            "[1, 'a', 2, 'b', 3, 'c', 4, 'd', 5, 'e', 6, 'f', 7, 'g']\n"
          ]
        }
      ]
    },
    {
      "cell_type": "code",
      "source": [],
      "metadata": {
        "id": "r9FSZMrCUdKd"
      },
      "execution_count": 5,
      "outputs": []
    },
    {
      "cell_type": "markdown",
      "source": [
        "8. Write a code snippet in Python that takes a string as input and returns a tuple of tuples. Each inner tuple should contain a character from the input string and its corresponding ASCII value.\n",
        "\n"
      ],
      "metadata": {
        "id": "LDJpxeqqWpuO"
      }
    },
    {
      "cell_type": "code",
      "source": [
        "inp_str = input(\"Enter string: \")"
      ],
      "metadata": {
        "colab": {
          "base_uri": "https://localhost:8080/"
        },
        "id": "nIop79WIWqdS",
        "outputId": "d43d2340-6536-4dec-bb9c-d24c8de8d6d7"
      },
      "execution_count": 6,
      "outputs": [
        {
          "name": "stdout",
          "output_type": "stream",
          "text": [
            "Enter string: Abhinav\n"
          ]
        }
      ]
    },
    {
      "cell_type": "code",
      "source": [
        "output = []\n",
        "for c in inp_str:\n",
        "  output.append((c,ord(c)))\n",
        "output = tuple(output)\n",
        "print(output)"
      ],
      "metadata": {
        "colab": {
          "base_uri": "https://localhost:8080/"
        },
        "id": "GPjlFiuMWuua",
        "outputId": "4776ab46-d243-4534-d56d-c4e9f5f079d1"
      },
      "execution_count": 7,
      "outputs": [
        {
          "output_type": "stream",
          "name": "stdout",
          "text": [
            "(('A', 65), ('b', 98), ('h', 104), ('i', 105), ('n', 110), ('a', 97), ('v', 118))\n"
          ]
        }
      ]
    },
    {
      "cell_type": "code",
      "source": [],
      "metadata": {
        "id": "oetFnohcXBp2"
      },
      "execution_count": 7,
      "outputs": []
    },
    {
      "cell_type": "markdown",
      "source": [
        "9. Create a program that takes a list of tuples containing student name and roll number and returns a new list of tuples containing only those tuples whose first element is a vowel (a, e, i, o, u, A, E, I, O, U).\n",
        "\n"
      ],
      "metadata": {
        "id": "07OIk1HsXXZx"
      }
    },
    {
      "cell_type": "code",
      "source": [
        "students = [('Abhinav', 1), ('Abhishek', 2), ('Pritam', 3), ('Partha',4), ('Vinod',5), ('Manish',6), ('Suman',7),('Ian',8)]\n",
        "vowels = ['a','e','i','o','u']\n",
        "output = []\n",
        "for i in students:\n",
        "  if i[0][0].lower() in vowels:\n",
        "    output.append(i)\n",
        "print(output)"
      ],
      "metadata": {
        "colab": {
          "base_uri": "https://localhost:8080/"
        },
        "id": "YMuEmC0bXYod",
        "outputId": "bbbaf550-4ab2-4c7b-cb38-e0953fbaf718"
      },
      "execution_count": 8,
      "outputs": [
        {
          "output_type": "stream",
          "name": "stdout",
          "text": [
            "[('Abhinav', 1), ('Abhishek', 2), ('Ian', 8)]\n"
          ]
        }
      ]
    },
    {
      "cell_type": "code",
      "source": [],
      "metadata": {
        "id": "WA22dMrnYcOm"
      },
      "execution_count": 8,
      "outputs": []
    },
    {
      "cell_type": "markdown",
      "source": [
        "10.  Create a set of all numbers between 1 and 20 that are either divisible by 3 or 5, using set comprehension.\n",
        "\n"
      ],
      "metadata": {
        "id": "AlnesGFZY0J_"
      }
    },
    {
      "cell_type": "code",
      "source": [
        "set1 = {x for x in range(1,21) if x%3==0 or x%5==0}\n",
        "print(set1)"
      ],
      "metadata": {
        "colab": {
          "base_uri": "https://localhost:8080/"
        },
        "id": "R3qwMABJY0yG",
        "outputId": "a324e300-397e-421b-9d62-0abf7de4db8d"
      },
      "execution_count": 9,
      "outputs": [
        {
          "output_type": "stream",
          "name": "stdout",
          "text": [
            "{3, 5, 6, 9, 10, 12, 15, 18, 20}\n"
          ]
        }
      ]
    },
    {
      "cell_type": "code",
      "source": [],
      "metadata": {
        "id": "8lx4A76cZFWU"
      },
      "execution_count": 9,
      "outputs": []
    },
    {
      "cell_type": "markdown",
      "source": [
        "11. What is a frozenset()? Give examples.\n",
        "\n"
      ],
      "metadata": {
        "id": "FUVTfVp7cfsI"
      }
    },
    {
      "cell_type": "markdown",
      "source": [
        "Frozen set is an immutable version of Python set. Elements in this cannot be changed once created."
      ],
      "metadata": {
        "id": "-oyKWtgcciBo"
      }
    },
    {
      "cell_type": "code",
      "source": [
        "l = [2,3,4,6,1]\n",
        "f = frozenset(l)\n",
        "print(f)"
      ],
      "metadata": {
        "colab": {
          "base_uri": "https://localhost:8080/"
        },
        "id": "TWxZkYD9cgxA",
        "outputId": "d3622077-2033-4c2f-b3bc-0c5a0e0ed770"
      },
      "execution_count": 17,
      "outputs": [
        {
          "output_type": "stream",
          "name": "stdout",
          "text": [
            "frozenset({1, 2, 3, 4, 6})\n"
          ]
        }
      ]
    },
    {
      "cell_type": "code",
      "source": [
        "f[1] = 3  # returns error"
      ],
      "metadata": {
        "id": "hES4GUFscvZs"
      },
      "execution_count": null,
      "outputs": []
    },
    {
      "cell_type": "code",
      "source": [],
      "metadata": {
        "id": "q9TgLTOOcy1A"
      },
      "execution_count": null,
      "outputs": []
    }
  ]
}