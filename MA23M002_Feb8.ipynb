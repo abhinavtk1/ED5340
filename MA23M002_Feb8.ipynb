{
  "nbformat": 4,
  "nbformat_minor": 0,
  "metadata": {
    "colab": {
      "provenance": [],
      "authorship_tag": "ABX9TyMLZSb2Wit3oCQQzKXpjQkT",
      "include_colab_link": true
    },
    "kernelspec": {
      "name": "python3",
      "display_name": "Python 3"
    },
    "language_info": {
      "name": "python"
    }
  },
  "cells": [
    {
      "cell_type": "markdown",
      "metadata": {
        "id": "view-in-github",
        "colab_type": "text"
      },
      "source": [
        "<a href=\"https://colab.research.google.com/github/abhinavtk1/ED5340-CW/blob/main/MA23M002_Feb8.ipynb\" target=\"_parent\"><img src=\"https://colab.research.google.com/assets/colab-badge.svg\" alt=\"Open In Colab\"/></a>"
      ]
    },
    {
      "cell_type": "code",
      "execution_count": null,
      "metadata": {
        "id": "DFEhOgq-_tyN"
      },
      "outputs": [],
      "source": [
        "# Set operations"
      ]
    },
    {
      "cell_type": "code",
      "source": [
        "s1 = {2,3,5,6}\n",
        "s2 = {1,4,6,2}"
      ],
      "metadata": {
        "id": "HVhJL8AvAWBJ"
      },
      "execution_count": 1,
      "outputs": []
    },
    {
      "cell_type": "code",
      "source": [
        "s1|=s2\n",
        "s1  #union"
      ],
      "metadata": {
        "colab": {
          "base_uri": "https://localhost:8080/"
        },
        "id": "G1BqrV5fAZyM",
        "outputId": "cee51287-ffc2-4f85-b1a1-9e9dc89f7065"
      },
      "execution_count": 3,
      "outputs": [
        {
          "output_type": "execute_result",
          "data": {
            "text/plain": [
              "{1, 2, 3, 4, 5, 6}"
            ]
          },
          "metadata": {},
          "execution_count": 3
        }
      ]
    },
    {
      "cell_type": "code",
      "source": [
        "s1 = {2,3,5,6}\n",
        "s3 = {4,5,9,11,14}"
      ],
      "metadata": {
        "id": "GAM_c4MIAoCc"
      },
      "execution_count": 13,
      "outputs": []
    },
    {
      "cell_type": "code",
      "source": [
        "s1&=s3  #intersection"
      ],
      "metadata": {
        "id": "cIr0Q3ZfAdno"
      },
      "execution_count": 14,
      "outputs": []
    },
    {
      "cell_type": "code",
      "source": [
        "print(s1)"
      ],
      "metadata": {
        "colab": {
          "base_uri": "https://localhost:8080/"
        },
        "id": "2GI5AzHqAliJ",
        "outputId": "e181a4eb-0e89-4164-b314-e7895761db81"
      },
      "execution_count": 15,
      "outputs": [
        {
          "output_type": "stream",
          "name": "stdout",
          "text": [
            "{5}\n"
          ]
        }
      ]
    },
    {
      "cell_type": "code",
      "source": [
        "s1-=s3"
      ],
      "metadata": {
        "id": "d8ypRzazAvCi"
      },
      "execution_count": 8,
      "outputs": []
    },
    {
      "cell_type": "code",
      "source": [
        "print(s1)"
      ],
      "metadata": {
        "colab": {
          "base_uri": "https://localhost:8080/"
        },
        "id": "3oFC3xwiA10a",
        "outputId": "f15621fa-552a-4c96-cb1f-7314d1562b3b"
      },
      "execution_count": 9,
      "outputs": [
        {
          "output_type": "stream",
          "name": "stdout",
          "text": [
            "set()\n"
          ]
        }
      ]
    },
    {
      "cell_type": "code",
      "source": [
        "s1 = {2,3,5,6}\n",
        "s2 = {1,4,6,2}"
      ],
      "metadata": {
        "id": "lvrYKVhMA45U"
      },
      "execution_count": 10,
      "outputs": []
    },
    {
      "cell_type": "code",
      "source": [
        "s1^=s2"
      ],
      "metadata": {
        "id": "aUG6EbuGA-C8"
      },
      "execution_count": 11,
      "outputs": []
    },
    {
      "cell_type": "code",
      "source": [
        "print(s1)"
      ],
      "metadata": {
        "colab": {
          "base_uri": "https://localhost:8080/"
        },
        "id": "_uFik51HA_lN",
        "outputId": "4da12e14-8eca-4858-dfbb-35510170e091"
      },
      "execution_count": 12,
      "outputs": [
        {
          "output_type": "stream",
          "name": "stdout",
          "text": [
            "{1, 3, 4, 5}\n"
          ]
        }
      ]
    },
    {
      "cell_type": "code",
      "source": [
        "# Dictionary"
      ],
      "metadata": {
        "id": "PV5AmKtfBBEQ"
      },
      "execution_count": 16,
      "outputs": []
    },
    {
      "cell_type": "markdown",
      "source": [
        "key-value pair <br>\n",
        "{} - dict <br>\n",
        "an iterator <br>\n",
        "indexing comes from key <br>\n",
        "\n"
      ],
      "metadata": {
        "id": "Or2bdeWYBo2g"
      }
    },
    {
      "cell_type": "code",
      "source": [
        "dc1 = {10:100, 20:200, 'ED1':'name1'}"
      ],
      "metadata": {
        "id": "Fb6n-k3hBlFN"
      },
      "execution_count": 17,
      "outputs": []
    },
    {
      "cell_type": "code",
      "source": [
        "for key in dc1:\n",
        "  print(dc1[key])"
      ],
      "metadata": {
        "colab": {
          "base_uri": "https://localhost:8080/"
        },
        "id": "MeS0wYk0CTPs",
        "outputId": "4fdb399a-04db-4062-fd28-95f8f564bf51"
      },
      "execution_count": 18,
      "outputs": [
        {
          "output_type": "stream",
          "name": "stdout",
          "text": [
            "100\n",
            "200\n",
            "name1\n"
          ]
        }
      ]
    },
    {
      "cell_type": "code",
      "source": [
        "dc1[10] = 22\n",
        "print(dc1[10])"
      ],
      "metadata": {
        "colab": {
          "base_uri": "https://localhost:8080/"
        },
        "id": "KtYxxlSlCXsh",
        "outputId": "69d382b6-a5a9-4e84-dc61-833eb12c5664"
      },
      "execution_count": 19,
      "outputs": [
        {
          "output_type": "stream",
          "name": "stdout",
          "text": [
            "22\n"
          ]
        }
      ]
    },
    {
      "cell_type": "code",
      "source": [
        "for key in dc1:\n",
        "  print(dc1[key])"
      ],
      "metadata": {
        "colab": {
          "base_uri": "https://localhost:8080/"
        },
        "id": "uz3gTpckCrY6",
        "outputId": "bb3fe8eb-8ff9-46c9-9bcf-0b988e6915c0"
      },
      "execution_count": 20,
      "outputs": [
        {
          "output_type": "stream",
          "name": "stdout",
          "text": [
            "22\n",
            "200\n",
            "name1\n"
          ]
        }
      ]
    },
    {
      "cell_type": "code",
      "source": [
        "dc1 = {10:100, 20:200, 'ED1':'name1', 20:220, 'ED1':'name2'}\n",
        "print(dc1[20])\n",
        "print(dc1['ED1'])"
      ],
      "metadata": {
        "colab": {
          "base_uri": "https://localhost:8080/"
        },
        "id": "LvfwXfEkCtWH",
        "outputId": "bdfe2d1f-e4f8-458b-d6d3-3f1b91f55718"
      },
      "execution_count": 21,
      "outputs": [
        {
          "output_type": "stream",
          "name": "stdout",
          "text": [
            "220\n",
            "name2\n"
          ]
        }
      ]
    },
    {
      "cell_type": "code",
      "source": [
        "print(dc1)"
      ],
      "metadata": {
        "colab": {
          "base_uri": "https://localhost:8080/"
        },
        "id": "Qf33fePtC8-u",
        "outputId": "025a5398-1fc6-45c6-dbf2-124c8360aba2"
      },
      "execution_count": 22,
      "outputs": [
        {
          "output_type": "stream",
          "name": "stdout",
          "text": [
            "{10: 100, 20: 220, 'ED1': 'name2'}\n"
          ]
        }
      ]
    },
    {
      "cell_type": "code",
      "source": [
        "for k, v in dc1.items():\n",
        "  print(k,v)"
      ],
      "metadata": {
        "colab": {
          "base_uri": "https://localhost:8080/"
        },
        "id": "VGR09bRRDCCC",
        "outputId": "f7c0f966-96bb-42ca-f7e9-0c9c93402a96"
      },
      "execution_count": 23,
      "outputs": [
        {
          "output_type": "stream",
          "name": "stdout",
          "text": [
            "10 100\n",
            "20 220\n",
            "ED1 name2\n"
          ]
        }
      ]
    },
    {
      "cell_type": "code",
      "source": [
        "for v in dc1.values():\n",
        "  print(v)"
      ],
      "metadata": {
        "colab": {
          "base_uri": "https://localhost:8080/"
        },
        "id": "_h4FZ2JODnp8",
        "outputId": "514c5f62-e30b-42e2-84e0-3b485af5b4be"
      },
      "execution_count": 24,
      "outputs": [
        {
          "output_type": "stream",
          "name": "stdout",
          "text": [
            "100\n",
            "220\n",
            "name2\n"
          ]
        }
      ]
    },
    {
      "cell_type": "code",
      "source": [
        "for k in dc1.keys():\n",
        "  print(k, dc1[k])"
      ],
      "metadata": {
        "colab": {
          "base_uri": "https://localhost:8080/"
        },
        "id": "gmZLcuRWDxF0",
        "outputId": "56e46af7-cadb-43cd-f7f0-ff30b8551f65"
      },
      "execution_count": 26,
      "outputs": [
        {
          "output_type": "stream",
          "name": "stdout",
          "text": [
            "10 100\n",
            "20 220\n",
            "ED1 name2\n"
          ]
        }
      ]
    },
    {
      "cell_type": "code",
      "source": [
        "# Given value print key"
      ],
      "metadata": {
        "id": "Q4ByEhkGD2ZM"
      },
      "execution_count": 27,
      "outputs": []
    },
    {
      "cell_type": "code",
      "source": [
        "dc2 = {20: 400, 43:32, 19:45, 23:222, 7:43}"
      ],
      "metadata": {
        "id": "veKIwnSUE6cB"
      },
      "execution_count": 32,
      "outputs": []
    },
    {
      "cell_type": "code",
      "source": [
        "dc3 = sorted(dc2)\n",
        "print(dc3)"
      ],
      "metadata": {
        "colab": {
          "base_uri": "https://localhost:8080/"
        },
        "id": "eVVL4OntFJ88",
        "outputId": "7086116d-df95-4eec-f287-0f0ea2e87b43"
      },
      "execution_count": 29,
      "outputs": [
        {
          "output_type": "stream",
          "name": "stdout",
          "text": [
            "[7, 19, 20, 23, 43]\n"
          ]
        }
      ]
    },
    {
      "cell_type": "code",
      "source": [
        "type(dc3)"
      ],
      "metadata": {
        "colab": {
          "base_uri": "https://localhost:8080/"
        },
        "id": "q-qnCSLxFM_u",
        "outputId": "a3d1d0c6-76fd-4a26-bb45-1d1e0530ccff"
      },
      "execution_count": 30,
      "outputs": [
        {
          "output_type": "execute_result",
          "data": {
            "text/plain": [
              "list"
            ]
          },
          "metadata": {},
          "execution_count": 30
        }
      ]
    },
    {
      "cell_type": "code",
      "source": [
        "sorted(dc2.keys())"
      ],
      "metadata": {
        "colab": {
          "base_uri": "https://localhost:8080/"
        },
        "id": "bgUD5tJNFTBW",
        "outputId": "72d851cf-2f0b-448c-e627-ea9a07e3481d"
      },
      "execution_count": 34,
      "outputs": [
        {
          "output_type": "execute_result",
          "data": {
            "text/plain": [
              "[7, 19, 20, 23, 43]"
            ]
          },
          "metadata": {},
          "execution_count": 34
        }
      ]
    },
    {
      "cell_type": "code",
      "source": [
        "dc2 = {20: 400, 43:32, 19:45, 23:222, 7:43}"
      ],
      "metadata": {
        "id": "MuJC6dclGAy0"
      },
      "execution_count": 47,
      "outputs": []
    },
    {
      "cell_type": "code",
      "source": [
        "# sort by values\n",
        "dc4 = dict(sorted(dc2.items(), key = lambda x : x[1]))"
      ],
      "metadata": {
        "id": "kW3CRTQtFY2n"
      },
      "execution_count": 48,
      "outputs": []
    },
    {
      "cell_type": "code",
      "source": [
        "dc4"
      ],
      "metadata": {
        "colab": {
          "base_uri": "https://localhost:8080/"
        },
        "id": "cEp6DFiPFpSY",
        "outputId": "00fa8bfc-bcbb-4f37-80a0-f70c9afa1dc0"
      },
      "execution_count": 49,
      "outputs": [
        {
          "output_type": "execute_result",
          "data": {
            "text/plain": [
              "{43: 32, 7: 43, 19: 45, 23: 222, 20: 400}"
            ]
          },
          "metadata": {},
          "execution_count": 49
        }
      ]
    },
    {
      "cell_type": "code",
      "source": [
        "del dc4[43]"
      ],
      "metadata": {
        "id": "cLPeLuzJF5v2"
      },
      "execution_count": 50,
      "outputs": []
    },
    {
      "cell_type": "code",
      "source": [
        "dc4"
      ],
      "metadata": {
        "colab": {
          "base_uri": "https://localhost:8080/"
        },
        "id": "Ahl5p2hyHGnA",
        "outputId": "36cc51cb-0228-49d2-e9af-4d41fd398bb1"
      },
      "execution_count": 51,
      "outputs": [
        {
          "output_type": "execute_result",
          "data": {
            "text/plain": [
              "{7: 43, 19: 45, 23: 222, 20: 400}"
            ]
          },
          "metadata": {},
          "execution_count": 51
        }
      ]
    },
    {
      "cell_type": "code",
      "source": [
        "dc5 = {33:85, 95:22}\n",
        "dc4.update(dc5)"
      ],
      "metadata": {
        "id": "FbUjMbHsHHUg"
      },
      "execution_count": 52,
      "outputs": []
    },
    {
      "cell_type": "code",
      "source": [
        "dc4"
      ],
      "metadata": {
        "colab": {
          "base_uri": "https://localhost:8080/"
        },
        "id": "QQxqsm4fHa8y",
        "outputId": "043253f8-6e8b-4f45-f0c8-d1c73ec2279d"
      },
      "execution_count": 53,
      "outputs": [
        {
          "output_type": "execute_result",
          "data": {
            "text/plain": [
              "{7: 43, 19: 45, 23: 222, 20: 400, 33: 85, 95: 22}"
            ]
          },
          "metadata": {},
          "execution_count": 53
        }
      ]
    },
    {
      "cell_type": "code",
      "source": [
        "dc4[99] = 54\n",
        "print(dc4)"
      ],
      "metadata": {
        "colab": {
          "base_uri": "https://localhost:8080/"
        },
        "id": "KFDknKz_Hbvy",
        "outputId": "b7a37358-9bd5-4c24-83be-18f9541e3444"
      },
      "execution_count": 54,
      "outputs": [
        {
          "output_type": "stream",
          "name": "stdout",
          "text": [
            "{7: 43, 19: 45, 23: 222, 20: 400, 33: 85, 95: 22, 99: 54}\n"
          ]
        }
      ]
    },
    {
      "cell_type": "code",
      "source": [
        "dc6 = dict(sorted(dc4.items(), key = lambda x: x[1]))\n",
        "print(dc6)"
      ],
      "metadata": {
        "colab": {
          "base_uri": "https://localhost:8080/"
        },
        "id": "U1VlXRIAHsIp",
        "outputId": "cba8cb21-73fb-49ed-d12c-3c1130a47f78"
      },
      "execution_count": 55,
      "outputs": [
        {
          "output_type": "stream",
          "name": "stdout",
          "text": [
            "{95: 22, 7: 43, 19: 45, 99: 54, 33: 85, 23: 222, 20: 400}\n"
          ]
        }
      ]
    },
    {
      "cell_type": "code",
      "source": [
        "len(dc6)"
      ],
      "metadata": {
        "colab": {
          "base_uri": "https://localhost:8080/"
        },
        "id": "VbQbFs4tH3mP",
        "outputId": "74205cf4-0a04-488d-aa8b-41cc9353d542"
      },
      "execution_count": 56,
      "outputs": [
        {
          "output_type": "execute_result",
          "data": {
            "text/plain": [
              "7"
            ]
          },
          "metadata": {},
          "execution_count": 56
        }
      ]
    },
    {
      "cell_type": "code",
      "source": [
        "max(dc6)"
      ],
      "metadata": {
        "colab": {
          "base_uri": "https://localhost:8080/"
        },
        "id": "XHAQXl07H8Fj",
        "outputId": "d286db67-e4dc-4d99-fb1f-bbf67276defd"
      },
      "execution_count": 57,
      "outputs": [
        {
          "output_type": "execute_result",
          "data": {
            "text/plain": [
              "99"
            ]
          },
          "metadata": {},
          "execution_count": 57
        }
      ]
    },
    {
      "cell_type": "code",
      "source": [
        "sum(dc6)"
      ],
      "metadata": {
        "colab": {
          "base_uri": "https://localhost:8080/"
        },
        "id": "btWbu9NXH-hv",
        "outputId": "f4dcceca-68d9-4681-c311-8f09125dbb01"
      },
      "execution_count": 58,
      "outputs": [
        {
          "output_type": "execute_result",
          "data": {
            "text/plain": [
              "296"
            ]
          },
          "metadata": {},
          "execution_count": 58
        }
      ]
    },
    {
      "cell_type": "code",
      "source": [
        "dc7 = {'s':44, 'f': 54, 'h':43, 54: 87}"
      ],
      "metadata": {
        "id": "nWMaxHdtIF8o"
      },
      "execution_count": 59,
      "outputs": []
    },
    {
      "cell_type": "code",
      "source": [
        "# define dictionary of students names find min, max , sorted\n"
      ],
      "metadata": {
        "id": "1D3g_-z9IhR_"
      },
      "execution_count": 63,
      "outputs": []
    },
    {
      "cell_type": "code",
      "source": [
        "d1 = {33:54, 44:67, 67:43}\n",
        "d2 = {43:44, 56:43, 56:33}\n",
        "d3 = {22:21, 43:44, 98:22}\n",
        "d1.update(d2)\n",
        "d1.update(d3)"
      ],
      "metadata": {
        "id": "D6WHsbvOIiV4"
      },
      "execution_count": 66,
      "outputs": []
    },
    {
      "cell_type": "code",
      "source": [
        "d1"
      ],
      "metadata": {
        "colab": {
          "base_uri": "https://localhost:8080/"
        },
        "id": "U6JKSmHYJTzR",
        "outputId": "1fba9cb7-1d48-467a-ae3e-2d51d12a116a"
      },
      "execution_count": 67,
      "outputs": [
        {
          "output_type": "execute_result",
          "data": {
            "text/plain": [
              "{33: 54, 44: 67, 67: 43, 43: 44, 56: 33, 22: 21, 98: 22}"
            ]
          },
          "metadata": {},
          "execution_count": 67
        }
      ]
    },
    {
      "cell_type": "code",
      "source": [],
      "metadata": {
        "id": "ffqOX7axJeqN"
      },
      "execution_count": null,
      "outputs": []
    }
  ]
}