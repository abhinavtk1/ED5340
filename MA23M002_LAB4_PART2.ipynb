{
  "nbformat": 4,
  "nbformat_minor": 0,
  "metadata": {
    "colab": {
      "provenance": []
    },
    "kernelspec": {
      "name": "python3",
      "display_name": "Python 3"
    },
    "language_info": {
      "name": "python"
    }
  },
  "cells": [
    {
      "cell_type": "markdown",
      "source": [
        "# LAB 4: PART-2: DICTIONARY AND FUNCTION"
      ],
      "metadata": {
        "id": "Q9syRLGozrzg"
      }
    },
    {
      "cell_type": "markdown",
      "source": [
        "6. Store the employee IDs, names, salaries, and years of experience using nested dictionaries (the key of the highest level dictionary can be the employee ID).\n",
        "\n",
        "a) Sort this dictionary using the salary value.\n",
        "\n",
        "b) Add a new employee to the dictionary in the correct position (sorted as mentioned above)."
      ],
      "metadata": {
        "id": "S6sMeigZzuOl"
      }
    },
    {
      "cell_type": "code",
      "execution_count": null,
      "metadata": {
        "id": "QF5zdiQey3RP"
      },
      "outputs": [],
      "source": [
        "employee_dict = {\n",
        "    10001: {\"name\": \"Abhinav\", \"salary\": 50000, \"yoe\": 5},\n",
        "    10002: {\"name\": \"Abani\", \"salary\": 60000, \"yoe\": 8},\n",
        "    10003: {\"name\": \"Ajay\", \"salary\": 45000, \"yoe\": 3},\n",
        "    10004: {\"name\": \"Parth\", \"salary\": 55000, \"yoe\": 6},\n",
        "    10005: {\"name\": \"Pritam\", \"salary\": 65000, \"yoe\": 9}\n",
        "}"
      ]
    },
    {
      "cell_type": "code",
      "source": [
        "sorted_empdict = dict(sorted(employee_dict.items(), key=lambda x: x[1][\"salary\"]))\n",
        "print(sorted_empdict)"
      ],
      "metadata": {
        "colab": {
          "base_uri": "https://localhost:8080/"
        },
        "id": "kc6BM4sT0W47",
        "outputId": "36c1759b-7266-4c05-a46b-a6beb59af99b"
      },
      "execution_count": null,
      "outputs": [
        {
          "output_type": "stream",
          "name": "stdout",
          "text": [
            "{10003: {'name': 'Ajay', 'salary': 45000, 'yoe': 3}, 10001: {'name': 'Abhinav', 'salary': 50000, 'yoe': 5}, 10004: {'name': 'Parth', 'salary': 55000, 'yoe': 6}, 10002: {'name': 'Abani', 'salary': 60000, 'yoe': 8}, 10005: {'name': 'Pritam', 'salary': 65000, 'yoe': 9}}\n"
          ]
        }
      ]
    },
    {
      "cell_type": "code",
      "source": [
        "# Add new employee\n",
        "new_emp = {\"name\": \"Raj\", \"salary\": 54000, \"experience\": 4}\n",
        "new_emp_id = max(sorted_empdict.keys()) + 1\n",
        "sorted_empdict[new_emp_id] = new_emp\n",
        "sorted_empdict = dict(sorted(sorted_empdict.items(), key=lambda x: x[1][\"salary\"]))\n",
        "print(sorted_empdict)"
      ],
      "metadata": {
        "colab": {
          "base_uri": "https://localhost:8080/"
        },
        "id": "UJrYdKzc0mqh",
        "outputId": "8ced5ec7-2376-42b1-e2b6-4f88c31af71b"
      },
      "execution_count": null,
      "outputs": [
        {
          "output_type": "stream",
          "name": "stdout",
          "text": [
            "{10003: {'name': 'Ajay', 'salary': 45000, 'yoe': 3}, 10001: {'name': 'Abhinav', 'salary': 50000, 'yoe': 5}, 10006: {'name': 'Raj', 'salary': 54000, 'experience': 4}, 10004: {'name': 'Parth', 'salary': 55000, 'yoe': 6}, 10002: {'name': 'Abani', 'salary': 60000, 'yoe': 8}, 10005: {'name': 'Pritam', 'salary': 65000, 'yoe': 9}}\n"
          ]
        }
      ]
    },
    {
      "cell_type": "code",
      "source": [],
      "metadata": {
        "id": "wLHZeyyO2Gwt"
      },
      "execution_count": null,
      "outputs": []
    },
    {
      "cell_type": "markdown",
      "source": [
        "7. You are given two Python dictionaries, A and B, with keys as alphabets and values as random integers. Write a Python function to create a third dictionary C, that combines A and B. For common keys, the value in C should be the sum of values from A and B."
      ],
      "metadata": {
        "id": "RNs88r_J_dJA"
      }
    },
    {
      "cell_type": "code",
      "source": [
        "A = {\"a\": 3, \"b\": 5, \"c\": 7, \"d\": 2, \"e\": 1}\n",
        "B = {\"b\": 2, \"c\": 4, \"d\": 6, \"f\":4}\n",
        "C = {}\n",
        "for key in A:\n",
        "  if key in B:\n",
        "    C[key] = A[key]+B[key]\n",
        "  else:\n",
        "    C[key] = A[key]\n",
        "for key in B:\n",
        "  if key not in A:\n",
        "    C[key] = B[key]\n",
        "print(C)"
      ],
      "metadata": {
        "colab": {
          "base_uri": "https://localhost:8080/"
        },
        "id": "XmHCggz1_d-w",
        "outputId": "d6c98e4a-8713-485f-d096-73ea3b73aa3a"
      },
      "execution_count": null,
      "outputs": [
        {
          "output_type": "stream",
          "name": "stdout",
          "text": [
            "{'a': 3, 'b': 7, 'c': 11, 'd': 8, 'e': 1, 'f': 4}\n"
          ]
        }
      ]
    },
    {
      "cell_type": "markdown",
      "source": [
        " 8. Assume you have a list of lists, where each inner list contains two elements: a key and a value. Write a Python function that takes the list of lists as input and returns a list of dictionaries, where each dictionary contains a key-value pair from the original input list."
      ],
      "metadata": {
        "id": "CIAFZHKH_n1q"
      }
    },
    {
      "cell_type": "code",
      "source": [
        "def fun(l):\n",
        "  dict1 = {}\n",
        "  for i in l:\n",
        "    dict1[i[0]] = i[1]\n",
        "  return dict1\n",
        "\n",
        "list1 = [['a',1],['b',2],['c',3],['d',4],['e',5]]\n",
        "dict1 = fun(list1)\n",
        "print(dict1)\n"
      ],
      "metadata": {
        "colab": {
          "base_uri": "https://localhost:8080/"
        },
        "id": "bgOm5qxb_o5D",
        "outputId": "08cff15d-51e4-4b05-af18-fac81a0e3edb"
      },
      "execution_count": null,
      "outputs": [
        {
          "output_type": "stream",
          "name": "stdout",
          "text": [
            "{'a': 1, 'b': 2, 'c': 3, 'd': 4, 'e': 5}\n"
          ]
        }
      ]
    },
    {
      "cell_type": "markdown",
      "source": [
        "9. Illustrate the usage of positional and keyword arguments using suitable examples."
      ],
      "metadata": {
        "id": "ckDrlF89_sV8"
      }
    },
    {
      "cell_type": "markdown",
      "source": [
        "Positional arguments: Arguments are passed to a function in the order they are defined. <br>\n",
        "Keyword arguments: Arguments are represented by names in function call and order is not relevant"
      ],
      "metadata": {
        "id": "AeIlIG6TcXWh"
      }
    },
    {
      "cell_type": "code",
      "source": [
        "# Positional argument example\n",
        "def fun1(name, rank):\n",
        "  print(f\"{name} got {rank}st rank\")\n",
        "fun1(\"Abhinav\",1)"
      ],
      "metadata": {
        "colab": {
          "base_uri": "https://localhost:8080/"
        },
        "id": "4nnkO5Uf_tBX",
        "outputId": "9223a431-4f22-47fb-9942-fb33c57eecc7"
      },
      "execution_count": null,
      "outputs": [
        {
          "output_type": "stream",
          "name": "stdout",
          "text": [
            "Abhinav got 1st rank\n"
          ]
        }
      ]
    },
    {
      "cell_type": "code",
      "source": [
        "# Keyword argument example\n",
        "def fun2(name, rank):\n",
        "  print(f\"{name} got {rank}st rank\")\n",
        "fun2(rank = 2, name = \"Raj\")"
      ],
      "metadata": {
        "colab": {
          "base_uri": "https://localhost:8080/"
        },
        "id": "WJ4ubJW6eBuI",
        "outputId": "aac10a52-8eb6-41cf-d0e8-7d22499225b3"
      },
      "execution_count": null,
      "outputs": [
        {
          "output_type": "stream",
          "name": "stdout",
          "text": [
            "Raj got 2st rank\n"
          ]
        }
      ]
    },
    {
      "cell_type": "markdown",
      "source": [
        "10. Write a function to find the maximum of n numbers using variable length positional arguments.\n",
        "\n"
      ],
      "metadata": {
        "id": "AyYHf0YP_vQZ"
      }
    },
    {
      "cell_type": "code",
      "source": [
        "def maxn(*args):\n",
        "  if not args:\n",
        "    return None\n",
        "  maxVal = args[0]\n",
        "  for i in args:\n",
        "    if i > maxVal:\n",
        "      maxVal = i\n",
        "  return maxVal"
      ],
      "metadata": {
        "id": "YpyL97gu_v2y"
      },
      "execution_count": null,
      "outputs": []
    },
    {
      "cell_type": "code",
      "source": [
        "maxn(2,3,4,5,6,55, 78, 99)"
      ],
      "metadata": {
        "colab": {
          "base_uri": "https://localhost:8080/"
        },
        "id": "ZhepyUWBfcx2",
        "outputId": "6d351c81-3837-4c78-d424-94556b688d9c"
      },
      "execution_count": null,
      "outputs": [
        {
          "output_type": "execute_result",
          "data": {
            "text/plain": [
              "99"
            ]
          },
          "metadata": {},
          "execution_count": 25
        }
      ]
    },
    {
      "cell_type": "markdown",
      "source": [
        "11. Write a function to concatenate n strings using variable length keyword arguments.\n",
        "\n"
      ],
      "metadata": {
        "id": "qifCOFsl_8WA"
      }
    },
    {
      "cell_type": "code",
      "source": [
        "def concatstr(**kwargs):\n",
        "  s = \"\"\n",
        "  for c in kwargs.values():\n",
        "    s+=c\n",
        "  return s"
      ],
      "metadata": {
        "id": "xh55T_xn_9AS"
      },
      "execution_count": null,
      "outputs": []
    },
    {
      "cell_type": "code",
      "source": [
        "concatstr(first='Python ',second='is ',third='fun')"
      ],
      "metadata": {
        "colab": {
          "base_uri": "https://localhost:8080/",
          "height": 35
        },
        "id": "BnlxHHQqf0Ht",
        "outputId": "8bb1ad4c-ccde-498f-9504-1660a8923046"
      },
      "execution_count": null,
      "outputs": [
        {
          "output_type": "execute_result",
          "data": {
            "text/plain": [
              "'Python is fun'"
            ],
            "application/vnd.google.colaboratory.intrinsic+json": {
              "type": "string"
            }
          },
          "metadata": {},
          "execution_count": 23
        }
      ]
    },
    {
      "cell_type": "code",
      "source": [],
      "metadata": {
        "id": "Ma0zQr0Ff57v"
      },
      "execution_count": null,
      "outputs": []
    }
  ]
}