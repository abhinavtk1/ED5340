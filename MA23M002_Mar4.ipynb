{
  "nbformat": 4,
  "nbformat_minor": 0,
  "metadata": {
    "colab": {
      "provenance": [],
      "authorship_tag": "ABX9TyO5KxVREyJ6nby//D5dZUgw",
      "include_colab_link": true
    },
    "kernelspec": {
      "name": "python3",
      "display_name": "Python 3"
    },
    "language_info": {
      "name": "python"
    }
  },
  "cells": [
    {
      "cell_type": "markdown",
      "metadata": {
        "id": "view-in-github",
        "colab_type": "text"
      },
      "source": [
        "<a href=\"https://colab.research.google.com/github/abhinavtk1/ED5340-CW/blob/main/MA23M002_Mar4.ipynb\" target=\"_parent\"><img src=\"https://colab.research.google.com/assets/colab-badge.svg\" alt=\"Open In Colab\"/></a>"
      ]
    },
    {
      "cell_type": "code",
      "execution_count": null,
      "metadata": {
        "id": "kB56znNTJ4hb"
      },
      "outputs": [],
      "source": [
        "# Optimality criteria of single variable problem"
      ]
    },
    {
      "cell_type": "code",
      "source": [
        "# Region elimination method - Interval halving\n",
        "# Fibonacci search\n",
        "# Golden section search (*impp) (look it)"
      ],
      "metadata": {
        "id": "vh3SrGE4NPGN"
      },
      "execution_count": null,
      "outputs": []
    },
    {
      "cell_type": "code",
      "source": [
        "# Newton Raphson -  second derivative exists\n",
        "# quadratic converges--\n",
        "# exhaustive search method used for initial guess of N.R."
      ],
      "metadata": {
        "id": "qkvrusUdNWZ6"
      },
      "execution_count": null,
      "outputs": []
    },
    {
      "cell_type": "code",
      "source": [],
      "metadata": {
        "id": "9coEGOvuSh3u"
      },
      "execution_count": null,
      "outputs": []
    }
  ]
}