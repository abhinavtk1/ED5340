{
  "nbformat": 4,
  "nbformat_minor": 0,
  "metadata": {
    "colab": {
      "provenance": []
    },
    "kernelspec": {
      "name": "python3",
      "display_name": "Python 3"
    },
    "language_info": {
      "name": "python"
    }
  },
  "cells": [
    {
      "cell_type": "code",
      "execution_count": null,
      "metadata": {
        "id": "C3H_O1b2w0Sv"
      },
      "outputs": [],
      "source": [
        "# lambda function\n",
        "pdt = lambda a,b : a*b"
      ]
    },
    {
      "cell_type": "code",
      "source": [
        "pdt(3,4)"
      ],
      "metadata": {
        "colab": {
          "base_uri": "https://localhost:8080/"
        },
        "id": "Q0H1DQStxEBy",
        "outputId": "387cfceb-0409-4d0f-afec-acb9332a9330"
      },
      "execution_count": null,
      "outputs": [
        {
          "output_type": "execute_result",
          "data": {
            "text/plain": [
              "12"
            ]
          },
          "metadata": {},
          "execution_count": 2
        }
      ]
    },
    {
      "cell_type": "code",
      "source": [
        "dic = {'c':1, 'b':3, 'd':5, 'a':4, 'e':2}"
      ],
      "metadata": {
        "id": "o9aoIajcxFBN"
      },
      "execution_count": null,
      "outputs": []
    },
    {
      "cell_type": "code",
      "source": [
        "dic1 = sorted(dic.items(), key = lambda x:x[1])\n",
        "print(dic1)"
      ],
      "metadata": {
        "colab": {
          "base_uri": "https://localhost:8080/"
        },
        "id": "KZqrKF1xxoM3",
        "outputId": "f4af85b5-8cdf-49d5-f243-2edd22a02178"
      },
      "execution_count": null,
      "outputs": [
        {
          "output_type": "stream",
          "name": "stdout",
          "text": [
            "[('c', 1), ('e', 2), ('b', 3), ('a', 4), ('d', 5)]\n"
          ]
        }
      ]
    },
    {
      "cell_type": "code",
      "source": [
        "lst = [3, 5, 4, 1, 7]\n",
        "lst2 = map(lambda x: x**2, lst)\n",
        "print(lst2)"
      ],
      "metadata": {
        "colab": {
          "base_uri": "https://localhost:8080/"
        },
        "id": "unRZk2T0xwXP",
        "outputId": "86d41339-a3b5-4bdf-d822-feb4cffd1c54"
      },
      "execution_count": null,
      "outputs": [
        {
          "output_type": "stream",
          "name": "stdout",
          "text": [
            "<map object at 0x7c004c4a1030>\n"
          ]
        }
      ]
    },
    {
      "cell_type": "code",
      "source": [
        "lst2 = list(lst2)\n",
        "print(lst2)"
      ],
      "metadata": {
        "colab": {
          "base_uri": "https://localhost:8080/"
        },
        "id": "MGbfmvBnyDVq",
        "outputId": "c8b48c3a-392f-495a-98b5-167a8656d333"
      },
      "execution_count": null,
      "outputs": [
        {
          "output_type": "stream",
          "name": "stdout",
          "text": [
            "[9, 25, 16, 1, 49]\n"
          ]
        }
      ]
    },
    {
      "cell_type": "code",
      "source": [
        "#class\n",
        "# constructor - def __init__(self, arg)\n"
      ],
      "metadata": {
        "id": "GoyV9Dd-yJFs"
      },
      "execution_count": null,
      "outputs": []
    },
    {
      "cell_type": "code",
      "source": [
        "class imgNo:\n",
        "  def __init__(self, r, i = 0):\n",
        "    self.r = r\n",
        "    self.i = i\n",
        "    self.img = self.r + self.i\n",
        "  def printout(self):\n",
        "    print(self.img)"
      ],
      "metadata": {
        "id": "bGKfqQzYzg9U"
      },
      "execution_count": null,
      "outputs": []
    },
    {
      "cell_type": "code",
      "source": [
        "img1 = imgNo(3,2)"
      ],
      "metadata": {
        "id": "2I-wSTes0NCc"
      },
      "execution_count": null,
      "outputs": []
    },
    {
      "cell_type": "code",
      "source": [
        "class student:\n",
        "  def __init__(self, n = 'A', r = 1, s = 1):\n",
        "    self.name = n\n",
        "    self.roll = r\n",
        "    self.sem = s\n",
        "\n",
        "  def printout(self):\n",
        "    print(self.name, self.roll, self.sem)\n"
      ],
      "metadata": {
        "id": "AFQlMW9H0QuZ"
      },
      "execution_count": null,
      "outputs": []
    },
    {
      "cell_type": "code",
      "source": [
        "s1 = student(\"Ram\")"
      ],
      "metadata": {
        "id": "jWd7Gggy1hhZ"
      },
      "execution_count": null,
      "outputs": []
    },
    {
      "cell_type": "code",
      "source": [
        "s1.printout()"
      ],
      "metadata": {
        "colab": {
          "base_uri": "https://localhost:8080/"
        },
        "id": "aBZ2K7Ba1mtV",
        "outputId": "8c1ae13a-6988-4784-af2e-8197866aa20d"
      },
      "execution_count": null,
      "outputs": [
        {
          "output_type": "stream",
          "name": "stdout",
          "text": [
            "Ram 1 1\n"
          ]
        }
      ]
    },
    {
      "cell_type": "code",
      "source": [
        "print(s1.name)"
      ],
      "metadata": {
        "colab": {
          "base_uri": "https://localhost:8080/"
        },
        "id": "R3iOMEJG2epI",
        "outputId": "0388019d-fec7-499c-deac-2ef4fb704eb8"
      },
      "execution_count": null,
      "outputs": [
        {
          "output_type": "stream",
          "name": "stdout",
          "text": [
            "Ram\n"
          ]
        }
      ]
    },
    {
      "cell_type": "code",
      "source": [
        "def change(obj, n, r, s):\n",
        "  obj.name = n\n",
        "  obj.roll = r\n",
        "  obj.sem = s"
      ],
      "metadata": {
        "id": "sAAA61bK3dPt"
      },
      "execution_count": null,
      "outputs": []
    },
    {
      "cell_type": "code",
      "source": [
        "change(s1, \"Abhi\", 2, 3)\n",
        "s1.printout()"
      ],
      "metadata": {
        "colab": {
          "base_uri": "https://localhost:8080/"
        },
        "id": "cQN0ASh73wuQ",
        "outputId": "3a2f6793-74c3-4326-dad9-22e5397af5ec"
      },
      "execution_count": null,
      "outputs": [
        {
          "output_type": "stream",
          "name": "stdout",
          "text": [
            "Abhi 2 3\n"
          ]
        }
      ]
    },
    {
      "cell_type": "code",
      "source": [
        "s3 = student(r = 5)"
      ],
      "metadata": {
        "id": "oh9kEWos347w"
      },
      "execution_count": null,
      "outputs": []
    },
    {
      "cell_type": "code",
      "source": [
        "s3.printout()"
      ],
      "metadata": {
        "colab": {
          "base_uri": "https://localhost:8080/"
        },
        "id": "naXMr-2O5BrJ",
        "outputId": "8d2dee33-4f3a-4efb-de2e-5e1f05d78a5b"
      },
      "execution_count": null,
      "outputs": [
        {
          "output_type": "stream",
          "name": "stdout",
          "text": [
            "A 5 1\n"
          ]
        }
      ]
    },
    {
      "cell_type": "code",
      "source": [
        "# destructor"
      ],
      "metadata": {
        "id": "F6d7RQJU5DgS"
      },
      "execution_count": null,
      "outputs": []
    },
    {
      "cell_type": "code",
      "source": [
        "class studentclass:\n",
        "  # constructor\n",
        "  def __init__(self, n1, n2, n3):\n",
        "    self.name = n1\n",
        "    self._name = n2   # notionally private data\n",
        "    self.__name = n3  # strictly private\n",
        "  def printout(self):\n",
        "    print(self.name, self._name, self.__name)"
      ],
      "metadata": {
        "id": "jUWqYQ4m5U0_"
      },
      "execution_count": null,
      "outputs": []
    },
    {
      "cell_type": "code",
      "source": [
        "sc1 = studentclass('a','b','c')"
      ],
      "metadata": {
        "id": "7-qlrrFG5_-y"
      },
      "execution_count": null,
      "outputs": []
    },
    {
      "cell_type": "code",
      "source": [
        "sc1.printout()"
      ],
      "metadata": {
        "colab": {
          "base_uri": "https://localhost:8080/"
        },
        "id": "dbCld-sF6KuO",
        "outputId": "53720a64-9ae1-44ce-fe35-574ebc2e439b"
      },
      "execution_count": null,
      "outputs": [
        {
          "output_type": "stream",
          "name": "stdout",
          "text": [
            "a b c\n"
          ]
        }
      ]
    },
    {
      "cell_type": "code",
      "source": [
        "sc1.name = 'x'"
      ],
      "metadata": {
        "id": "cAGRsVsh6MY-"
      },
      "execution_count": null,
      "outputs": []
    },
    {
      "cell_type": "code",
      "source": [
        "sc1._name = 'y'"
      ],
      "metadata": {
        "id": "hNrjJsKd6Qws"
      },
      "execution_count": null,
      "outputs": []
    },
    {
      "cell_type": "code",
      "source": [
        "sc1.__name = 'z'"
      ],
      "metadata": {
        "id": "mR8leqpJ6Srq"
      },
      "execution_count": null,
      "outputs": []
    },
    {
      "cell_type": "code",
      "source": [
        "sc1.printout()  # double underscore is not changing"
      ],
      "metadata": {
        "colab": {
          "base_uri": "https://localhost:8080/"
        },
        "id": "LEV_zAHJ6UpQ",
        "outputId": "9c47bed1-9986-4451-ce85-62964b13b83f"
      },
      "execution_count": null,
      "outputs": [
        {
          "output_type": "stream",
          "name": "stdout",
          "text": [
            "x y c\n"
          ]
        }
      ]
    },
    {
      "cell_type": "code",
      "source": [
        "print(sc1.__name) # why?"
      ],
      "metadata": {
        "colab": {
          "base_uri": "https://localhost:8080/"
        },
        "id": "0x3TAY6I6Wpa",
        "outputId": "6f4ed2d1-0eb8-4f4c-a504-8fba7d3f908a"
      },
      "execution_count": null,
      "outputs": [
        {
          "output_type": "stream",
          "name": "stdout",
          "text": [
            "z\n"
          ]
        }
      ]
    },
    {
      "cell_type": "code",
      "source": [
        "# class variables and methods"
      ],
      "metadata": {
        "id": "GiL76BG17W-Q"
      },
      "execution_count": null,
      "outputs": []
    },
    {
      "cell_type": "code",
      "source": [
        "# create class complex no. with diff"
      ],
      "metadata": {
        "id": "J7qDozJD71Oc"
      },
      "execution_count": null,
      "outputs": []
    }
  ]
}