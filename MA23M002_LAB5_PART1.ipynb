{
  "nbformat": 4,
  "nbformat_minor": 0,
  "metadata": {
    "colab": {
      "provenance": []
    },
    "kernelspec": {
      "name": "python3",
      "display_name": "Python 3"
    },
    "language_info": {
      "name": "python"
    }
  },
  "cells": [
    {
      "cell_type": "markdown",
      "source": [
        "##Lab 5: Part 1- Functions and classes\n"
      ],
      "metadata": {
        "id": "Bxbgx1nBumZA"
      }
    },
    {
      "cell_type": "markdown",
      "source": [
        "1. Write a program(WAP) using loops and recursion:"
      ],
      "metadata": {
        "id": "COaFiV4burUh"
      }
    },
    {
      "cell_type": "markdown",
      "source": [
        "a) Factorial of n where n is a non negative integer."
      ],
      "metadata": {
        "id": "WuXaREkLuvzS"
      }
    },
    {
      "cell_type": "code",
      "execution_count": 2,
      "metadata": {
        "id": "8cqy6PBsuj3a"
      },
      "outputs": [],
      "source": [
        "# Loop\n",
        "def fact1(n):\n",
        "  res = 1\n",
        "  for i in range(1,n+1):\n",
        "    res *= i\n",
        "  return res"
      ]
    },
    {
      "cell_type": "code",
      "source": [
        "# Recursion\n",
        "def fact2(n):\n",
        "  if n==0 or n==1:\n",
        "    return 1\n",
        "  return n*fact2(n-1)"
      ],
      "metadata": {
        "id": "tVsU-W1_vZUi"
      },
      "execution_count": 8,
      "outputs": []
    },
    {
      "cell_type": "code",
      "source": [
        "fact1(5) # function using\n",
        "fact2(5) # function using recursion"
      ],
      "metadata": {
        "colab": {
          "base_uri": "https://localhost:8080/"
        },
        "id": "oHkujNjcvxi5",
        "outputId": "516c5f02-62f6-4878-f8c1-505595fdee0a"
      },
      "execution_count": 29,
      "outputs": [
        {
          "output_type": "execute_result",
          "data": {
            "text/plain": [
              "120"
            ]
          },
          "metadata": {},
          "execution_count": 29
        }
      ]
    },
    {
      "cell_type": "markdown",
      "source": [
        "b) For calculating the Nth Fibonacci number."
      ],
      "metadata": {
        "id": "9u1HuycWulxY"
      }
    },
    {
      "cell_type": "code",
      "source": [
        "# loops\n",
        "def fib1(n):\n",
        "  if n<=1:\n",
        "    return n\n",
        "  a, b = 0, 1\n",
        "  for i in range(2, n+1):\n",
        "    a, b = b, a+b\n",
        "  return b"
      ],
      "metadata": {
        "id": "79y3NB-fwan1"
      },
      "execution_count": 12,
      "outputs": []
    },
    {
      "cell_type": "code",
      "source": [
        "# recursion\n",
        "def fib2(n):\n",
        "  if n<=1:\n",
        "    return n\n",
        "  return fib2(n-1)+fib2(n-2)"
      ],
      "metadata": {
        "id": "-5O51-u_xsi8"
      },
      "execution_count": 19,
      "outputs": []
    },
    {
      "cell_type": "code",
      "source": [
        "print(fib1(7)) # loops\n",
        "print(fib2(7)) # recursion"
      ],
      "metadata": {
        "colab": {
          "base_uri": "https://localhost:8080/"
        },
        "id": "QlKU3gOCxvN5",
        "outputId": "3f4946ca-8974-495e-be1f-866b961feb7e"
      },
      "execution_count": 21,
      "outputs": [
        {
          "output_type": "stream",
          "name": "stdout",
          "text": [
            "13\n",
            "13\n"
          ]
        }
      ]
    },
    {
      "cell_type": "markdown",
      "source": [
        "c) To calculate a^b where a>0, b>=0."
      ],
      "metadata": {
        "id": "eqR4iURsyZQH"
      }
    },
    {
      "cell_type": "code",
      "source": [
        "# loops\n",
        "def pow1(a,b):\n",
        "  res = 1\n",
        "  for i in range(1, b+1):\n",
        "    res *= a\n",
        "  return res"
      ],
      "metadata": {
        "id": "T33SL-g6yMCK"
      },
      "execution_count": 22,
      "outputs": []
    },
    {
      "cell_type": "code",
      "source": [
        "# recursion\n",
        "def pow2(a, b):\n",
        "  if b==0:\n",
        "    return 1\n",
        "  return a*pow(a, b-1)"
      ],
      "metadata": {
        "id": "ci-k59lRytvl"
      },
      "execution_count": 26,
      "outputs": []
    },
    {
      "cell_type": "code",
      "source": [
        "print(pow1(2,4)) # function using loops\n",
        "print(pow2(2,4)) # function using recursion"
      ],
      "metadata": {
        "colab": {
          "base_uri": "https://localhost:8080/"
        },
        "id": "D6KZ5whoywHp",
        "outputId": "3bd79541-1aaa-4b64-d2b6-153273783118"
      },
      "execution_count": 28,
      "outputs": [
        {
          "output_type": "stream",
          "name": "stdout",
          "text": [
            "16\n",
            "16\n"
          ]
        }
      ]
    },
    {
      "cell_type": "code",
      "source": [],
      "metadata": {
        "id": "2ZuEsfRlzHe-"
      },
      "execution_count": null,
      "outputs": []
    },
    {
      "cell_type": "markdown",
      "source": [
        "2. Query for 2 integers N and M from the user where 0<=N<=100 and 0<=M<=9. These will be the inputs to your function. Using recursion, compute the number of times the integer M occurs in all non-negative integers less than or equal to N.\n",
        "example: For N=13 and M=1, count=6 (numbers 1,10,11,12,13)."
      ],
      "metadata": {
        "id": "yJ5z2gDBzohB"
      }
    },
    {
      "cell_type": "code",
      "source": [
        "def countM(N,M):\n",
        "  if N < 0:\n",
        "    return 0\n",
        "  currCount = str(N).count(str(M))\n",
        "  nextCount = countM(N-1,M)   # recursively going till 0\n",
        "  return currCount + nextCount"
      ],
      "metadata": {
        "id": "WQjZSPE5FhVJ"
      },
      "execution_count": 115,
      "outputs": []
    },
    {
      "cell_type": "code",
      "source": [
        "# Input\n",
        "N = int(input(\"Enter N (0 <= N <= 100): \"))\n",
        "M = int(input(\"Enter M (0 <= M <= 9): \"))\n",
        "print(\"Count = \",countM(N,M))"
      ],
      "metadata": {
        "colab": {
          "base_uri": "https://localhost:8080/"
        },
        "id": "zt6bmKT6HSdW",
        "outputId": "21bc61ad-9392-48fa-fcc1-a31a56e0d8f9"
      },
      "execution_count": 117,
      "outputs": [
        {
          "output_type": "stream",
          "name": "stdout",
          "text": [
            "Enter N (0 <= N <= 100): 13\n",
            "Enter M (0 <= M <= 9): 1\n",
            "Count =  6\n"
          ]
        }
      ]
    },
    {
      "cell_type": "code",
      "source": [],
      "metadata": {
        "id": "pkn0RDq91ymH"
      },
      "execution_count": null,
      "outputs": []
    },
    {
      "cell_type": "markdown",
      "source": [
        "3. Programs using lambda function. <br>\n",
        "a) Given a list of names, use map to create a list where each name is prefixed with \"Hello, \"."
      ],
      "metadata": {
        "id": "6xn53KfC2QhB"
      }
    },
    {
      "cell_type": "code",
      "source": [
        "l1 =  ['Alice', 'Bob', 'Charlie', 'Abhinav', 'Chris', 'Ajay', 'Hari']\n",
        "l2 = list(map(lambda x : 'Hello, ' + x, l1))"
      ],
      "metadata": {
        "id": "vxxqxRAp2W48"
      },
      "execution_count": 42,
      "outputs": []
    },
    {
      "cell_type": "code",
      "source": [
        "print(l2)"
      ],
      "metadata": {
        "colab": {
          "base_uri": "https://localhost:8080/"
        },
        "id": "1IxXkES52jSf",
        "outputId": "1dd2d059-9ea6-42f7-f184-a18d2a660732"
      },
      "execution_count": 43,
      "outputs": [
        {
          "output_type": "stream",
          "name": "stdout",
          "text": [
            "['Hello, Alice', 'Hello, Bob', 'Hello, Charlie', 'Hello, Abhinav', 'Hello, Chris', 'Hello, Ajay', 'Hello, Hari']\n"
          ]
        }
      ]
    },
    {
      "cell_type": "markdown",
      "source": [
        "b) Use filter and a lambda function to extract all even numbers from a given list.\n",
        "\n"
      ],
      "metadata": {
        "id": "vW7fTnaq22c-"
      }
    },
    {
      "cell_type": "code",
      "source": [
        "l3 = [1,2,3,4,5,6,7,8,9,10]\n",
        "l4 = list(filter(lambda x: x%2==0, l3))"
      ],
      "metadata": {
        "id": "0AzVA5PU2lKz"
      },
      "execution_count": 44,
      "outputs": []
    },
    {
      "cell_type": "code",
      "source": [
        "print(l4)"
      ],
      "metadata": {
        "colab": {
          "base_uri": "https://localhost:8080/"
        },
        "id": "YVrJsFgY3D1B",
        "outputId": "f4e18b64-4156-46f7-f959-ca414445b8be"
      },
      "execution_count": 45,
      "outputs": [
        {
          "output_type": "stream",
          "name": "stdout",
          "text": [
            "[2, 4, 6, 8, 10]\n"
          ]
        }
      ]
    },
    {
      "cell_type": "markdown",
      "source": [
        "c) Use reduce and lambda to concatenate all strings in a given list.\n",
        "\n"
      ],
      "metadata": {
        "id": "l7IH7qcI3P18"
      }
    },
    {
      "cell_type": "code",
      "source": [
        "import functools\n",
        "l5 = ['Hello','python','is','awesome']\n",
        "s1 = functools.reduce(lambda a,b: a+b, l5)\n",
        "print(s1)"
      ],
      "metadata": {
        "colab": {
          "base_uri": "https://localhost:8080/"
        },
        "id": "MfYVffaL3FzN",
        "outputId": "be8df378-7d27-4a29-9c49-88fb91a32c7b"
      },
      "execution_count": 49,
      "outputs": [
        {
          "output_type": "stream",
          "name": "stdout",
          "text": [
            "Hellopythonisawesome\n"
          ]
        }
      ]
    },
    {
      "cell_type": "code",
      "source": [],
      "metadata": {
        "id": "tvM56rn54HSz"
      },
      "execution_count": null,
      "outputs": []
    },
    {
      "cell_type": "markdown",
      "source": [
        "4.  Define a class Complex that defines a complex number with attributes real and imaginary (as we did in the class). Define operators for addition, subtraction, multiplication and division (Do with both operator overloading as well as without overloading). While printing the output, print in the form of complex number form like ( a + ib)"
      ],
      "metadata": {
        "id": "Zw_LQnYI40mk"
      }
    },
    {
      "cell_type": "code",
      "source": [
        "class Complex:\n",
        "  def __init__(self, real, img):\n",
        "    self.real = real\n",
        "    self.img = img\n",
        "\n",
        "  # Using operator overloading\n",
        "  def __add__(self, comp2):\n",
        "    return Complex(self.real + comp2.real, self.img + comp2.img)\n",
        "  def __sub__(self, comp2):\n",
        "    return Complex(self.real - comp2.real, self.img - comp2.img)\n",
        "  def __mul__(self, comp2):\n",
        "    real = self.real*comp2.real - self.img*comp2.img\n",
        "    img = self.real*comp2.img + self.img*comp2.real\n",
        "    return Complex(real, img)\n",
        "  def __truediv__(self, comp2):\n",
        "    denom = comp2.real**2 + comp2.img**2\n",
        "    real = self.real*comp2.real + self.img*comp2.img\n",
        "    real = round(real/denom,2)\n",
        "    img = self.img*comp2.real - self.real*comp2.img\n",
        "    img = round(img/denom, 2)\n",
        "    return Complex(real, img)\n",
        "\n",
        "  # Without using operator overloading\n",
        "  def add_comp(self, comp2):\n",
        "    return Complex(self.real + comp2.real, self.img + comp2.img)\n",
        "  def sub_comp(self, comp2):\n",
        "    return Complex(self.real - comp2.real, self.img - comp2.img)\n",
        "  def mul_comp(self, comp2):\n",
        "    real = self.real*comp2.real - self.img*comp2.img\n",
        "    img = self.real*comp2.img + self.img*comp2.real\n",
        "    return Complex(real, img)\n",
        "  def div_comp(self, comp2):\n",
        "    denom = comp2.real**2 + comp2.img**2\n",
        "    real = self.real*comp2.real + self.img*comp2.img\n",
        "    real = round(real/denom,2)\n",
        "    img = self.img*comp2.real - self.real*comp2.img\n",
        "    img = round(img/denom, 2)\n",
        "    return Complex(real, img)\n",
        "\n",
        "  # Print complex no.\n",
        "  def print_comp(self):\n",
        "    if self.img >=0:\n",
        "      print(f'{self.real} + {self.img}i')\n",
        "    else:\n",
        "      print(f'{self.real} - {abs(self.img)}i')"
      ],
      "metadata": {
        "id": "pPvWrGJM41Fz"
      },
      "execution_count": 87,
      "outputs": []
    },
    {
      "cell_type": "code",
      "source": [
        "c1 = Complex(2,3)\n",
        "print('c1 = ', end = \"\")\n",
        "c1.print_comp()\n",
        "c2 = Complex(4,5)\n",
        "print('c2 = ', end = \"\")\n",
        "c2.print_comp()\n",
        "c3 = c1 + c2  # addition using operator overloading\n",
        "print(\"c1 + c2 = \", end=\"\")\n",
        "c3.print_comp()\n",
        "c4 = c1 - c2  # subtraction using operator overloading\n",
        "print(\"c1 - c2 = \", end=\"\")\n",
        "c4.print_comp()\n",
        "c5 = c1 * c2  # multiplication using operator overloading\n",
        "print(\"c1 * c2 = \", end=\"\")\n",
        "c5.print_comp()\n",
        "c6 = c1 / c2  # division using operator overloading\n",
        "print(\"c1 / c2 = \", end=\"\")\n",
        "c6.print_comp()"
      ],
      "metadata": {
        "colab": {
          "base_uri": "https://localhost:8080/"
        },
        "id": "zgq7TAIU6LQu",
        "outputId": "4f3fbef2-b0ac-4b95-8b3c-10f30ab67bff"
      },
      "execution_count": 88,
      "outputs": [
        {
          "output_type": "stream",
          "name": "stdout",
          "text": [
            "c1 = 2 + 3i\n",
            "c2 = 4 + 5i\n",
            "c1 + c2 = 6 + 8i\n",
            "c1 - c2 = -2 - 2i\n",
            "c1 * c2 = -7 + 22i\n",
            "c1 / c2 = 0.56 + 0.05i\n"
          ]
        }
      ]
    },
    {
      "cell_type": "code",
      "source": [
        "c1 = Complex(2,3)\n",
        "print('c1 = ', end = \"\")\n",
        "c1.print_comp()\n",
        "c2 = Complex(4,5)\n",
        "print('c2 = ', end = \"\")\n",
        "c2.print_comp()\n",
        "c3 = c1.add_comp(c2)  # addition without operator overloading\n",
        "print(\"c1 + c2 = \", end=\"\")\n",
        "c3.print_comp()\n",
        "c4 = c1.sub_comp(c2)  # subtraction without operator overloading\n",
        "print(\"c1 - c2 = \", end=\"\")\n",
        "c4.print_comp()\n",
        "c5 = c1.mul_comp(c2)  # multiplication without operator overloading\n",
        "print(\"c1 * c2 = \", end=\"\")\n",
        "c5.print_comp()\n",
        "c6 = c1.div_comp(c2)  # division without operator overloading\n",
        "print(\"c1 / c2 = \", end=\"\")\n",
        "c6.print_comp()"
      ],
      "metadata": {
        "colab": {
          "base_uri": "https://localhost:8080/"
        },
        "id": "HTOUpe7R6gUy",
        "outputId": "987933f0-de85-4829-e4ab-d3c1c7b9a583"
      },
      "execution_count": 89,
      "outputs": [
        {
          "output_type": "stream",
          "name": "stdout",
          "text": [
            "c1 = 2 + 3i\n",
            "c2 = 4 + 5i\n",
            "c1 + c2 = 6 + 8i\n",
            "c1 - c2 = -2 - 2i\n",
            "c1 * c2 = -7 + 22i\n",
            "c1 / c2 = 0.56 + 0.05i\n"
          ]
        }
      ]
    },
    {
      "cell_type": "code",
      "source": [],
      "metadata": {
        "id": "8y7dhZEf6iXw"
      },
      "execution_count": null,
      "outputs": []
    }
  ]
}