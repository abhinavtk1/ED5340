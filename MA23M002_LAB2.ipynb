{
  "nbformat": 4,
  "nbformat_minor": 0,
  "metadata": {
    "colab": {
      "provenance": []
    },
    "kernelspec": {
      "name": "python3",
      "display_name": "Python 3"
    },
    "language_info": {
      "name": "python"
    }
  },
  "cells": [
    {
      "cell_type": "markdown",
      "source": [
        "# Lab 2 : Conditional Statements & Lists\n"
      ],
      "metadata": {
        "id": "8AsugFGsozMX"
      }
    },
    {
      "cell_type": "markdown",
      "source": [
        "Q1. Write a program to print numbers divisible by both 7 and 8. Numbers between 1 and 1000.\n",
        "\n",
        "[Numbers like 56, which are both divisible by 7 and 8]\n",
        "\n",
        "a. Using continue statement\n",
        "\n",
        "b. Using the pass statement\n",
        "\n"
      ],
      "metadata": {
        "id": "GPNOzoW-lupF"
      }
    },
    {
      "cell_type": "code",
      "execution_count": 1,
      "metadata": {
        "colab": {
          "base_uri": "https://localhost:8080/"
        },
        "id": "bnWEGS4Kjz9H",
        "outputId": "22276e32-8395-4af6-d234-c4ecef2bd6df"
      },
      "outputs": [
        {
          "output_type": "stream",
          "name": "stdout",
          "text": [
            "56\n",
            "112\n",
            "168\n",
            "224\n",
            "280\n",
            "336\n",
            "392\n",
            "448\n",
            "504\n",
            "560\n",
            "616\n",
            "672\n",
            "728\n",
            "784\n",
            "840\n",
            "896\n",
            "952\n"
          ]
        }
      ],
      "source": [
        "# Using continue statement\n",
        "for num in range(1, 1001):\n",
        "    if num % 7 != 0 or num % 8 != 0:\n",
        "        continue  # skip print\n",
        "    print(num)\n"
      ]
    },
    {
      "cell_type": "code",
      "source": [
        "# Using pass statement\n",
        "for num in range(1, 1001):\n",
        "    if num % 7 != 0 or num % 8 != 0:\n",
        "        pass  # do nothing\n",
        "    else:\n",
        "      print(num)"
      ],
      "metadata": {
        "colab": {
          "base_uri": "https://localhost:8080/"
        },
        "id": "8kZRMgx7lz4q",
        "outputId": "134da3b3-b6ef-4448-cb6c-99fdfcb24be9"
      },
      "execution_count": 2,
      "outputs": [
        {
          "output_type": "stream",
          "name": "stdout",
          "text": [
            "56\n",
            "112\n",
            "168\n",
            "224\n",
            "280\n",
            "336\n",
            "392\n",
            "448\n",
            "504\n",
            "560\n",
            "616\n",
            "672\n",
            "728\n",
            "784\n",
            "840\n",
            "896\n",
            "952\n"
          ]
        }
      ]
    },
    {
      "cell_type": "code",
      "source": [],
      "metadata": {
        "id": "q3pIR93Hl1mb"
      },
      "execution_count": 2,
      "outputs": []
    },
    {
      "cell_type": "markdown",
      "source": [
        "Q2. Number 34567222541147 has been given. Print the addition of all even digits and the addition of all odd digits.\n",
        "\n"
      ],
      "metadata": {
        "id": "sOiSDfill45v"
      }
    },
    {
      "cell_type": "code",
      "source": [
        "n = 34567222541147\n",
        "\n",
        "n_str = str(n)  # convert to str\n",
        "\n",
        "evenSum = 0\n",
        "oddSum = 0\n",
        "\n",
        "# Iterate through each digit\n",
        "for i in n_str:\n",
        "    i = int(i)\n",
        "\n",
        "    # Check if the digit is even or odd\n",
        "    if i % 2 == 0:\n",
        "        evenSum += i\n",
        "    else:\n",
        "        oddSum += i\n",
        "\n",
        "print(\"Sum of even digits:\", evenSum)\n",
        "print(\"Sum of odd digits:\", oddSum)\n"
      ],
      "metadata": {
        "colab": {
          "base_uri": "https://localhost:8080/"
        },
        "id": "pAvt0Xgwl5nu",
        "outputId": "0167e62b-2b48-4ffa-e62b-6881b8c41869"
      },
      "execution_count": 3,
      "outputs": [
        {
          "output_type": "stream",
          "name": "stdout",
          "text": [
            "Sum of even digits: 24\n",
            "Sum of odd digits: 29\n"
          ]
        }
      ]
    },
    {
      "cell_type": "code",
      "source": [],
      "metadata": {
        "id": "Pp2ApMslmLR4"
      },
      "execution_count": 3,
      "outputs": []
    },
    {
      "cell_type": "markdown",
      "source": [
        "3. Describe conditional expression. Write a program to print the maximum and minimum numbers from a list using conditional expression. Use the max () and min () functions to verify your output.\n",
        "\n"
      ],
      "metadata": {
        "id": "83K962SAmOE7"
      }
    },
    {
      "cell_type": "code",
      "source": [
        "arr = [3, 5, 7, 2, 10, 3, 1, 8]\n",
        "maxVal = arr[0]\n",
        "minVal = arr[0]\n",
        "for i in arr:\n",
        "  maxVal = i if i > maxVal else maxVal\n",
        "  minVal = i if i < minVal else minVal\n",
        "\n",
        "print(\"Max value = \", maxVal)\n",
        "print(\"Min value = \", minVal)\n",
        "print(\" \")\n",
        "print(\"Using built-in functions to verify:\")\n",
        "print(\"Max value = \", max(arr))\n",
        "print(\"Min value = \", min(arr))"
      ],
      "metadata": {
        "colab": {
          "base_uri": "https://localhost:8080/"
        },
        "id": "CPx_356SmPrx",
        "outputId": "ba5a7c45-0806-427f-de4e-f744a8da77dc"
      },
      "execution_count": 4,
      "outputs": [
        {
          "output_type": "stream",
          "name": "stdout",
          "text": [
            "Max value =  10\n",
            "Min value =  1\n",
            " \n",
            "Using built-in functions to verify:\n",
            "Max value =  10\n",
            "Min value =  1\n"
          ]
        }
      ]
    },
    {
      "cell_type": "code",
      "source": [],
      "metadata": {
        "id": "LqvZeSmWmTAJ"
      },
      "execution_count": 4,
      "outputs": []
    },
    {
      "cell_type": "markdown",
      "source": [
        "4. Pascal’s  Triangle : Print the following pattern for the given N number of rows.\n",
        "\n"
      ],
      "metadata": {
        "id": "aCQo9KhomV92"
      }
    },
    {
      "cell_type": "code",
      "source": [
        "num = 8\n",
        "list1 = []\n",
        "for i in range(num):\n",
        "  list1.append([])\n",
        "  list1[i].append(1)\n",
        "  for j in range(1, i):\n",
        "    list1[i].append(list1[i - 1][j - 1] + list1[i - 1][j])\n",
        "  if(num != 0):\n",
        "    list1[i].append(1)\n",
        "for i in range(num):\n",
        "  print(\" \" * (num - i), end = \" \", sep = \" \")\n",
        "  for j in range(0, i + 1):\n",
        "    print('{0:6}'.format(list1[i][j]), end = \" \", sep = \" \")\n",
        "  print()"
      ],
      "metadata": {
        "colab": {
          "base_uri": "https://localhost:8080/"
        },
        "id": "eKRfa4eLmcDD",
        "outputId": "03f41c28-7485-4c28-9f6b-c4d186ff2fe2"
      },
      "execution_count": 32,
      "outputs": [
        {
          "output_type": "stream",
          "name": "stdout",
          "text": [
            "              1 \n",
            "             1      1 \n",
            "            1      2      1 \n",
            "           1      3      3      1 \n",
            "          1      4      6      4      1 \n",
            "         1      5     10     10      5      1 \n",
            "        1      6     15     20     15      6      1 \n",
            "       1      7     21     35     35     21      7      1 \n"
          ]
        }
      ]
    },
    {
      "cell_type": "markdown",
      "source": [
        "5. A palindrome sentence is a phrase or sentence that reads the same forward as it does backward, ignoring spaces, punctuation, and capitalization.\n",
        "\n",
        "\n",
        "A) Take a number as input, determine if it is a palindrome, considering only numeric characters. Eg: 2442\n",
        "\n",
        "\n",
        "B) Now, take a string as an input and check whether it is Palindrome or not.  eg: \"Was it a car or a cat I saw?\"\n",
        "\n",
        "The expected output for this example will print, 'True'"
      ],
      "metadata": {
        "id": "2NLZax4EmjRO"
      }
    },
    {
      "cell_type": "code",
      "source": [
        "def palindromeFun(n):\n",
        "    n = str(n)\n",
        "    return n == n[::-1]\n",
        "\n",
        "inp = input(\"Enter a number: \")\n",
        "\n",
        "# Check and print the result\n",
        "out = palindromeFun(inp)\n",
        "print(out)\n"
      ],
      "metadata": {
        "colab": {
          "base_uri": "https://localhost:8080/"
        },
        "id": "9jR59AgHmj2j",
        "outputId": "4944e67d-3252-4be6-9cd0-f16d6acdf477"
      },
      "execution_count": 7,
      "outputs": [
        {
          "output_type": "stream",
          "name": "stdout",
          "text": [
            "Enter a number: 45654\n",
            "True\n"
          ]
        }
      ]
    },
    {
      "cell_type": "code",
      "source": [
        "def palindromeFun(s):\n",
        "    s1 = \"\"\n",
        "    for i in s:\n",
        "      if i.isalnum():\n",
        "        s1+=i.lower()\n",
        "\n",
        "    return s1 == s1[::-1]\n",
        "\n",
        "inp_Str = \"Was it a car or a cat I saw?\"\n",
        "# Check and print the result\n",
        "output = palindromeFun(inp_Str)\n",
        "print(output)\n"
      ],
      "metadata": {
        "colab": {
          "base_uri": "https://localhost:8080/"
        },
        "id": "b_aYhC_umoHi",
        "outputId": "283dc63c-666a-40ef-996c-125363e9045e"
      },
      "execution_count": 8,
      "outputs": [
        {
          "output_type": "stream",
          "name": "stdout",
          "text": [
            "True\n"
          ]
        }
      ]
    },
    {
      "cell_type": "code",
      "source": [],
      "metadata": {
        "id": "5hRB6Kfamqmj"
      },
      "execution_count": 8,
      "outputs": []
    },
    {
      "cell_type": "markdown",
      "source": [
        "6. Describe chr () and ord () functions. Write a small program to show its functionality.Using these functions,write a program to print:\n",
        "\n",
        "Pattern for N=4\n",
        "\n",
        "  A\n",
        "\n",
        "  B B\n",
        "\n",
        "  C C C\n",
        "\n",
        "  D D D D\n",
        "  "
      ],
      "metadata": {
        "id": "3R2gf4_BmvVV"
      }
    },
    {
      "cell_type": "code",
      "source": [
        "x = chr(65)\n",
        "print(x)"
      ],
      "metadata": {
        "colab": {
          "base_uri": "https://localhost:8080/"
        },
        "id": "4vR8f3DBmwfa",
        "outputId": "4eadcf7a-6d11-4b27-ec16-872dd8ddbbd4"
      },
      "execution_count": 9,
      "outputs": [
        {
          "output_type": "stream",
          "name": "stdout",
          "text": [
            "A\n"
          ]
        }
      ]
    },
    {
      "cell_type": "code",
      "source": [
        "y = ord('A')\n",
        "print(y)"
      ],
      "metadata": {
        "colab": {
          "base_uri": "https://localhost:8080/"
        },
        "id": "xR1_Ob7Xm9Y7",
        "outputId": "755a91d0-2a85-407f-b767-0ec985e6c7cf"
      },
      "execution_count": 10,
      "outputs": [
        {
          "output_type": "stream",
          "name": "stdout",
          "text": [
            "65\n"
          ]
        }
      ]
    },
    {
      "cell_type": "code",
      "source": [
        "def pattern(N):\n",
        "    for i in range(N):\n",
        "        start_ord = ord('A')\n",
        "        s = chr(start_ord+i)*(i+1)\n",
        "        for c in s:\n",
        "          print(c, end=\" \")\n",
        "        print(\"\\n\")\n",
        "\n",
        "N = int(input(\"Enter the value of N: \"))\n",
        "\n",
        "# Print the pattern\n",
        "pattern(N)\n"
      ],
      "metadata": {
        "colab": {
          "base_uri": "https://localhost:8080/"
        },
        "id": "N1wl2dzsm_W3",
        "outputId": "0a22756e-6b63-4add-a205-65ff974bed59"
      },
      "execution_count": 11,
      "outputs": [
        {
          "output_type": "stream",
          "name": "stdout",
          "text": [
            "Enter the value of N: 4\n",
            "A \n",
            "\n",
            "B B \n",
            "\n",
            "C C C \n",
            "\n",
            "D D D D \n",
            "\n"
          ]
        }
      ]
    },
    {
      "cell_type": "code",
      "source": [],
      "metadata": {
        "id": "FVY_Kg9mnEmw"
      },
      "execution_count": 11,
      "outputs": []
    },
    {
      "cell_type": "markdown",
      "source": [
        "7.You have a single list of names (each name should have first name and last name). Write a programme\n",
        "\n",
        "(a) to print the first names.\n",
        "\n",
        "(b) to print the second names.\n",
        "\n",
        "(c) to print each name as 'second_name first_name.\n",
        "\n",
        "(d) to print the names in the sorted order with respect to last name\n",
        "\n",
        "Example :Input list: ['Mark Antony', 'Mohan Raj'],\n",
        "\n",
        "Output :\n",
        "\n",
        " a) ['Mark', 'Mohan']  \n",
        "\n",
        "b) ['Antony', 'Raj']\n",
        "\n",
        "c) ['Antony Mark', 'Raj Mohan'"
      ],
      "metadata": {
        "id": "vUwdZsannNqm"
      }
    },
    {
      "cell_type": "code",
      "source": [
        "l1 = ['Mark Antony', 'Mohan Raj', 'Akshay Kumar', 'Ajay Kumar', 'Abani Singha']"
      ],
      "metadata": {
        "id": "ESyEFzlx6e1o"
      },
      "execution_count": 12,
      "outputs": []
    },
    {
      "cell_type": "code",
      "source": [
        "# Print first names\n",
        "firstNames = []\n",
        "for i in l1:\n",
        "  firstNames.append(i.split()[0])\n",
        "print(firstNames)"
      ],
      "metadata": {
        "colab": {
          "base_uri": "https://localhost:8080/"
        },
        "id": "6ed4evJ16n4u",
        "outputId": "3f39ac82-5600-4457-e01b-0afaa603c096"
      },
      "execution_count": 13,
      "outputs": [
        {
          "output_type": "stream",
          "name": "stdout",
          "text": [
            "['Mark', 'Mohan', 'Akshay', 'Ajay', 'Abani']\n"
          ]
        }
      ]
    },
    {
      "cell_type": "code",
      "source": [
        "# Print last names\n",
        "lastNames = []\n",
        "for i in l1:\n",
        "  lastNames.append(i.split()[1])\n",
        "print(lastNames)"
      ],
      "metadata": {
        "colab": {
          "base_uri": "https://localhost:8080/"
        },
        "id": "tYNGX6rl7prS",
        "outputId": "fc4339fb-a5b5-4e03-e56e-cf37b5ab5094"
      },
      "execution_count": 14,
      "outputs": [
        {
          "output_type": "stream",
          "name": "stdout",
          "text": [
            "['Antony', 'Raj', 'Kumar', 'Kumar', 'Singha']\n"
          ]
        }
      ]
    },
    {
      "cell_type": "code",
      "source": [
        "# Print last name first name\n",
        "output = []\n",
        "for i in l1:\n",
        "  output.append(\" \".join(i.split()[::-1]))\n",
        "print(output)"
      ],
      "metadata": {
        "colab": {
          "base_uri": "https://localhost:8080/"
        },
        "id": "ZTkArRLb743K",
        "outputId": "36a35757-1653-4ef4-ca46-d4f831badaf0"
      },
      "execution_count": 15,
      "outputs": [
        {
          "output_type": "stream",
          "name": "stdout",
          "text": [
            "['Antony Mark', 'Raj Mohan', 'Kumar Akshay', 'Kumar Ajay', 'Singha Abani']\n"
          ]
        }
      ]
    },
    {
      "cell_type": "code",
      "source": [
        "# print the names in the sorted order with respect to last name\n",
        "# sort output of previous question\n",
        "output.sort()\n",
        "output2 = []\n",
        "for i in output:\n",
        "  output2.append(\" \".join(i.split()[::-1]))\n",
        "print(output2)"
      ],
      "metadata": {
        "colab": {
          "base_uri": "https://localhost:8080/"
        },
        "id": "EXVHUYJanT_U",
        "outputId": "e01d6ae7-2410-47cb-8490-32cad88d55af"
      },
      "execution_count": 16,
      "outputs": [
        {
          "output_type": "stream",
          "name": "stdout",
          "text": [
            "['Mark Antony', 'Ajay Kumar', 'Akshay Kumar', 'Mohan Raj', 'Abani Singha']\n"
          ]
        }
      ]
    },
    {
      "cell_type": "code",
      "source": [],
      "metadata": {
        "id": "lDfYldYf9J-z"
      },
      "execution_count": 16,
      "outputs": []
    },
    {
      "cell_type": "markdown",
      "source": [
        " 8. WAP to find the minimum of 3 numbers using\n",
        "\n",
        " a) with conditional expressions. (No loops should be used)\n",
        "\n",
        " b) with nested conditional expression. (No loops should be used)\n",
        "\n",
        " c) similar to problem (b), find the minimum of 4 numbers."
      ],
      "metadata": {
        "id": "gWtii6monYeA"
      }
    },
    {
      "cell_type": "code",
      "source": [
        "# Input three numbers\n",
        "n1 = float(input(\"Enter the first number: \"))\n",
        "n2 = float(input(\"Enter the second number: \"))\n",
        "n3 = float(input(\"Enter the third number: \"))\n",
        "if n1<n2:\n",
        "  if n1<n3:\n",
        "    min_n = n1\n",
        "  else:\n",
        "    min_n = n3\n",
        "else:\n",
        "  if n2<n3:\n",
        "    min_n = n2\n",
        "  else:\n",
        "    min_n = n3\n",
        "\n",
        "# Output the result\n",
        "print(\"Minimum number:\", min_n)"
      ],
      "metadata": {
        "colab": {
          "base_uri": "https://localhost:8080/"
        },
        "id": "slWx1cVMnZLx",
        "outputId": "5c6c8ec3-b09c-4e18-f9d6-bcdbd7152d57"
      },
      "execution_count": 17,
      "outputs": [
        {
          "output_type": "stream",
          "name": "stdout",
          "text": [
            "Enter the first number: 4\n",
            "Enter the second number: 3\n",
            "Enter the third number: 1\n",
            "Minimum number: 1.0\n"
          ]
        }
      ]
    },
    {
      "cell_type": "code",
      "source": [
        "n1 = 5\n",
        "n2 = 3\n",
        "n3 = 1\n",
        "n4 = 8\n",
        "# Using nested conditional expressions to find the minimum\n",
        "min_n = n1 if n1<n2 and n1 < n3 and n1 < n4 else n2 if n2<n1 and n2<n3  and n2<n4 else n3 if n3<n1 and n3<n2  and n3<n4 else n4\n",
        "\n",
        "# Output the result\n",
        "print(\"Minimum number:\", min_n)\n"
      ],
      "metadata": {
        "colab": {
          "base_uri": "https://localhost:8080/"
        },
        "id": "GyDsJ__bngYp",
        "outputId": "51af967a-6363-4e81-c157-8961dc05e1b7"
      },
      "execution_count": 18,
      "outputs": [
        {
          "output_type": "stream",
          "name": "stdout",
          "text": [
            "Minimum number: 1\n"
          ]
        }
      ]
    },
    {
      "cell_type": "code",
      "source": [
        "# Input four numbers\n",
        "num1 = float(input(\"Enter the first number: \"))\n",
        "num2 = float(input(\"Enter the second number: \"))\n",
        "num3 = float(input(\"Enter the third number: \"))\n",
        "num4 = float(input(\"Enter the fourth number: \"))\n",
        "\n",
        "# Using nested conditional expressions to find the minimum of four numbers\n",
        "min_number = num1 if num1 < num2 else (num2 if num2 < num3 else (num3 if num3 < num4 else num4))\n",
        "\n",
        "# Output the result\n",
        "print(\"Minimum number:\", min_number)\n"
      ],
      "metadata": {
        "colab": {
          "base_uri": "https://localhost:8080/"
        },
        "id": "Qg2SjBvtni29",
        "outputId": "fdb0fccf-3719-4a40-9f92-ab4e4da94b09"
      },
      "execution_count": 19,
      "outputs": [
        {
          "output_type": "stream",
          "name": "stdout",
          "text": [
            "Enter the first number: 7\n",
            "Enter the second number: 4\n",
            "Enter the third number: 2\n",
            "Enter the fourth number: 2\n",
            "Minimum number: 2.0\n"
          ]
        }
      ]
    },
    {
      "cell_type": "code",
      "source": [],
      "metadata": {
        "id": "ZvBE8iyvnnZV"
      },
      "execution_count": 19,
      "outputs": []
    },
    {
      "cell_type": "markdown",
      "source": [
        "9. Create a list of departments in IIT Madras (Minimum 5 ) and perform the following operations:\n",
        "\n",
        " append\n",
        "remove\n",
        "pop\n",
        "insert\n",
        "reverse\n",
        "sort\n",
        "count\n",
        "index\n",
        "extend\n",
        "slice\n",
        "clear"
      ],
      "metadata": {
        "id": "4NxP3SaQn1G5"
      }
    },
    {
      "cell_type": "code",
      "source": [
        "# Initial list\n",
        "iitm = ['CSE', 'MA', 'ECE', 'Mech', 'BioTech', 'MSME']"
      ],
      "metadata": {
        "id": "gm8Bpe38BLoi"
      },
      "execution_count": 20,
      "outputs": []
    },
    {
      "cell_type": "code",
      "source": [
        "# Append: Add 'Chem' to the end of the list\n",
        "iitm.append('Chem')\n",
        "iitm"
      ],
      "metadata": {
        "colab": {
          "base_uri": "https://localhost:8080/"
        },
        "id": "7CwrVUbsBN7V",
        "outputId": "c85b65a0-91a3-4a25-d6ce-21fe77c67467"
      },
      "execution_count": 21,
      "outputs": [
        {
          "output_type": "execute_result",
          "data": {
            "text/plain": [
              "['CSE', 'MA', 'ECE', 'Mech', 'BioTech', 'MSME', 'Chem']"
            ]
          },
          "metadata": {},
          "execution_count": 21
        }
      ]
    },
    {
      "cell_type": "code",
      "source": [
        "# Remove: Remove 'MA' from the list\n",
        "iitm.remove('MA')\n",
        "iitm"
      ],
      "metadata": {
        "colab": {
          "base_uri": "https://localhost:8080/"
        },
        "id": "SiIRvZBMBVgW",
        "outputId": "8939a037-3d8c-4212-a376-75374ef9e281"
      },
      "execution_count": 22,
      "outputs": [
        {
          "output_type": "execute_result",
          "data": {
            "text/plain": [
              "['CSE', 'ECE', 'Mech', 'BioTech', 'MSME', 'Chem']"
            ]
          },
          "metadata": {},
          "execution_count": 22
        }
      ]
    },
    {
      "cell_type": "code",
      "source": [
        "# Pop: Remove the last element ('Chem') from the list\n",
        "iitm.pop()\n",
        "iitm"
      ],
      "metadata": {
        "colab": {
          "base_uri": "https://localhost:8080/"
        },
        "id": "IhqoC6ztBZql",
        "outputId": "b3c4efce-2200-45fe-b0f4-7c4c2393208e"
      },
      "execution_count": 23,
      "outputs": [
        {
          "output_type": "execute_result",
          "data": {
            "text/plain": [
              "['CSE', 'ECE', 'Mech', 'BioTech', 'MSME']"
            ]
          },
          "metadata": {},
          "execution_count": 23
        }
      ]
    },
    {
      "cell_type": "code",
      "source": [
        "# Insert: Insert 'MA' at index 1\n",
        "iitm.insert(1, 'MA')\n",
        "iitm"
      ],
      "metadata": {
        "colab": {
          "base_uri": "https://localhost:8080/"
        },
        "id": "4GprhEskBlrS",
        "outputId": "1a56959e-9327-4e81-cbc1-8e555387e976"
      },
      "execution_count": 24,
      "outputs": [
        {
          "output_type": "execute_result",
          "data": {
            "text/plain": [
              "['CSE', 'MA', 'ECE', 'Mech', 'BioTech', 'MSME']"
            ]
          },
          "metadata": {},
          "execution_count": 24
        }
      ]
    },
    {
      "cell_type": "code",
      "source": [
        "# Reverse\n",
        "iitm.reverse()\n",
        "iitm"
      ],
      "metadata": {
        "colab": {
          "base_uri": "https://localhost:8080/"
        },
        "id": "KeeFca4WCgxI",
        "outputId": "28551927-0527-4b7b-b76d-3ad82823ae27"
      },
      "execution_count": 25,
      "outputs": [
        {
          "output_type": "execute_result",
          "data": {
            "text/plain": [
              "['MSME', 'BioTech', 'Mech', 'ECE', 'MA', 'CSE']"
            ]
          },
          "metadata": {},
          "execution_count": 25
        }
      ]
    },
    {
      "cell_type": "code",
      "source": [
        "# Sort: Sort the list alphabetically\n",
        "iitm.sort()\n",
        "iitm"
      ],
      "metadata": {
        "colab": {
          "base_uri": "https://localhost:8080/"
        },
        "id": "nwjY-pPCCnM9",
        "outputId": "82c7652a-a177-4821-a606-8db5898d7496"
      },
      "execution_count": 26,
      "outputs": [
        {
          "output_type": "execute_result",
          "data": {
            "text/plain": [
              "['BioTech', 'CSE', 'ECE', 'MA', 'MSME', 'Mech']"
            ]
          },
          "metadata": {},
          "execution_count": 26
        }
      ]
    },
    {
      "cell_type": "code",
      "source": [
        "# Count no. of MSME\n",
        "count_msme = iitm.count('MSME')\n",
        "print(count_msme)"
      ],
      "metadata": {
        "colab": {
          "base_uri": "https://localhost:8080/"
        },
        "id": "l7VUlphoCwUG",
        "outputId": "4b889588-0078-4091-9f3e-f453cc9e6c64"
      },
      "execution_count": 27,
      "outputs": [
        {
          "output_type": "stream",
          "name": "stdout",
          "text": [
            "1\n"
          ]
        }
      ]
    },
    {
      "cell_type": "code",
      "source": [
        "# Index\n",
        "index_biotech = iitm.index('BioTech')\n",
        "print(\"Index of 'BioTech':\", index_biotech)"
      ],
      "metadata": {
        "colab": {
          "base_uri": "https://localhost:8080/"
        },
        "id": "VD0E7k9IC7E1",
        "outputId": "72c3c98e-973f-4f95-ae2c-f829d006b312"
      },
      "execution_count": 28,
      "outputs": [
        {
          "output_type": "stream",
          "name": "stdout",
          "text": [
            "Index of 'BioTech': 0\n"
          ]
        }
      ]
    },
    {
      "cell_type": "code",
      "source": [
        "# Extend\n",
        "iitm.extend(['Chem', 'Aero'])\n",
        "iitm"
      ],
      "metadata": {
        "colab": {
          "base_uri": "https://localhost:8080/"
        },
        "id": "f3NOT6tCDAOP",
        "outputId": "e711cc4c-0965-4c7f-e2b1-0e579af68bfd"
      },
      "execution_count": 29,
      "outputs": [
        {
          "output_type": "execute_result",
          "data": {
            "text/plain": [
              "['BioTech', 'CSE', 'ECE', 'MA', 'MSME', 'Mech', 'Chem', 'Aero']"
            ]
          },
          "metadata": {},
          "execution_count": 29
        }
      ]
    },
    {
      "cell_type": "code",
      "source": [
        "# Slice: Get a slice of the list from index 2 to 5\n",
        "sliced_list = iitm[2:6]\n",
        "print(sliced_list)"
      ],
      "metadata": {
        "colab": {
          "base_uri": "https://localhost:8080/"
        },
        "id": "YM1krCCbDG2T",
        "outputId": "55520cf9-ff42-41f6-f04b-cd48ea78d320"
      },
      "execution_count": 30,
      "outputs": [
        {
          "output_type": "stream",
          "name": "stdout",
          "text": [
            "['ECE', 'MA', 'MSME', 'Mech']\n"
          ]
        }
      ]
    },
    {
      "cell_type": "code",
      "source": [
        "# Clear\n",
        "iitm.clear()\n",
        "iitm"
      ],
      "metadata": {
        "colab": {
          "base_uri": "https://localhost:8080/"
        },
        "id": "ssoATaPcDNhm",
        "outputId": "2cb630cd-9839-4d19-82be-dc1c1922d478"
      },
      "execution_count": 31,
      "outputs": [
        {
          "output_type": "execute_result",
          "data": {
            "text/plain": [
              "[]"
            ]
          },
          "metadata": {},
          "execution_count": 31
        }
      ]
    },
    {
      "cell_type": "code",
      "source": [],
      "metadata": {
        "id": "Q4bXjv6VznqF"
      },
      "execution_count": 31,
      "outputs": []
    }
  ]
}